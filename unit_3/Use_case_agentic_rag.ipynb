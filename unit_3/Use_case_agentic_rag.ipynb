{
 "cells": [
  {
   "cell_type": "markdown",
   "id": "23b6ad6e-2c5b-4565-9560-2f7a3940a430",
   "metadata": {},
   "source": [
    "In this unit, we will help Alfred, our friendly agent who is hosting the gala, by using Agentic RAG to create a tool that can be used to answer questions about the guests at the gala."
   ]
  },
  {
   "cell_type": "markdown",
   "id": "3cc2d356-ede5-488c-9ec9-cc59542e6f4a",
   "metadata": {},
   "source": [
    "## A Gala to Remember\n",
    "\n",
    "\n",
    "Now, it’s time to get our hands dirty with an actual use case. Let’s set the stage!\n",
    "\n",
    "**You decided to host the most extravagant and opulent party of the century**. This means lavish feasts, enchanting dancers, renowned DJs, exquisite drinks, a breathtaking fireworks display, and much more.\n",
    "\n",
    "Alfred, your friendly neighbourhood agent, is getting ready to watch over all of your needs for this party, and **Alfred is going to manage everything himself**. To do so, he needs to have access to all of the information about the party, including the menu, the guests, the schedule, weather forecasts, and much more!\n",
    "\n",
    "Not only that, but he also needs to make sure that the party is going to be a success, so **he needs to be able to answer any questions about the party during the party**, whilst handling unexpected situations that may arise.\n",
    "\n",
    "He can’t do this alone, so we need to make sure that Alfred has access to all of the information and tools he needs.\n",
    "\n",
    "First, let’s give him a list of hard requirements for the gala.\n",
    "\n",
    "## The Gala Requirements\n",
    "A properly educated person in the age of the **Renaissance** needs to have three main traits. He or she needed to be profound in the **knowledge of sports, culture, and science**. So, we need to make sure we can impress our guests with our knowledge and provide them with a truly unforgettable gala. However, to avoid any conflicts, there are some **topics, like politics and religion, that are to be avoided at a gala**. It needs to be a fun party without conflicts related to beliefs and ideals.\n",
    "\n",
    "According to etiquette, **a good host should be aware of guests’ backgrounds**, including their interests and endeavours. A good host also gossips and shares stories about the guests with one another.\n",
    "\n",
    "Lastly, we need to make sure that we’ve got **some general knowledge about the weather** to ensure we can continuously find a real-time update to ensure perfect timing to launch the fireworks and end the gala with a bang! 🎆\n",
    "\n",
    "As you can see, Alfred needs a lot of information to host the gala. Luckily, we can help and prepare Alfred by giving him some **Retrieval Augmented Generation (RAG) training**!\n",
    "\n",
    "Let’s start by creating the tools that Alfred needs to be able to host the gala!\n",
    "\n"
   ]
  },
  {
   "cell_type": "markdown",
   "id": "b64d171a-c79d-4fbc-90a1-35f0bec72dd5",
   "metadata": {},
   "source": [
    "## Agentic Retrieval Augmented Generation (RAG)\n",
    "In this unit, we’ll be taking a look at how we can use Agentic RAG to help Alfred prepare for the amazing gala.\n",
    "\n",
    "LLMs are trained on enormous bodies of data to learn general knowledge. However, the world knowledge model of LLMs may not always be relevant and up-to-date information. **RAG solves this problem by finding and retrieving relevant information from your data and forwarding that to the LLM**.\n",
    "\n",
    "![](../../image/rag.png)"
   ]
  },
  {
   "cell_type": "markdown",
   "id": "1ecc0625-0e6d-4039-b6ee-6c09b0b1b0d1",
   "metadata": {},
   "source": [
    "Now, think about how Alfred works:\n",
    "\n",
    "1. We’ve asked Alfred to help plan a gala\n",
    "2. Alfred needs to find the latest news and weather information\n",
    "3. Alfred needs to structure and search the guest information\n",
    "\n",
    "Just as Alfred needs to search through your household information to be helpful, any agent needs a way to find and understand relevant data. **Agentic RAG is a powerful way to use agents to answer questions about your data**. We can pass various tools to Alfred to help him answer questions. However, instead of answering the question on top of documents automatically, Alfred can decide to use any other tool or flow to answer the question.\n",
    "\n",
    "![](../../image/agentic-rag.png)\n",
    "\n",
    "\n",
    "Let’s start building our agentic RAG workflow!\n",
    "\n",
    "First, we’ll create a RAG tool to retrieve up-to-date details about the invitees. Next, we’ll develop tools for web search, weather updates, and Hugging Face Hub model download statistics. Finally, we’ll integrate everything to bring our agentic RAG agent to life!"
   ]
  },
  {
   "cell_type": "markdown",
   "id": "1379f647-294f-49e3-b568-9fc2f328966c",
   "metadata": {},
   "source": [
    "## Creating a RAG Tool for Guest Stories\n",
    "Alfred, your trusted agent, is preparing for the most extravagant gala of the century. To ensure the event runs smoothly, Alfred needs quick access to up-to-date information about each guest. Let’s help Alfred by creating a custom Retrieval-Augmented Generation (RAG) tool, powered by our custom dataset.\n",
    "\n",
    "\n",
    "### Why Rag for a Gala?\n",
    "\n",
    "Imagine Alfred mingling among the guests, needing to recall specific details about each person at a moment’s notice. A traditional LLM might struggle with this task because:\n",
    "\n",
    "- The guest list is specific to your event and not in the model’s training data\n",
    "- Guest information may change or be updated frequently\n",
    "- Alfred needs to retrieve precise details like email addresses\n",
    "This is where Retrieval Augmented Generation (RAG) shines! By combining a retrieval system with an LLM, Alfred can access accurate, up-to-date information about your guests on demand."
   ]
  },
  {
   "cell_type": "markdown",
   "id": "f31cbde7-c21e-4a11-8a03-3083200006cc",
   "metadata": {},
   "source": [
    "## data set overview\n",
    "Our dataset [agents-course/unit3-invitees](https://huggingface.co/datasets/agents-course/unit3-invitees) contains the following fields for each guest:\n",
    "\n",
    "- Name: Guest’s full name\n",
    "- Relation: How the guest is related to the host\n",
    "- Description: A brief biography or interesting facts about the guest\n",
    "- Email Address: Contact information for sending invitations or follow-ups\n"
   ]
  },
  {
   "cell_type": "markdown",
   "id": "121bd73d-33ed-4808-aa96-d9d75991b819",
   "metadata": {},
   "source": [
    "## Building the Guestbook Tool\n",
    "We’ll create a custom tool that Alfred can use to quickly retrieve guest information during the gala. Let’s break this down into three manageable steps:\n",
    "\n",
    "- Load and prepare the dataset\n",
    "- Create the Retriever Tool\n",
    "- Integrate the Tool with Alfred\n",
    "\n",
    "Let’s start with loading and preparing the dataset!"
   ]
  },
  {
   "cell_type": "code",
   "execution_count": null,
   "id": "ef0f9047-5a2b-4e05-8a61-7caad752a6be",
   "metadata": {},
   "outputs": [],
   "source": [
    "import datasets\n",
    "from langchain_core.documents import Document\n",
    "\n",
    "# Load the dataset\n",
    "guest_dataset = datasets.load_dataset(\"agents-course/unit3-invitees\", split=\"train\")\n",
    "\n",
    "# Convert dataset entries into Document objects\n",
    "docs = [\n",
    "    Document(\n",
    "        page_content=\"\\n\".join([\n",
    "            f\"Name: {guest['name']}\",\n",
    "            f\"Relation: {guest['relation']}\",\n",
    "            f\"Description: {guest['description']}\",\n",
    "            f\"Email: {guest['email']}\"\n",
    "        ]),\n",
    "        metadata={\"name\": guest[\"name\"]}\n",
    "    )\n",
    "    for guest in guest_dataset\n",
    "]"
   ]
  },
  {
   "cell_type": "markdown",
   "id": "9a800f3e-8e57-4ee4-8630-3e9b00c21cc5",
   "metadata": {},
   "source": [
    "In the code above, we:\n",
    "\n",
    "- Load the dataset\n",
    "- Convert each guest entry into a Document object with formatted content\n",
    "- Store the Document objects in a list\n",
    "This means we’ve got all of our data nicely available so we can get started with configuring our retrieval."
   ]
  }
 ],
 "metadata": {
  "kernelspec": {
   "display_name": "Python 3 (ipykernel)",
   "language": "python",
   "name": "python3"
  },
  "language_info": {
   "codemirror_mode": {
    "name": "ipython",
    "version": 3
   },
   "file_extension": ".py",
   "mimetype": "text/x-python",
   "name": "python",
   "nbconvert_exporter": "python",
   "pygments_lexer": "ipython3",
   "version": "3.10.17"
  }
 },
 "nbformat": 4,
 "nbformat_minor": 5
}
