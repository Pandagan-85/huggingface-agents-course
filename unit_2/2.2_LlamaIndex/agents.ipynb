{
 "cells": [
  {
   "cell_type": "markdown",
   "metadata": {
    "vscode": {
     "languageId": "plaintext"
    }
   },
   "source": [
    "# Agents in LlamaIndex\n",
    "\n",
    "This notebook is part of the [Hugging Face Agents Course](https://www.hf.co/learn/agents-course), a free Course from beginner to expert, where you learn to build Agents.\n",
    "\n",
    "![Agents course share](https://huggingface.co/datasets/agents-course/course-images/resolve/main/en/communication/share.png)\n",
    "\n",
    "## Let's install the dependencies\n",
    "\n",
    "We will install the dependencies for this unit."
   ]
  },
  {
   "cell_type": "code",
   "execution_count": null,
   "metadata": {},
   "outputs": [],
   "source": [
    "!pip install llama-index llama-index-vector-stores-chroma llama-index-llms-huggingface-api llama-index-embeddings-huggingface -U -q"
   ]
  },
  {
   "cell_type": "markdown",
   "metadata": {},
   "source": [
    "And, let's log in to Hugging Face to use serverless Inference APIs."
   ]
  },
  {
   "cell_type": "code",
   "execution_count": null,
   "metadata": {},
   "outputs": [],
   "source": [
    "from huggingface_hub import login\n",
    "\n",
    "login()"
   ]
  },
  {
   "cell_type": "markdown",
   "metadata": {},
   "source": [
    "## Using Agents i LlamaIndex\n",
    "> An Agent is a system that leverages an AI model to interact with its environment to achieve a user-defined objective. It combines reasoning, planning, and action execution (often via external tools) to fulfil tasks.\n",
    "\n",
    "LlamaIndex supports three main types of reasoning agents:\n",
    "\n",
    "![](../../image/agents_llama.png)\n",
    "\n",
    "- `Function Calling Agents` - These work with AI models that can call specific functions.\n",
    "- `ReAct Agents` - These can work with any AI that does chat or text endpoint and deal with complex reasoning tasks.\n",
    "- `Advanced Custom Agents` - These use more complex methods to deal with more complex tasks and workflows."
   ]
  },
  {
   "cell_type": "markdown",
   "metadata": {
    "vscode": {
     "languageId": "plaintext"
    }
   },
   "source": [
    "## Initialising agents\n",
    "\n",
    "To create an agent, we start by providing it with a set of functions/tools that define its **capabilities**. Let’s look at how to create an agent with some basic tools. As of this writing, the agent will automatically use the function calling API (if available), or a standard ReAct agent loop.\n",
    "\n",
    "LLMs that support a tools/functions API are relatively new, but they provide a powerful way to call tools by avoiding specific prompting and allowing the LLM to create tool calls based on provided schemas.\n",
    "\n",
    "ReAct agents are also good at complex reasoning tasks and can work with any LLM that has chat or text completion capabilities. They are more verbose, and show the reasoning behind certain actions that they take.\n",
    "\n",
    "\n",
    "Let's start by initialising an agent. We will use the basic `AgentWorkflow` class to create an agent."
   ]
  },
  {
   "cell_type": "code",
   "execution_count": 1,
   "metadata": {},
   "outputs": [],
   "source": [
    "from llama_index.llms.huggingface_api import HuggingFaceInferenceAPI\n",
    "from llama_index.core.agent.workflow import AgentWorkflow, ToolCallResult, AgentStream\n",
    "from llama_index.core.tools import FunctionTool\n",
    "\n",
    "\n",
    "def add(a: int, b: int) -> int:\n",
    "    \"\"\"Add two numbers\"\"\"\n",
    "    return a + b\n",
    "\n",
    "\n",
    "def subtract(a: int, b: int) -> int:\n",
    "    \"\"\"Subtract two numbers\"\"\"\n",
    "    return a - b\n",
    "\n",
    "\n",
    "def multiply(a: int, b: int) -> int:\n",
    "    \"\"\"Multiply two numbers\"\"\"\n",
    "    return a * b\n",
    "\n",
    "\n",
    "def divide(a: int, b: int) -> int:\n",
    "    \"\"\"Divide two numbers\"\"\"\n",
    "    return a / b\n",
    "\n",
    "# initialize llm\n",
    "llm = HuggingFaceInferenceAPI(model_name=\"Qwen/Qwen2.5-Coder-32B-Instruct\")\n",
    "\n",
    "# initialize agent\n",
    "agent = AgentWorkflow.from_tools_or_functions(\n",
    "    tools_or_functions=[subtract, multiply, divide, add],\n",
    "    llm=llm,\n",
    "    system_prompt=\"You are a math agent that can add, subtract, multiply, and divide numbers using provided tools.\",\n",
    ")"
   ]
  },
  {
   "cell_type": "markdown",
   "metadata": {},
   "source": [
    "Then, we can run the agent and get the response and reasoning behind the tool calls."
   ]
  },
  {
   "cell_type": "code",
   "execution_count": 2,
   "metadata": {},
   "outputs": [
    {
     "name": "stdout",
     "output_type": "stream",
     "text": [
      "Thought: The current language of the user is: English. I need to use a tool to help me answer the question.\n",
      "Action: add\n",
      "Action Input: {\"a\": 2, \"b\": 2}\n",
      "\n",
      "Called tool:  add {'a': 2, 'b': 2} => 4\n",
      "Thought: Now I need to multiply the result by 2.\n",
      "Action: multiply\n",
      "Action Input: {'a': 4, 'b': 2}\n",
      "Called tool:  multiply {'a': 4, 'b': 2} => 8\n",
      "Thought: I can answer without using any more tools. I'll use the user's language to answer\n",
      "Answer: (2 + 2) * 2 = 8"
     ]
    },
    {
     "data": {
      "text/plain": [
       "AgentOutput(response=ChatMessage(role=<MessageRole.ASSISTANT: 'assistant'>, additional_kwargs={}, blocks=[TextBlock(block_type='text', text='(2 + 2) * 2 = 8')]), tool_calls=[ToolCallResult(tool_name='add', tool_kwargs={'a': 2, 'b': 2}, tool_id='80e2ee86-2b5c-4a68-be17-e3bfb3c3fe76', tool_output=ToolOutput(content='4', tool_name='add', raw_input={'args': (), 'kwargs': {'a': 2, 'b': 2}}, raw_output=4, is_error=False), return_direct=False), ToolCallResult(tool_name='multiply', tool_kwargs={'a': 4, 'b': 2}, tool_id='bb4f1117-2567-40fb-92bb-8905159d270c', tool_output=ToolOutput(content='8', tool_name='multiply', raw_input={'args': (), 'kwargs': {'a': 4, 'b': 2}}, raw_output=8, is_error=False), return_direct=False)], raw=ChatCompletionStreamOutput(choices=[ChatCompletionStreamOutputChoice(delta=ChatCompletionStreamOutputDelta(role='assistant', content='8', tool_call_id=None, tool_calls=None), index=0, finish_reason=None, logprobs=None)], created=1749544933, id='', model='Qwen/Qwen2.5-Coder-32B-Instruct', system_fingerprint='3.2.1-sha-4d28897', usage=None, object='chat.completion.chunk'), current_agent_name='Agent')"
      ]
     },
     "execution_count": 2,
     "metadata": {},
     "output_type": "execute_result"
    }
   ],
   "source": [
    "handler = agent.run(\"What is (2 + 2) * 2?\")\n",
    "async for ev in handler.stream_events():\n",
    "    if isinstance(ev, ToolCallResult):\n",
    "        print(\"\")\n",
    "        print(\"Called tool: \", ev.tool_name, ev.tool_kwargs, \"=>\", ev.tool_output)\n",
    "    elif isinstance(ev, AgentStream):  # showing the thought process\n",
    "        print(ev.delta, end=\"\", flush=True)\n",
    "\n",
    "resp = await handler\n",
    "resp"
   ]
  },
  {
   "cell_type": "markdown",
   "metadata": {},
   "source": [
    "**Agents are stateless by default**, add remembering past interactions is opt-in using a `Context object` This might be useful if you want to use an agent that needs to remember previous interactions, like a chatbot that maintains context across multiple messages or a task manager that needs to track progress over time."
   ]
  },
  {
   "cell_type": "markdown",
   "metadata": {},
   "source": [
    "In a similar fashion, we can pass state and context to the agent.\n"
   ]
  },
  {
   "cell_type": "code",
   "execution_count": 3,
   "metadata": {},
   "outputs": [
    {
     "data": {
      "text/plain": [
       "AgentOutput(response=ChatMessage(role=<MessageRole.ASSISTANT: 'assistant'>, additional_kwargs={}, blocks=[TextBlock(block_type='text', text='Your name is Bob.')]), tool_calls=[], raw=ChatCompletionStreamOutput(choices=[ChatCompletionStreamOutputChoice(delta=ChatCompletionStreamOutputDelta(role='assistant', content='.', tool_call_id=None, tool_calls=None), index=0, finish_reason=None, logprobs=None)], created=1749544945, id='', model='Qwen/Qwen2.5-Coder-32B-Instruct', system_fingerprint='3.2.1-sha-4d28897', usage=None, object='chat.completion.chunk'), current_agent_name='Agent')"
      ]
     },
     "execution_count": 3,
     "metadata": {},
     "output_type": "execute_result"
    }
   ],
   "source": [
    "from llama_index.core.workflow import Context\n",
    "\n",
    "ctx = Context(agent)\n",
    "\n",
    "response = await agent.run(\"My name is Bob.\", ctx=ctx)\n",
    "response = await agent.run(\"What was my name again?\", ctx=ctx)\n",
    "response"
   ]
  },
  {
   "cell_type": "markdown",
   "metadata": {},
   "source": [
    "You’ll notice that agents in LlamaIndex are async because they use Python’s `await` operator. If you are new to async code in Python, or need a refresher, they have an [excellent async guide](https://docs.llamaindex.ai/en/stable/getting_started/async_python/).\n",
    "\n",
    "Now we’ve gotten the basics, let’s take a look at how we can use more complex tools in our agents."
   ]
  },
  {
   "cell_type": "markdown",
   "metadata": {},
   "source": [
    "## Creating RAG Agents with QueryEngineTools\n",
    "\n",
    "**Agentic RAG is a powerful way to use agents to answer questions about your data**. We can pass various tools to Alfred to help him answer questions. However, instead of answering the question on top of documents automatically, Alfred can decide to use any other tool or flow to answer the question.\n",
    "![](../../image/agentic-rag.png)\n",
    "\n",
    "\n",
    "\n",
    "Let's now re-use the `QueryEngine` we defined in the [previous unit on tools](/tools.ipynb) and convert it into a `QueryEngineTool`. We will pass it to the `AgentWorkflow` class to create a RAG agent."
   ]
  },
  {
   "cell_type": "code",
   "execution_count": 4,
   "metadata": {},
   "outputs": [],
   "source": [
    "import chromadb\n",
    "\n",
    "from llama_index.core import VectorStoreIndex\n",
    "from llama_index.llms.huggingface_api import HuggingFaceInferenceAPI\n",
    "from llama_index.embeddings.huggingface import HuggingFaceEmbedding\n",
    "from llama_index.core.tools import QueryEngineTool\n",
    "from llama_index.vector_stores.chroma import ChromaVectorStore\n",
    "\n",
    "# Create a vector store\n",
    "db = chromadb.PersistentClient(path=\"./alfred_chroma_db\")\n",
    "chroma_collection = db.get_or_create_collection(\"alfred\")\n",
    "vector_store = ChromaVectorStore(chroma_collection=chroma_collection)\n",
    "\n",
    "# Create a query engine\n",
    "embed_model = HuggingFaceEmbedding(model_name=\"BAAI/bge-small-en-v1.5\")\n",
    "llm = HuggingFaceInferenceAPI(model_name=\"Qwen/Qwen2.5-Coder-32B-Instruct\")\n",
    "index = VectorStoreIndex.from_vector_store(\n",
    "    vector_store=vector_store, embed_model=embed_model\n",
    ")\n",
    "query_engine = index.as_query_engine(llm=llm)\n",
    "query_engine_tool = QueryEngineTool.from_defaults(\n",
    "    query_engine=query_engine,\n",
    "    name=\"personas\",\n",
    "    description=\"descriptions for various types of personas\",\n",
    "    return_direct=False,\n",
    ")\n",
    "\n",
    "# Create a RAG agent\n",
    "query_engine_agent = AgentWorkflow.from_tools_or_functions(\n",
    "    tools_or_functions=[query_engine_tool],\n",
    "    llm=llm,\n",
    "    system_prompt=\"You are a helpful assistant that has access to a database containing persona descriptions. \",\n",
    ")"
   ]
  },
  {
   "cell_type": "markdown",
   "metadata": {},
   "source": [
    "And, we can once more get the response and reasoning behind the tool calls."
   ]
  },
  {
   "cell_type": "code",
   "execution_count": 5,
   "metadata": {},
   "outputs": [
    {
     "name": "stdout",
     "output_type": "stream",
     "text": [
      "Thought: The current language of the user is: English. I need to use a tool to help me answer the question.\n",
      "Action: personas\n",
      "Action Input: {\"input\": \"science fiction\"}\n",
      "Called tool:  personas {'input': 'science fiction'} => Science fiction does not seem to be directly related to the interests of the individuals described. One is focused on Cypriot culture, history, and society, while the other is interested in 19th-century American art and the cultural heritage of Cincinnati. Neither of these personas has a stated interest in science fiction.\n",
      "Thought: Given the current personas, there is no direct match for 'science fiction'. I will request new persona descriptions that are more aligned with the 'science fiction' theme.\n",
      "Action: personas\n",
      "Action Input: {'input': 'science fiction enthusiasts'}\n",
      "Called tool:  personas {'input': 'science fiction enthusiasts'} => The provided context does not include any information about science fiction enthusiasts. The details given pertain to a local art historian and museum professional focusing on 19th-century American art and Cincinnati's cultural heritage, as well as an anthropologist or cultural expert with expertise in Cypriot culture, history, and society. There is no mention of science fiction or enthusiasts of this genre.\n",
      "Thought: It seems the current personas do not include science fiction enthusiasts. I will request new persona descriptions specifically for science fiction enthusiasts.\n",
      "Action: personas\n",
      "Action Input: {'input': 'science fiction enthusiasts'}\n",
      "Called tool:  personas {'input': 'science fiction enthusiasts'} => The provided context does not include any information about science fiction enthusiasts. The details given pertain to a local art historian and museum professional focusing on 19th-century American art and Cincinnati's cultural heritage, as well as an anthropologist or cultural expert with expertise in Cypriot culture, history, and society. There is no mention of science fiction or enthusiasts of this genre.\n",
      "Thought: It appears that the current set of personas does not include any descriptions for science fiction enthusiasts. Since the tool is not providing the expected results, I will attempt to create some hypothetical persona descriptions for science fiction enthusiasts based on common traits and interests.\n",
      "\n",
      "Thought: I can answer without using any more tools. I'll use the user's language to answer\n",
      "Answer: Here are some hypothetical persona descriptions for science fiction enthusiasts:\n",
      "\n",
      "1. **Alex Johnson**\n",
      "   - **Age**: 35\n",
      "   - **Occupation**: Software Engineer\n",
      "   - **Location**: San Francisco, CA\n",
      "   - **Interests**: Science fiction, technology, gaming, and space exploration\n",
      "   - **Background**: Alex is a software engineer who spends his free time reading science fiction novels and watching movies. He is particularly interested in the intersection of technology and storytelling, and he often attends science fiction conventions and participates in online forums to discuss his favorite books and movies.\n",
      "\n",
      "2. **Mia Patel**\n",
      "   - **Age**: 28\n",
      "   - **Occupation**: Librarian\n",
      "   - **Location**: New York City, NY\n",
      "   - **Interests**: Science fiction, fantasy, and speculative fiction\n",
      "   - **Background**: Mia is a librarian who has a passion for"
     ]
    },
    {
     "data": {
      "text/plain": [
       "AgentOutput(response=ChatMessage(role=<MessageRole.ASSISTANT: 'assistant'>, additional_kwargs={}, blocks=[TextBlock(block_type='text', text='Here are some hypothetical persona descriptions for science fiction enthusiasts:\\n\\n1. **Alex Johnson**\\n   - **Age**: 35\\n   - **Occupation**: Software Engineer\\n   - **Location**: San Francisco, CA\\n   - **Interests**: Science fiction, technology, gaming, and space exploration\\n   - **Background**: Alex is a software engineer who spends his free time reading science fiction novels and watching movies. He is particularly interested in the intersection of technology and storytelling, and he often attends science fiction conventions and participates in online forums to discuss his favorite books and movies.\\n\\n2. **Mia Patel**\\n   - **Age**: 28\\n   - **Occupation**: Librarian\\n   - **Location**: New York City, NY\\n   - **Interests**: Science fiction, fantasy, and speculative fiction\\n   - **Background**: Mia is a librarian who has a passion for')]), tool_calls=[ToolCallResult(tool_name='personas', tool_kwargs={'input': 'science fiction'}, tool_id='162f2e2b-8baa-439d-b0da-8f2c77ffe81f', tool_output=ToolOutput(content='Science fiction does not seem to be directly related to the interests of the individuals described. One is focused on Cypriot culture, history, and society, while the other is interested in 19th-century American art and the cultural heritage of Cincinnati. Neither of these personas has a stated interest in science fiction.', tool_name='personas', raw_input={'input': 'science fiction'}, raw_output=Response(response='Science fiction does not seem to be directly related to the interests of the individuals described. One is focused on Cypriot culture, history, and society, while the other is interested in 19th-century American art and the cultural heritage of Cincinnati. Neither of these personas has a stated interest in science fiction.', source_nodes=[NodeWithScore(node=TextNode(id_='0aff1520-474a-47c3-8f25-5c8cc9bacff0', embedding=None, metadata={'file_path': '/Users/pandagan/workspace/projects/hugging_face_agent_course/unit_2/2.2_LlamaIndex/data/persona_1.txt', 'file_name': 'persona_1.txt', 'file_type': 'text/plain', 'file_size': 266, 'creation_date': '2025-06-10', 'last_modified_date': '2025-06-10'}, excluded_embed_metadata_keys=['file_name', 'file_type', 'file_size', 'creation_date', 'last_modified_date', 'last_accessed_date'], excluded_llm_metadata_keys=['file_name', 'file_type', 'file_size', 'creation_date', 'last_modified_date', 'last_accessed_date'], relationships={<NodeRelationship.SOURCE: '1'>: RelatedNodeInfo(node_id='3340a5df-67a7-4920-b42e-1dc79e610e94', node_type='4', metadata={'file_path': '/Users/pandagan/workspace/projects/hugging_face_agent_course/unit_2/2.2_LlamaIndex/data/persona_1.txt', 'file_name': 'persona_1.txt', 'file_type': 'text/plain', 'file_size': 266, 'creation_date': '2025-06-10', 'last_modified_date': '2025-06-10'}, hash='3ce1034f9d9c3be5c5aa644847489829b29cfbc58fe9e19283415360ede93695')}, metadata_template='{key}: {value}', metadata_separator='\\n', text='An anthropologist or a cultural expert interested in the intricacies of Cypriot culture, history, and society, particularly someone who has spent considerable time researching and living in Cyprus to gain a deep understanding of its people, customs, and way of life.', mimetype='text/plain', start_char_idx=0, end_char_idx=266, metadata_seperator='\\n', text_template='{metadata_str}\\n\\n{content}'), score=0.40317279179622884), NodeWithScore(node=TextNode(id_='2da919d4-73f7-40c7-a1c3-7a8a018548c5', embedding=None, metadata={'file_path': '/Users/pandagan/workspace/projects/hugging_face_agent_course/unit_2/2.2_LlamaIndex/data/persona_0.txt', 'file_name': 'persona_0.txt', 'file_type': 'text/plain', 'file_size': 132, 'creation_date': '2025-06-10', 'last_modified_date': '2025-06-10'}, excluded_embed_metadata_keys=['file_name', 'file_type', 'file_size', 'creation_date', 'last_modified_date', 'last_accessed_date'], excluded_llm_metadata_keys=['file_name', 'file_type', 'file_size', 'creation_date', 'last_modified_date', 'last_accessed_date'], relationships={<NodeRelationship.SOURCE: '1'>: RelatedNodeInfo(node_id='dc4631f7-63d9-43a0-ae6f-8c2274864e6b', node_type='4', metadata={'file_path': '/Users/pandagan/workspace/projects/hugging_face_agent_course/unit_2/2.2_LlamaIndex/data/persona_0.txt', 'file_name': 'persona_0.txt', 'file_type': 'text/plain', 'file_size': 132, 'creation_date': '2025-06-10', 'last_modified_date': '2025-06-10'}, hash='ff118a40e51cf5b00fc5a12c1d8aea7fefc6df10db2b50e5f5947a2ff7e869d4')}, metadata_template='{key}: {value}', metadata_separator='\\n', text='A local art historian and museum professional interested in 19th-century American art and the local cultural heritage of Cincinnati.', mimetype='text/plain', start_char_idx=0, end_char_idx=132, metadata_seperator='\\n', text_template='{metadata_str}\\n\\n{content}'), score=0.39355452823113535)], metadata={'0aff1520-474a-47c3-8f25-5c8cc9bacff0': {'file_path': '/Users/pandagan/workspace/projects/hugging_face_agent_course/unit_2/2.2_LlamaIndex/data/persona_1.txt', 'file_name': 'persona_1.txt', 'file_type': 'text/plain', 'file_size': 266, 'creation_date': '2025-06-10', 'last_modified_date': '2025-06-10'}, '2da919d4-73f7-40c7-a1c3-7a8a018548c5': {'file_path': '/Users/pandagan/workspace/projects/hugging_face_agent_course/unit_2/2.2_LlamaIndex/data/persona_0.txt', 'file_name': 'persona_0.txt', 'file_type': 'text/plain', 'file_size': 132, 'creation_date': '2025-06-10', 'last_modified_date': '2025-06-10'}}), is_error=False), return_direct=False), ToolCallResult(tool_name='personas', tool_kwargs={'input': 'science fiction enthusiasts'}, tool_id='f0891a77-7074-406a-b2f9-12cb4d7a5da5', tool_output=ToolOutput(content=\"The provided context does not include any information about science fiction enthusiasts. The details given pertain to a local art historian and museum professional focusing on 19th-century American art and Cincinnati's cultural heritage, as well as an anthropologist or cultural expert with expertise in Cypriot culture, history, and society. There is no mention of science fiction or enthusiasts of this genre.\", tool_name='personas', raw_input={'input': 'science fiction enthusiasts'}, raw_output=Response(response=\"The provided context does not include any information about science fiction enthusiasts. The details given pertain to a local art historian and museum professional focusing on 19th-century American art and Cincinnati's cultural heritage, as well as an anthropologist or cultural expert with expertise in Cypriot culture, history, and society. There is no mention of science fiction or enthusiasts of this genre.\", source_nodes=[NodeWithScore(node=TextNode(id_='2da919d4-73f7-40c7-a1c3-7a8a018548c5', embedding=None, metadata={'file_path': '/Users/pandagan/workspace/projects/hugging_face_agent_course/unit_2/2.2_LlamaIndex/data/persona_0.txt', 'file_name': 'persona_0.txt', 'file_type': 'text/plain', 'file_size': 132, 'creation_date': '2025-06-10', 'last_modified_date': '2025-06-10'}, excluded_embed_metadata_keys=['file_name', 'file_type', 'file_size', 'creation_date', 'last_modified_date', 'last_accessed_date'], excluded_llm_metadata_keys=['file_name', 'file_type', 'file_size', 'creation_date', 'last_modified_date', 'last_accessed_date'], relationships={<NodeRelationship.SOURCE: '1'>: RelatedNodeInfo(node_id='dc4631f7-63d9-43a0-ae6f-8c2274864e6b', node_type='4', metadata={'file_path': '/Users/pandagan/workspace/projects/hugging_face_agent_course/unit_2/2.2_LlamaIndex/data/persona_0.txt', 'file_name': 'persona_0.txt', 'file_type': 'text/plain', 'file_size': 132, 'creation_date': '2025-06-10', 'last_modified_date': '2025-06-10'}, hash='ff118a40e51cf5b00fc5a12c1d8aea7fefc6df10db2b50e5f5947a2ff7e869d4')}, metadata_template='{key}: {value}', metadata_separator='\\n', text='A local art historian and museum professional interested in 19th-century American art and the local cultural heritage of Cincinnati.', mimetype='text/plain', start_char_idx=0, end_char_idx=132, metadata_seperator='\\n', text_template='{metadata_str}\\n\\n{content}'), score=0.4418921761337633), NodeWithScore(node=TextNode(id_='0aff1520-474a-47c3-8f25-5c8cc9bacff0', embedding=None, metadata={'file_path': '/Users/pandagan/workspace/projects/hugging_face_agent_course/unit_2/2.2_LlamaIndex/data/persona_1.txt', 'file_name': 'persona_1.txt', 'file_type': 'text/plain', 'file_size': 266, 'creation_date': '2025-06-10', 'last_modified_date': '2025-06-10'}, excluded_embed_metadata_keys=['file_name', 'file_type', 'file_size', 'creation_date', 'last_modified_date', 'last_accessed_date'], excluded_llm_metadata_keys=['file_name', 'file_type', 'file_size', 'creation_date', 'last_modified_date', 'last_accessed_date'], relationships={<NodeRelationship.SOURCE: '1'>: RelatedNodeInfo(node_id='3340a5df-67a7-4920-b42e-1dc79e610e94', node_type='4', metadata={'file_path': '/Users/pandagan/workspace/projects/hugging_face_agent_course/unit_2/2.2_LlamaIndex/data/persona_1.txt', 'file_name': 'persona_1.txt', 'file_type': 'text/plain', 'file_size': 266, 'creation_date': '2025-06-10', 'last_modified_date': '2025-06-10'}, hash='3ce1034f9d9c3be5c5aa644847489829b29cfbc58fe9e19283415360ede93695')}, metadata_template='{key}: {value}', metadata_separator='\\n', text='An anthropologist or a cultural expert interested in the intricacies of Cypriot culture, history, and society, particularly someone who has spent considerable time researching and living in Cyprus to gain a deep understanding of its people, customs, and way of life.', mimetype='text/plain', start_char_idx=0, end_char_idx=266, metadata_seperator='\\n', text_template='{metadata_str}\\n\\n{content}'), score=0.4389531772773822)], metadata={'2da919d4-73f7-40c7-a1c3-7a8a018548c5': {'file_path': '/Users/pandagan/workspace/projects/hugging_face_agent_course/unit_2/2.2_LlamaIndex/data/persona_0.txt', 'file_name': 'persona_0.txt', 'file_type': 'text/plain', 'file_size': 132, 'creation_date': '2025-06-10', 'last_modified_date': '2025-06-10'}, '0aff1520-474a-47c3-8f25-5c8cc9bacff0': {'file_path': '/Users/pandagan/workspace/projects/hugging_face_agent_course/unit_2/2.2_LlamaIndex/data/persona_1.txt', 'file_name': 'persona_1.txt', 'file_type': 'text/plain', 'file_size': 266, 'creation_date': '2025-06-10', 'last_modified_date': '2025-06-10'}}), is_error=False), return_direct=False), ToolCallResult(tool_name='personas', tool_kwargs={'input': 'science fiction enthusiasts'}, tool_id='85854e66-600d-4fcd-84f4-05060abd2b96', tool_output=ToolOutput(content=\"The provided context does not include any information about science fiction enthusiasts. The details given pertain to a local art historian and museum professional focusing on 19th-century American art and Cincinnati's cultural heritage, as well as an anthropologist or cultural expert with expertise in Cypriot culture, history, and society. There is no mention of science fiction or enthusiasts of this genre.\", tool_name='personas', raw_input={'input': 'science fiction enthusiasts'}, raw_output=Response(response=\"The provided context does not include any information about science fiction enthusiasts. The details given pertain to a local art historian and museum professional focusing on 19th-century American art and Cincinnati's cultural heritage, as well as an anthropologist or cultural expert with expertise in Cypriot culture, history, and society. There is no mention of science fiction or enthusiasts of this genre.\", source_nodes=[NodeWithScore(node=TextNode(id_='2da919d4-73f7-40c7-a1c3-7a8a018548c5', embedding=None, metadata={'file_path': '/Users/pandagan/workspace/projects/hugging_face_agent_course/unit_2/2.2_LlamaIndex/data/persona_0.txt', 'file_name': 'persona_0.txt', 'file_type': 'text/plain', 'file_size': 132, 'creation_date': '2025-06-10', 'last_modified_date': '2025-06-10'}, excluded_embed_metadata_keys=['file_name', 'file_type', 'file_size', 'creation_date', 'last_modified_date', 'last_accessed_date'], excluded_llm_metadata_keys=['file_name', 'file_type', 'file_size', 'creation_date', 'last_modified_date', 'last_accessed_date'], relationships={<NodeRelationship.SOURCE: '1'>: RelatedNodeInfo(node_id='dc4631f7-63d9-43a0-ae6f-8c2274864e6b', node_type='4', metadata={'file_path': '/Users/pandagan/workspace/projects/hugging_face_agent_course/unit_2/2.2_LlamaIndex/data/persona_0.txt', 'file_name': 'persona_0.txt', 'file_type': 'text/plain', 'file_size': 132, 'creation_date': '2025-06-10', 'last_modified_date': '2025-06-10'}, hash='ff118a40e51cf5b00fc5a12c1d8aea7fefc6df10db2b50e5f5947a2ff7e869d4')}, metadata_template='{key}: {value}', metadata_separator='\\n', text='A local art historian and museum professional interested in 19th-century American art and the local cultural heritage of Cincinnati.', mimetype='text/plain', start_char_idx=0, end_char_idx=132, metadata_seperator='\\n', text_template='{metadata_str}\\n\\n{content}'), score=0.4418921761337633), NodeWithScore(node=TextNode(id_='0aff1520-474a-47c3-8f25-5c8cc9bacff0', embedding=None, metadata={'file_path': '/Users/pandagan/workspace/projects/hugging_face_agent_course/unit_2/2.2_LlamaIndex/data/persona_1.txt', 'file_name': 'persona_1.txt', 'file_type': 'text/plain', 'file_size': 266, 'creation_date': '2025-06-10', 'last_modified_date': '2025-06-10'}, excluded_embed_metadata_keys=['file_name', 'file_type', 'file_size', 'creation_date', 'last_modified_date', 'last_accessed_date'], excluded_llm_metadata_keys=['file_name', 'file_type', 'file_size', 'creation_date', 'last_modified_date', 'last_accessed_date'], relationships={<NodeRelationship.SOURCE: '1'>: RelatedNodeInfo(node_id='3340a5df-67a7-4920-b42e-1dc79e610e94', node_type='4', metadata={'file_path': '/Users/pandagan/workspace/projects/hugging_face_agent_course/unit_2/2.2_LlamaIndex/data/persona_1.txt', 'file_name': 'persona_1.txt', 'file_type': 'text/plain', 'file_size': 266, 'creation_date': '2025-06-10', 'last_modified_date': '2025-06-10'}, hash='3ce1034f9d9c3be5c5aa644847489829b29cfbc58fe9e19283415360ede93695')}, metadata_template='{key}: {value}', metadata_separator='\\n', text='An anthropologist or a cultural expert interested in the intricacies of Cypriot culture, history, and society, particularly someone who has spent considerable time researching and living in Cyprus to gain a deep understanding of its people, customs, and way of life.', mimetype='text/plain', start_char_idx=0, end_char_idx=266, metadata_seperator='\\n', text_template='{metadata_str}\\n\\n{content}'), score=0.4389531772773822)], metadata={'2da919d4-73f7-40c7-a1c3-7a8a018548c5': {'file_path': '/Users/pandagan/workspace/projects/hugging_face_agent_course/unit_2/2.2_LlamaIndex/data/persona_0.txt', 'file_name': 'persona_0.txt', 'file_type': 'text/plain', 'file_size': 132, 'creation_date': '2025-06-10', 'last_modified_date': '2025-06-10'}, '0aff1520-474a-47c3-8f25-5c8cc9bacff0': {'file_path': '/Users/pandagan/workspace/projects/hugging_face_agent_course/unit_2/2.2_LlamaIndex/data/persona_1.txt', 'file_name': 'persona_1.txt', 'file_type': 'text/plain', 'file_size': 266, 'creation_date': '2025-06-10', 'last_modified_date': '2025-06-10'}}), is_error=False), return_direct=False)], raw=ChatCompletionStreamOutput(choices=[ChatCompletionStreamOutputChoice(delta=ChatCompletionStreamOutputDelta(role='assistant', content=' for', tool_call_id=None, tool_calls=None), index=0, finish_reason=None, logprobs=None)], created=1749545245, id='', model='Qwen/Qwen2.5-Coder-32B-Instruct', system_fingerprint='3.2.1-sha-4d28897', usage=None, object='chat.completion.chunk'), current_agent_name='Agent')"
      ]
     },
     "execution_count": 5,
     "metadata": {},
     "output_type": "execute_result"
    }
   ],
   "source": [
    "handler = query_engine_agent.run(\n",
    "    \"Search the database for 'science fiction' and return some persona descriptions.\"\n",
    ")\n",
    "async for ev in handler.stream_events():\n",
    "    if isinstance(ev, ToolCallResult):\n",
    "        print(\"\")\n",
    "        print(\"Called tool: \", ev.tool_name, ev.tool_kwargs, \"=>\", ev.tool_output)\n",
    "    elif isinstance(ev, AgentStream):  # showing the thought process\n",
    "        print(ev.delta, end=\"\", flush=True)\n",
    "\n",
    "resp = await handler\n",
    "resp"
   ]
  },
  {
   "cell_type": "markdown",
   "metadata": {},
   "source": [
    "## Creating multi-agent systems\n",
    "\n",
    "\n",
    "The AgentWorkflow class also directly supports multi-agent systems. By giving each agent a name and description, the system maintains a single active speaker, with each agent having the ability to hand off to another agent.\n",
    "\n",
    "By narrowing the scope of each agent, we can help increase their general accuracy when responding to user messages.\n",
    "\n",
    "**Agents in LlamaIndex can also directly be used as tools** for other agents, for more complex and custom scenarios.\n",
    "\n",
    "We can also create multi-agent systems by passing multiple agents to the `AgentWorkflow` class."
   ]
  },
  {
   "cell_type": "code",
   "execution_count": 6,
   "metadata": {},
   "outputs": [],
   "source": [
    "from llama_index.core.agent.workflow import (\n",
    "    AgentWorkflow,\n",
    "    ReActAgent,\n",
    ")\n",
    "\n",
    "\n",
    "# Define some tools\n",
    "def add(a: int, b: int) -> int:\n",
    "    \"\"\"Add two numbers.\"\"\"\n",
    "    return a + b\n",
    "\n",
    "\n",
    "def subtract(a: int, b: int) -> int:\n",
    "    \"\"\"Subtract two numbers.\"\"\"\n",
    "    return a - b\n",
    "\n",
    "\n",
    "# Create agent configs\n",
    "# NOTE: we can use FunctionAgent or ReActAgent here.\n",
    "# FunctionAgent works for LLMs with a function calling API.\n",
    "# ReActAgent works for any LLM.\n",
    "calculator_agent = ReActAgent(\n",
    "    name=\"calculator\",\n",
    "    description=\"Performs basic arithmetic operations\",\n",
    "    system_prompt=\"You are a calculator assistant. Use your tools for any math operation.\",\n",
    "    tools=[add, subtract],\n",
    "    llm=llm,\n",
    ")\n",
    "\n",
    "query_agent = ReActAgent(\n",
    "    name=\"info_lookup\",\n",
    "    description=\"Looks up information about XYZ\",\n",
    "    system_prompt=\"Use your tool to query a RAG system to answer information about XYZ\",\n",
    "    tools=[query_engine_tool],\n",
    "    llm=llm,\n",
    ")\n",
    "\n",
    "# Create and run the workflow\n",
    "agent = AgentWorkflow(\n",
    "    agents=[calculator_agent, query_agent], root_agent=\"calculator\"\n",
    ")\n",
    "\n",
    "# Run the system\n",
    "handler = agent.run(user_msg=\"Can you add 5 and 3?\")\n",
    "# response = await agent.run(user_msg=\"Can you add 5 and 3?\")"
   ]
  },
  {
   "cell_type": "code",
   "execution_count": 7,
   "metadata": {},
   "outputs": [
    {
     "name": "stdout",
     "output_type": "stream",
     "text": [
      "Thought: The current language of the user is: English. I need to use a tool to help me answer the question.\n",
      "Action: add\n",
      "Action Input: {\"a\": 5, \"b\": 3}\n",
      "Called tool:  add {'a': 5, 'b': 3} => 8\n",
      "Thought: I can answer without using any more tools. I'll use the user's language to answer\n",
      "Answer: 8"
     ]
    },
    {
     "data": {
      "text/plain": [
       "AgentOutput(response=ChatMessage(role=<MessageRole.ASSISTANT: 'assistant'>, additional_kwargs={}, blocks=[TextBlock(block_type='text', text='8')]), tool_calls=[ToolCallResult(tool_name='add', tool_kwargs={'a': 5, 'b': 3}, tool_id='b0b5e27e-a919-4629-a1a2-468ecd387216', tool_output=ToolOutput(content='8', tool_name='add', raw_input={'args': (), 'kwargs': {'a': 5, 'b': 3}}, raw_output=8, is_error=False), return_direct=False)], raw=ChatCompletionStreamOutput(choices=[ChatCompletionStreamOutputChoice(delta=ChatCompletionStreamOutputDelta(role='assistant', content='8', tool_call_id=None, tool_calls=None), index=0, finish_reason=None, logprobs=None)], created=1749545455, id='', model='Qwen/Qwen2.5-Coder-32B-Instruct', system_fingerprint='3.2.1-sha-4d28897', usage=None, object='chat.completion.chunk'), current_agent_name='calculator')"
      ]
     },
     "execution_count": 7,
     "metadata": {},
     "output_type": "execute_result"
    }
   ],
   "source": [
    "async for ev in handler.stream_events():\n",
    "    if isinstance(ev, ToolCallResult):\n",
    "        print(\"\")\n",
    "        print(\"Called tool: \", ev.tool_name, ev.tool_kwargs, \"=>\", ev.tool_output)\n",
    "    elif isinstance(ev, AgentStream):  # showing the thought process\n",
    "        print(ev.delta, end=\"\", flush=True)\n",
    "\n",
    "resp = await handler\n",
    "resp"
   ]
  },
  {
   "cell_type": "code",
   "execution_count": null,
   "metadata": {},
   "outputs": [],
   "source": []
  }
 ],
 "metadata": {
  "kernelspec": {
   "display_name": "Python 3 (ipykernel)",
   "language": "python",
   "name": "python3"
  },
  "language_info": {
   "codemirror_mode": {
    "name": "ipython",
    "version": 3
   },
   "file_extension": ".py",
   "mimetype": "text/x-python",
   "name": "python",
   "nbconvert_exporter": "python",
   "pygments_lexer": "ipython3",
   "version": "3.10.17"
  }
 },
 "nbformat": 4,
 "nbformat_minor": 4
}
