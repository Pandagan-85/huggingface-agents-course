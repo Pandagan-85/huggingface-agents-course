{
 "cells": [
  {
   "cell_type": "markdown",
   "metadata": {
    "id": "JJHmRIZy4svX"
   },
   "source": [
    "# Building Agentic RAG Systems\n",
    "\n",
    "This notebook is part of the [Hugging Face Agents Course](https://www.hf.co/learn/agents-course), a free Course from beginner to expert, where you learn to build Agents.\n",
    "\n",
    "![Agents course share](https://huggingface.co/datasets/agents-course/course-images/resolve/main/en/communication/share.png)"
   ]
  },
  {
   "cell_type": "markdown",
   "metadata": {},
   "source": [
    "Retrieval Augmented Generation (RAG) systems combine the capabilities of data retrieval and generation models to provide context-aware responses. For example, a user’s query is passed to a search engine, and the retrieved results are given to the model along with the query. The model then generates a response based on the query and retrieved information.\n",
    "\n",
    "Agentic RAG (Retrieval-Augmented Generation) extends traditional RAG systems by **combining autonomous agents with dynamic knowledge retrieval**.\n",
    "\n",
    "While traditional RAG systems use an LLM to answer queries based on retrieved data, agentic RAG **enables intelligent control of both retrieval and generation processes**, improving efficiency and accuracy.\n",
    "\n",
    "Traditional RAG systems face key limitations, such as **relying on a single retrieval step** and focusing on direct semantic similarity with the user’s query, which may overlook relevant information.\n",
    "\n",
    "Agentic RAG addresses these issues by allowing the agent to autonomously formulate search queries, critique retrieved results, and conduct multiple retrieval steps for a more tailored and comprehensive output."
   ]
  },
  {
   "cell_type": "markdown",
   "metadata": {
    "id": "vNHb_Xna4x_3"
   },
   "source": [
    "## Let's install the dependencies and login to our HF account to access the Inference API\n",
    "\n",
    "If you haven't installed `smolagents` yet, you can do so by running the following command:the dependencies and login to our HF account to access the Inference API\n"
   ]
  },
  {
   "cell_type": "code",
   "execution_count": null,
   "metadata": {
    "id": "NRWw2n4S4Y87"
   },
   "outputs": [],
   "source": [
    "!pip install smolagents"
   ]
  },
  {
   "cell_type": "markdown",
   "metadata": {
    "id": "agkxF_blaYid"
   },
   "source": [
    "Let's also login to the Hugging Face Hub to have access to the Inference API."
   ]
  },
  {
   "cell_type": "code",
   "execution_count": null,
   "metadata": {
    "id": "KiFQS5wj4mXy"
   },
   "outputs": [],
   "source": [
    "from huggingface_hub import notebook_login\n",
    "\n",
    "notebook_login()"
   ]
  },
  {
   "cell_type": "markdown",
   "metadata": {
    "id": "toG-RqWX4sIx"
   },
   "source": [
    "## Basic Retrieval with DuckDuckGo\n",
    "\n",
    "Let's build a simple agent that can search the web using DuckDuckGo. This agent will retrieve information and synthesize responses to answer queries. With Agentic RAG, Alfred's agent can:\n",
    "\n",
    "* Search for latest superhero party trends\n",
    "* Refine results to include luxury elements\n",
    "* Synthesize information into a complete plan\n",
    "\n",
    "Here's how Alfred's agent can achieve this:"
   ]
  },
  {
   "cell_type": "code",
   "execution_count": 1,
   "metadata": {
    "colab": {
     "base_uri": "https://localhost:8080/",
     "height": 1000
    },
    "id": "DPklsecm4sQA",
    "outputId": "cd092c8b-4ab9-4ba6-e83e-30b0f21cbaf6"
   },
   "outputs": [
    {
     "data": {
      "text/html": [
       "<pre style=\"white-space:pre;overflow-x:auto;line-height:normal;font-family:Menlo,'DejaVu Sans Mono',consolas,'Courier New',monospace\"><span style=\"color: #d4b702; text-decoration-color: #d4b702\">╭──────────────────────────────────────────────────── </span><span style=\"color: #d4b702; text-decoration-color: #d4b702; font-weight: bold\">New run</span><span style=\"color: #d4b702; text-decoration-color: #d4b702\"> ────────────────────────────────────────────────────╮</span>\n",
       "<span style=\"color: #d4b702; text-decoration-color: #d4b702\">│</span>                                                                                                                 <span style=\"color: #d4b702; text-decoration-color: #d4b702\">│</span>\n",
       "<span style=\"color: #d4b702; text-decoration-color: #d4b702\">│</span> <span style=\"font-weight: bold\">Search for luxury superhero-themed party ideas, including decorations, entertainment, and catering.</span>             <span style=\"color: #d4b702; text-decoration-color: #d4b702\">│</span>\n",
       "<span style=\"color: #d4b702; text-decoration-color: #d4b702\">│</span>                                                                                                                 <span style=\"color: #d4b702; text-decoration-color: #d4b702\">│</span>\n",
       "<span style=\"color: #d4b702; text-decoration-color: #d4b702\">╰─ InferenceClientModel - Qwen/Qwen2.5-Coder-32B-Instruct ────────────────────────────────────────────────────────╯</span>\n",
       "</pre>\n"
      ],
      "text/plain": [
       "\u001b[38;2;212;183;2m╭─\u001b[0m\u001b[38;2;212;183;2m───────────────────────────────────────────────────\u001b[0m\u001b[38;2;212;183;2m \u001b[0m\u001b[1;38;2;212;183;2mNew run\u001b[0m\u001b[38;2;212;183;2m \u001b[0m\u001b[38;2;212;183;2m───────────────────────────────────────────────────\u001b[0m\u001b[38;2;212;183;2m─╮\u001b[0m\n",
       "\u001b[38;2;212;183;2m│\u001b[0m                                                                                                                 \u001b[38;2;212;183;2m│\u001b[0m\n",
       "\u001b[38;2;212;183;2m│\u001b[0m \u001b[1mSearch for luxury superhero-themed party ideas, including decorations, entertainment, and catering.\u001b[0m             \u001b[38;2;212;183;2m│\u001b[0m\n",
       "\u001b[38;2;212;183;2m│\u001b[0m                                                                                                                 \u001b[38;2;212;183;2m│\u001b[0m\n",
       "\u001b[38;2;212;183;2m╰─\u001b[0m\u001b[38;2;212;183;2m InferenceClientModel - Qwen/Qwen2.5-Coder-32B-Instruct \u001b[0m\u001b[38;2;212;183;2m───────────────────────────────────────────────────────\u001b[0m\u001b[38;2;212;183;2m─╯\u001b[0m\n"
      ]
     },
     "metadata": {},
     "output_type": "display_data"
    },
    {
     "data": {
      "text/html": [
       "<pre style=\"white-space:pre;overflow-x:auto;line-height:normal;font-family:Menlo,'DejaVu Sans Mono',consolas,'Courier New',monospace\"><span style=\"color: #d4b702; text-decoration-color: #d4b702\">━━━━━━━━━━━━━━━━━━━━━━━━━━━━━━━━━━━━━━━━━━━━━━━━━━━━━ </span><span style=\"font-weight: bold\">Step </span><span style=\"color: #008080; text-decoration-color: #008080; font-weight: bold\">1</span><span style=\"color: #d4b702; text-decoration-color: #d4b702\"> ━━━━━━━━━━━━━━━━━━━━━━━━━━━━━━━━━━━━━━━━━━━━━━━━━━━━━━</span>\n",
       "</pre>\n"
      ],
      "text/plain": [
       "\u001b[38;2;212;183;2m━━━━━━━━━━━━━━━━━━━━━━━━━━━━━━━━━━━━━━━━━━━━━━━━━━━━━ \u001b[0m\u001b[1mStep \u001b[0m\u001b[1;36m1\u001b[0m\u001b[38;2;212;183;2m ━━━━━━━━━━━━━━━━━━━━━━━━━━━━━━━━━━━━━━━━━━━━━━━━━━━━━━\u001b[0m\n"
      ]
     },
     "metadata": {},
     "output_type": "display_data"
    },
    {
     "data": {
      "text/html": [
       "<pre style=\"white-space:pre;overflow-x:auto;line-height:normal;font-family:Menlo,'DejaVu Sans Mono',consolas,'Courier New',monospace\"> ─ <span style=\"font-weight: bold\">Executing parsed code:</span> ──────────────────────────────────────────────────────────────────────────────────────── \n",
       "  <span style=\"color: #f8f8f2; text-decoration-color: #f8f8f2; background-color: #272822\">luxury_superhero_party_ideas </span><span style=\"color: #ff4689; text-decoration-color: #ff4689; background-color: #272822\">=</span><span style=\"color: #f8f8f2; text-decoration-color: #f8f8f2; background-color: #272822\"> web_search(</span><span style=\"color: #e6db74; text-decoration-color: #e6db74; background-color: #272822\">\"luxury superhero-themed party ideas\"</span><span style=\"color: #f8f8f2; text-decoration-color: #f8f8f2; background-color: #272822\">)</span><span style=\"background-color: #272822\">                               </span>  \n",
       "  <span style=\"color: #f8f8f2; text-decoration-color: #f8f8f2; background-color: #272822\">print(luxury_superhero_party_ideas)</span><span style=\"background-color: #272822\">                                                                            </span>  \n",
       " ───────────────────────────────────────────────────────────────────────────────────────────────────────────────── \n",
       "</pre>\n"
      ],
      "text/plain": [
       " ─ \u001b[1mExecuting parsed code:\u001b[0m ──────────────────────────────────────────────────────────────────────────────────────── \n",
       "  \u001b[38;2;248;248;242;48;2;39;40;34mluxury_superhero_party_ideas\u001b[0m\u001b[38;2;248;248;242;48;2;39;40;34m \u001b[0m\u001b[38;2;255;70;137;48;2;39;40;34m=\u001b[0m\u001b[38;2;248;248;242;48;2;39;40;34m \u001b[0m\u001b[38;2;248;248;242;48;2;39;40;34mweb_search\u001b[0m\u001b[38;2;248;248;242;48;2;39;40;34m(\u001b[0m\u001b[38;2;230;219;116;48;2;39;40;34m\"\u001b[0m\u001b[38;2;230;219;116;48;2;39;40;34mluxury superhero-themed party ideas\u001b[0m\u001b[38;2;230;219;116;48;2;39;40;34m\"\u001b[0m\u001b[38;2;248;248;242;48;2;39;40;34m)\u001b[0m\u001b[48;2;39;40;34m                               \u001b[0m  \n",
       "  \u001b[38;2;248;248;242;48;2;39;40;34mprint\u001b[0m\u001b[38;2;248;248;242;48;2;39;40;34m(\u001b[0m\u001b[38;2;248;248;242;48;2;39;40;34mluxury_superhero_party_ideas\u001b[0m\u001b[38;2;248;248;242;48;2;39;40;34m)\u001b[0m\u001b[48;2;39;40;34m                                                                            \u001b[0m  \n",
       " ───────────────────────────────────────────────────────────────────────────────────────────────────────────────── \n"
      ]
     },
     "metadata": {},
     "output_type": "display_data"
    },
    {
     "data": {
      "text/html": [
       "<pre style=\"white-space:pre;overflow-x:auto;line-height:normal;font-family:Menlo,'DejaVu Sans Mono',consolas,'Courier New',monospace\"><span style=\"font-weight: bold\">Execution logs:</span>\n",
       "## Search Results\n",
       "\n",
       "[25 Superhero Party Ideas For All Ages](https://playideas.com/25-superhero-party-ideas/)\n",
       "These super cool superhero theme party ideas are so much fun and perfect for all ages! Boy, girl, teen, or adult, \n",
       "it doesn't matter. They are perfect for your next superhero-themed food and party! We have found some amazingly \n",
       "fantastic party ideas from treats, decor, crafts to souvenirs for different sorts of superheroes, from Batman, \n",
       "Super ...\n",
       "\n",
       "[24 Superhero Party Ideas that Will Make You Wish You Were a \n",
       "Kid](https://howdoesshe.com/24-incredible-superhero-party-ideas-that-will-make-you-wish-you-were-a-kid-again/)\n",
       "Let your superman show his own superpowers!Kids (and even adults) who love superheroes will fall in love with these\n",
       "incredible superhero theme party ideas that will bring out the kid in everyone! From decor ideas, party foods, and \n",
       "costume ideas to superhero-themed activities and superhero games, we have different ways to cover all of your party\n",
       "needs. These ideas will make you wish you were a ...\n",
       "\n",
       "[33 Superhero Party Games for Adults - Fun Party Pop](https://funpartypop.com/superhero-party-games-adults/)\n",
       "Decorations for a Super Hero Party. I think my favorite thing about superhero adults(a subsection of Disney adults)\n",
       "is how much fun they have, the cool ones, at least. They really don't care what other people think of them…they \n",
       "like what they like, and they are proud of it. ... « 61 Housewarming Party Themes &amp; Ideas; 21 Masquerade Party ...\n",
       "\n",
       "[30+ Superhero Party Ideas - Canva](https://www.canva.com/ideas/superhero-party-ideas/)\n",
       "Browse a wide range of superhero party ideas and inspiration, from photos and templates in a stunning selection of \n",
       "styles and colours. ... all these ingenious concepts and more are in our special selection of superhero-themed \n",
       "designs and photos. Have a quick browse and find some excellent ideas for your party! Yellow Blue Red Superhero \n",
       "Pattern ...\n",
       "\n",
       "[Superhero Theme Party Ideas for Adults to Create an Unforgettable \n",
       "...](https://partyideaszone.com/superhero-theme-party-ideas-for-adults/)\n",
       "Unleash your inner hero with our ultimate guide to hosting an unforgettable superhero-themed party for adults! \n",
       "Explore creative costume ideas, vibrant decorations, and mouthwatering themed snacks and drinks. Engage your guests\n",
       "with fun activities like trivia, costume contests, and movie screenings. Follow our planning tips to create a \n",
       "cohesive, memorable experience that your friends will rave ...\n",
       "\n",
       "[The Best Superhero Party Ideas For An Epic Party - Smart Party \n",
       "Planning](https://smartpartyplanning.com/superhero-party-ideas/)\n",
       "Awesome superhero party ideas that will have your kids showing off their superhero powers in no time at all. With \n",
       "ideas for decorations, food and party games you will easily win the status of superhero mom. These ideas can be \n",
       "achieved on a budget with a bit of DIY. The kids are going to love them. Related articles: 5 Awesome Batman Party \n",
       "Ideas\n",
       "\n",
       "[By a Pro: Superhero Party Ideas by a Professional](https://party-ideas-by-a-pro.com/party-themes/superhero-party/)\n",
       "Patriotic 4th of July recipes can easily be repurposed as Captain America themed Superhero party food, such as \n",
       "these recipes for Red, White, and Blue Chocolate Dipped Strawberries (below left, by Nicole at Baking Bites) or \n",
       "Jell-O cut into star shapes (below right, by Ali from Gimme Some Oven).\n",
       "\n",
       "[30+ Easy Superhero Party Ideas You Can Perfect on a \n",
       "Budget](https://www.frugalcouponliving.com/superhero-party-ideas/)\n",
       "Enjoy the best DIY superhero party ideas, recipes, décor, games and more to make planning a party easy-peasy. \n",
       "Planning a themed party can be a lot of fun. And with so many popular Marvel, Avengers and DC movies being released\n",
       "in recent years, it's no wonder that superhero parties are becoming increasingly popular.\n",
       "\n",
       "[Mini Party Plan: How to Plan a Superhero Birthday \n",
       "Party](https://thepartyteacher.com/2018/08/23/mini-party-plan-superhero-party/)\n",
       "One of the most popular posts on this blog is a girl's superhero party. So I thought it might be fun to create a \n",
       "mini party plan for a superhero birthday party. I styled this mini party plan in the traditional red, yellow, and \n",
       "blue, but you could change the color palette for a more girly pink and purple superhero party, if you prefer.\n",
       "\n",
       "[Superhero-Themed Party Ideas &amp; Decorations | \n",
       "CORKCICLE.](https://corkcicle.com/blogs/lifestyle/marvel-themed-party-ideas)\n",
       "Superhero-themed parties have become a beloved trend, offering an exciting way to celebrate special occasions. The \n",
       "thrill of donning capes and masks, the vibrant decorations, and the heroic atmosphere make these parties a hit \n",
       "among kids and adults alike. In this guide, we'll explore Marvel superhero party ideas, ensuring your celebration \n",
       "is as epic as the comics and movies themselves ...\n",
       "\n",
       "Out: None\n",
       "</pre>\n"
      ],
      "text/plain": [
       "\u001b[1mExecution logs:\u001b[0m\n",
       "## Search Results\n",
       "\n",
       "[25 Superhero Party Ideas For All Ages](https://playideas.com/25-superhero-party-ideas/)\n",
       "These super cool superhero theme party ideas are so much fun and perfect for all ages! Boy, girl, teen, or adult, \n",
       "it doesn't matter. They are perfect for your next superhero-themed food and party! We have found some amazingly \n",
       "fantastic party ideas from treats, decor, crafts to souvenirs for different sorts of superheroes, from Batman, \n",
       "Super ...\n",
       "\n",
       "[24 Superhero Party Ideas that Will Make You Wish You Were a \n",
       "Kid](https://howdoesshe.com/24-incredible-superhero-party-ideas-that-will-make-you-wish-you-were-a-kid-again/)\n",
       "Let your superman show his own superpowers!Kids (and even adults) who love superheroes will fall in love with these\n",
       "incredible superhero theme party ideas that will bring out the kid in everyone! From decor ideas, party foods, and \n",
       "costume ideas to superhero-themed activities and superhero games, we have different ways to cover all of your party\n",
       "needs. These ideas will make you wish you were a ...\n",
       "\n",
       "[33 Superhero Party Games for Adults - Fun Party Pop](https://funpartypop.com/superhero-party-games-adults/)\n",
       "Decorations for a Super Hero Party. I think my favorite thing about superhero adults(a subsection of Disney adults)\n",
       "is how much fun they have, the cool ones, at least. They really don't care what other people think of them…they \n",
       "like what they like, and they are proud of it. ... « 61 Housewarming Party Themes & Ideas; 21 Masquerade Party ...\n",
       "\n",
       "[30+ Superhero Party Ideas - Canva](https://www.canva.com/ideas/superhero-party-ideas/)\n",
       "Browse a wide range of superhero party ideas and inspiration, from photos and templates in a stunning selection of \n",
       "styles and colours. ... all these ingenious concepts and more are in our special selection of superhero-themed \n",
       "designs and photos. Have a quick browse and find some excellent ideas for your party! Yellow Blue Red Superhero \n",
       "Pattern ...\n",
       "\n",
       "[Superhero Theme Party Ideas for Adults to Create an Unforgettable \n",
       "...](https://partyideaszone.com/superhero-theme-party-ideas-for-adults/)\n",
       "Unleash your inner hero with our ultimate guide to hosting an unforgettable superhero-themed party for adults! \n",
       "Explore creative costume ideas, vibrant decorations, and mouthwatering themed snacks and drinks. Engage your guests\n",
       "with fun activities like trivia, costume contests, and movie screenings. Follow our planning tips to create a \n",
       "cohesive, memorable experience that your friends will rave ...\n",
       "\n",
       "[The Best Superhero Party Ideas For An Epic Party - Smart Party \n",
       "Planning](https://smartpartyplanning.com/superhero-party-ideas/)\n",
       "Awesome superhero party ideas that will have your kids showing off their superhero powers in no time at all. With \n",
       "ideas for decorations, food and party games you will easily win the status of superhero mom. These ideas can be \n",
       "achieved on a budget with a bit of DIY. The kids are going to love them. Related articles: 5 Awesome Batman Party \n",
       "Ideas\n",
       "\n",
       "[By a Pro: Superhero Party Ideas by a Professional](https://party-ideas-by-a-pro.com/party-themes/superhero-party/)\n",
       "Patriotic 4th of July recipes can easily be repurposed as Captain America themed Superhero party food, such as \n",
       "these recipes for Red, White, and Blue Chocolate Dipped Strawberries (below left, by Nicole at Baking Bites) or \n",
       "Jell-O cut into star shapes (below right, by Ali from Gimme Some Oven).\n",
       "\n",
       "[30+ Easy Superhero Party Ideas You Can Perfect on a \n",
       "Budget](https://www.frugalcouponliving.com/superhero-party-ideas/)\n",
       "Enjoy the best DIY superhero party ideas, recipes, décor, games and more to make planning a party easy-peasy. \n",
       "Planning a themed party can be a lot of fun. And with so many popular Marvel, Avengers and DC movies being released\n",
       "in recent years, it's no wonder that superhero parties are becoming increasingly popular.\n",
       "\n",
       "[Mini Party Plan: How to Plan a Superhero Birthday \n",
       "Party](https://thepartyteacher.com/2018/08/23/mini-party-plan-superhero-party/)\n",
       "One of the most popular posts on this blog is a girl's superhero party. So I thought it might be fun to create a \n",
       "mini party plan for a superhero birthday party. I styled this mini party plan in the traditional red, yellow, and \n",
       "blue, but you could change the color palette for a more girly pink and purple superhero party, if you prefer.\n",
       "\n",
       "[Superhero-Themed Party Ideas & Decorations | \n",
       "CORKCICLE.](https://corkcicle.com/blogs/lifestyle/marvel-themed-party-ideas)\n",
       "Superhero-themed parties have become a beloved trend, offering an exciting way to celebrate special occasions. The \n",
       "thrill of donning capes and masks, the vibrant decorations, and the heroic atmosphere make these parties a hit \n",
       "among kids and adults alike. In this guide, we'll explore Marvel superhero party ideas, ensuring your celebration \n",
       "is as epic as the comics and movies themselves ...\n",
       "\n",
       "Out: None\n"
      ]
     },
     "metadata": {},
     "output_type": "display_data"
    },
    {
     "data": {
      "text/html": [
       "<pre style=\"white-space:pre;overflow-x:auto;line-height:normal;font-family:Menlo,'DejaVu Sans Mono',consolas,'Courier New',monospace\"><span style=\"color: #7f7f7f; text-decoration-color: #7f7f7f\">[Step 1: Duration 5.81 seconds| Input tokens: 2,053 | Output tokens: 72]</span>\n",
       "</pre>\n"
      ],
      "text/plain": [
       "\u001b[2m[Step 1: Duration 5.81 seconds| Input tokens: 2,053 | Output tokens: 72]\u001b[0m\n"
      ]
     },
     "metadata": {},
     "output_type": "display_data"
    },
    {
     "data": {
      "text/html": [
       "<pre style=\"white-space:pre;overflow-x:auto;line-height:normal;font-family:Menlo,'DejaVu Sans Mono',consolas,'Courier New',monospace\"><span style=\"color: #d4b702; text-decoration-color: #d4b702\">━━━━━━━━━━━━━━━━━━━━━━━━━━━━━━━━━━━━━━━━━━━━━━━━━━━━━ </span><span style=\"font-weight: bold\">Step </span><span style=\"color: #008080; text-decoration-color: #008080; font-weight: bold\">2</span><span style=\"color: #d4b702; text-decoration-color: #d4b702\"> ━━━━━━━━━━━━━━━━━━━━━━━━━━━━━━━━━━━━━━━━━━━━━━━━━━━━━━</span>\n",
       "</pre>\n"
      ],
      "text/plain": [
       "\u001b[38;2;212;183;2m━━━━━━━━━━━━━━━━━━━━━━━━━━━━━━━━━━━━━━━━━━━━━━━━━━━━━ \u001b[0m\u001b[1mStep \u001b[0m\u001b[1;36m2\u001b[0m\u001b[38;2;212;183;2m ━━━━━━━━━━━━━━━━━━━━━━━━━━━━━━━━━━━━━━━━━━━━━━━━━━━━━━\u001b[0m\n"
      ]
     },
     "metadata": {},
     "output_type": "display_data"
    },
    {
     "data": {
      "text/html": [
       "<pre style=\"white-space:pre;overflow-x:auto;line-height:normal;font-family:Menlo,'DejaVu Sans Mono',consolas,'Courier New',monospace\"> ─ <span style=\"font-weight: bold\">Executing parsed code:</span> ──────────────────────────────────────────────────────────────────────────────────────── \n",
       "  <span style=\"color: #f8f8f2; text-decoration-color: #f8f8f2; background-color: #272822\">url1 </span><span style=\"color: #ff4689; text-decoration-color: #ff4689; background-color: #272822\">=</span><span style=\"color: #f8f8f2; text-decoration-color: #f8f8f2; background-color: #272822\"> </span><span style=\"color: #e6db74; text-decoration-color: #e6db74; background-color: #272822\">\"https://partyideaszone.com/superhero-theme-party-ideas-for-adults/\"</span><span style=\"background-color: #272822\">                                    </span>  \n",
       "  <span style=\"color: #f8f8f2; text-decoration-color: #f8f8f2; background-color: #272822\">url2 </span><span style=\"color: #ff4689; text-decoration-color: #ff4689; background-color: #272822\">=</span><span style=\"color: #f8f8f2; text-decoration-color: #f8f8f2; background-color: #272822\"> </span><span style=\"color: #e6db74; text-decoration-color: #e6db74; background-color: #272822\">\"https://smartpartyplanning.com/superhero-party-ideas/\"</span><span style=\"background-color: #272822\">                                                 </span>  \n",
       "  <span style=\"background-color: #272822\">                                                                                                               </span>  \n",
       "  <span style=\"color: #f8f8f2; text-decoration-color: #f8f8f2; background-color: #272822\">page1 </span><span style=\"color: #ff4689; text-decoration-color: #ff4689; background-color: #272822\">=</span><span style=\"color: #f8f8f2; text-decoration-color: #f8f8f2; background-color: #272822\"> web_search(url1)</span><span style=\"background-color: #272822\">                                                                                       </span>  \n",
       "  <span style=\"color: #f8f8f2; text-decoration-color: #f8f8f2; background-color: #272822\">page2 </span><span style=\"color: #ff4689; text-decoration-color: #ff4689; background-color: #272822\">=</span><span style=\"color: #f8f8f2; text-decoration-color: #f8f8f2; background-color: #272822\"> web_search(url2)</span><span style=\"background-color: #272822\">                                                                                       </span>  \n",
       "  <span style=\"background-color: #272822\">                                                                                                               </span>  \n",
       "  <span style=\"color: #f8f8f2; text-decoration-color: #f8f8f2; background-color: #272822\">print(</span><span style=\"color: #e6db74; text-decoration-color: #e6db74; background-color: #272822\">\"Page 1 (Superhero Theme Party Ideas for Adults):</span><span style=\"color: #ae81ff; text-decoration-color: #ae81ff; background-color: #272822\">\\n</span><span style=\"color: #e6db74; text-decoration-color: #e6db74; background-color: #272822\">\"</span><span style=\"color: #f8f8f2; text-decoration-color: #f8f8f2; background-color: #272822\"> </span><span style=\"color: #ff4689; text-decoration-color: #ff4689; background-color: #272822\">+</span><span style=\"color: #f8f8f2; text-decoration-color: #f8f8f2; background-color: #272822\"> page1)</span><span style=\"background-color: #272822\">                                            </span>  \n",
       "  <span style=\"color: #f8f8f2; text-decoration-color: #f8f8f2; background-color: #272822\">print(</span><span style=\"color: #e6db74; text-decoration-color: #e6db74; background-color: #272822\">\"</span><span style=\"color: #ae81ff; text-decoration-color: #ae81ff; background-color: #272822\">\\n</span><span style=\"color: #e6db74; text-decoration-color: #e6db74; background-color: #272822\">\"</span><span style=\"color: #f8f8f2; text-decoration-color: #f8f8f2; background-color: #272822\"> </span><span style=\"color: #ff4689; text-decoration-color: #ff4689; background-color: #272822\">+</span><span style=\"color: #f8f8f2; text-decoration-color: #f8f8f2; background-color: #272822\"> </span><span style=\"color: #e6db74; text-decoration-color: #e6db74; background-color: #272822\">\"=\"</span><span style=\"color: #ff4689; text-decoration-color: #ff4689; background-color: #272822\">*</span><span style=\"color: #ae81ff; text-decoration-color: #ae81ff; background-color: #272822\">80</span><span style=\"color: #f8f8f2; text-decoration-color: #f8f8f2; background-color: #272822\"> </span><span style=\"color: #ff4689; text-decoration-color: #ff4689; background-color: #272822\">+</span><span style=\"color: #f8f8f2; text-decoration-color: #f8f8f2; background-color: #272822\"> </span><span style=\"color: #e6db74; text-decoration-color: #e6db74; background-color: #272822\">\"</span><span style=\"color: #ae81ff; text-decoration-color: #ae81ff; background-color: #272822\">\\n</span><span style=\"color: #e6db74; text-decoration-color: #e6db74; background-color: #272822\">\"</span><span style=\"color: #f8f8f2; text-decoration-color: #f8f8f2; background-color: #272822\">)  </span><span style=\"color: #959077; text-decoration-color: #959077; background-color: #272822\"># Print separator between pages</span><span style=\"background-color: #272822\">                                                   </span>  \n",
       "  <span style=\"color: #f8f8f2; text-decoration-color: #f8f8f2; background-color: #272822\">print(</span><span style=\"color: #e6db74; text-decoration-color: #e6db74; background-color: #272822\">\"Page 2 (Superhero Party Ideas):</span><span style=\"color: #ae81ff; text-decoration-color: #ae81ff; background-color: #272822\">\\n</span><span style=\"color: #e6db74; text-decoration-color: #e6db74; background-color: #272822\">\"</span><span style=\"color: #f8f8f2; text-decoration-color: #f8f8f2; background-color: #272822\"> </span><span style=\"color: #ff4689; text-decoration-color: #ff4689; background-color: #272822\">+</span><span style=\"color: #f8f8f2; text-decoration-color: #f8f8f2; background-color: #272822\"> page2)</span><span style=\"background-color: #272822\">                                                             </span>  \n",
       " ───────────────────────────────────────────────────────────────────────────────────────────────────────────────── \n",
       "</pre>\n"
      ],
      "text/plain": [
       " ─ \u001b[1mExecuting parsed code:\u001b[0m ──────────────────────────────────────────────────────────────────────────────────────── \n",
       "  \u001b[38;2;248;248;242;48;2;39;40;34murl1\u001b[0m\u001b[38;2;248;248;242;48;2;39;40;34m \u001b[0m\u001b[38;2;255;70;137;48;2;39;40;34m=\u001b[0m\u001b[38;2;248;248;242;48;2;39;40;34m \u001b[0m\u001b[38;2;230;219;116;48;2;39;40;34m\"\u001b[0m\u001b[38;2;230;219;116;48;2;39;40;34mhttps://partyideaszone.com/superhero-theme-party-ideas-for-adults/\u001b[0m\u001b[38;2;230;219;116;48;2;39;40;34m\"\u001b[0m\u001b[48;2;39;40;34m                                    \u001b[0m  \n",
       "  \u001b[38;2;248;248;242;48;2;39;40;34murl2\u001b[0m\u001b[38;2;248;248;242;48;2;39;40;34m \u001b[0m\u001b[38;2;255;70;137;48;2;39;40;34m=\u001b[0m\u001b[38;2;248;248;242;48;2;39;40;34m \u001b[0m\u001b[38;2;230;219;116;48;2;39;40;34m\"\u001b[0m\u001b[38;2;230;219;116;48;2;39;40;34mhttps://smartpartyplanning.com/superhero-party-ideas/\u001b[0m\u001b[38;2;230;219;116;48;2;39;40;34m\"\u001b[0m\u001b[48;2;39;40;34m                                                 \u001b[0m  \n",
       "  \u001b[48;2;39;40;34m                                                                                                               \u001b[0m  \n",
       "  \u001b[38;2;248;248;242;48;2;39;40;34mpage1\u001b[0m\u001b[38;2;248;248;242;48;2;39;40;34m \u001b[0m\u001b[38;2;255;70;137;48;2;39;40;34m=\u001b[0m\u001b[38;2;248;248;242;48;2;39;40;34m \u001b[0m\u001b[38;2;248;248;242;48;2;39;40;34mweb_search\u001b[0m\u001b[38;2;248;248;242;48;2;39;40;34m(\u001b[0m\u001b[38;2;248;248;242;48;2;39;40;34murl1\u001b[0m\u001b[38;2;248;248;242;48;2;39;40;34m)\u001b[0m\u001b[48;2;39;40;34m                                                                                       \u001b[0m  \n",
       "  \u001b[38;2;248;248;242;48;2;39;40;34mpage2\u001b[0m\u001b[38;2;248;248;242;48;2;39;40;34m \u001b[0m\u001b[38;2;255;70;137;48;2;39;40;34m=\u001b[0m\u001b[38;2;248;248;242;48;2;39;40;34m \u001b[0m\u001b[38;2;248;248;242;48;2;39;40;34mweb_search\u001b[0m\u001b[38;2;248;248;242;48;2;39;40;34m(\u001b[0m\u001b[38;2;248;248;242;48;2;39;40;34murl2\u001b[0m\u001b[38;2;248;248;242;48;2;39;40;34m)\u001b[0m\u001b[48;2;39;40;34m                                                                                       \u001b[0m  \n",
       "  \u001b[48;2;39;40;34m                                                                                                               \u001b[0m  \n",
       "  \u001b[38;2;248;248;242;48;2;39;40;34mprint\u001b[0m\u001b[38;2;248;248;242;48;2;39;40;34m(\u001b[0m\u001b[38;2;230;219;116;48;2;39;40;34m\"\u001b[0m\u001b[38;2;230;219;116;48;2;39;40;34mPage 1 (Superhero Theme Party Ideas for Adults):\u001b[0m\u001b[38;2;174;129;255;48;2;39;40;34m\\n\u001b[0m\u001b[38;2;230;219;116;48;2;39;40;34m\"\u001b[0m\u001b[38;2;248;248;242;48;2;39;40;34m \u001b[0m\u001b[38;2;255;70;137;48;2;39;40;34m+\u001b[0m\u001b[38;2;248;248;242;48;2;39;40;34m \u001b[0m\u001b[38;2;248;248;242;48;2;39;40;34mpage1\u001b[0m\u001b[38;2;248;248;242;48;2;39;40;34m)\u001b[0m\u001b[48;2;39;40;34m                                            \u001b[0m  \n",
       "  \u001b[38;2;248;248;242;48;2;39;40;34mprint\u001b[0m\u001b[38;2;248;248;242;48;2;39;40;34m(\u001b[0m\u001b[38;2;230;219;116;48;2;39;40;34m\"\u001b[0m\u001b[38;2;174;129;255;48;2;39;40;34m\\n\u001b[0m\u001b[38;2;230;219;116;48;2;39;40;34m\"\u001b[0m\u001b[38;2;248;248;242;48;2;39;40;34m \u001b[0m\u001b[38;2;255;70;137;48;2;39;40;34m+\u001b[0m\u001b[38;2;248;248;242;48;2;39;40;34m \u001b[0m\u001b[38;2;230;219;116;48;2;39;40;34m\"\u001b[0m\u001b[38;2;230;219;116;48;2;39;40;34m=\u001b[0m\u001b[38;2;230;219;116;48;2;39;40;34m\"\u001b[0m\u001b[38;2;255;70;137;48;2;39;40;34m*\u001b[0m\u001b[38;2;174;129;255;48;2;39;40;34m80\u001b[0m\u001b[38;2;248;248;242;48;2;39;40;34m \u001b[0m\u001b[38;2;255;70;137;48;2;39;40;34m+\u001b[0m\u001b[38;2;248;248;242;48;2;39;40;34m \u001b[0m\u001b[38;2;230;219;116;48;2;39;40;34m\"\u001b[0m\u001b[38;2;174;129;255;48;2;39;40;34m\\n\u001b[0m\u001b[38;2;230;219;116;48;2;39;40;34m\"\u001b[0m\u001b[38;2;248;248;242;48;2;39;40;34m)\u001b[0m\u001b[38;2;248;248;242;48;2;39;40;34m  \u001b[0m\u001b[38;2;149;144;119;48;2;39;40;34m# Print separator between pages\u001b[0m\u001b[48;2;39;40;34m                                                   \u001b[0m  \n",
       "  \u001b[38;2;248;248;242;48;2;39;40;34mprint\u001b[0m\u001b[38;2;248;248;242;48;2;39;40;34m(\u001b[0m\u001b[38;2;230;219;116;48;2;39;40;34m\"\u001b[0m\u001b[38;2;230;219;116;48;2;39;40;34mPage 2 (Superhero Party Ideas):\u001b[0m\u001b[38;2;174;129;255;48;2;39;40;34m\\n\u001b[0m\u001b[38;2;230;219;116;48;2;39;40;34m\"\u001b[0m\u001b[38;2;248;248;242;48;2;39;40;34m \u001b[0m\u001b[38;2;255;70;137;48;2;39;40;34m+\u001b[0m\u001b[38;2;248;248;242;48;2;39;40;34m \u001b[0m\u001b[38;2;248;248;242;48;2;39;40;34mpage2\u001b[0m\u001b[38;2;248;248;242;48;2;39;40;34m)\u001b[0m\u001b[48;2;39;40;34m                                                             \u001b[0m  \n",
       " ───────────────────────────────────────────────────────────────────────────────────────────────────────────────── \n"
      ]
     },
     "metadata": {},
     "output_type": "display_data"
    },
    {
     "data": {
      "text/html": [
       "<pre style=\"white-space:pre;overflow-x:auto;line-height:normal;font-family:Menlo,'DejaVu Sans Mono',consolas,'Courier New',monospace\"><span style=\"font-weight: bold\">Execution logs:</span>\n",
       "Page 1 (Superhero Theme Party Ideas for Adults):\n",
       "## Search Results\n",
       "\n",
       "[Superhero Theme Party Ideas for Adults to Create an Unforgettable \n",
       "...](https://partyideaszone.com/superhero-theme-party-ideas-for-adults/)\n",
       "Unleash your inner hero with our ultimate guide to hosting an unforgettable superhero-themed party for adults! \n",
       "Explore creative costume ideas, vibrant decorations, and mouthwatering themed snacks and drinks. Engage your guests\n",
       "with fun activities like trivia, costume contests, and movie screenings. Follow our planning tips to create a \n",
       "cohesive, memorable experience that your friends will rave ...\n",
       "\n",
       "[33 Superhero Party Games for Adults - Fun Party Pop](https://funpartypop.com/superhero-party-games-adults/)\n",
       "Decorations for a Super Hero Party. I think my favorite thing about superhero adults(a subsection of Disney adults)\n",
       "is how much fun they have, the cool ones, at least. They really don't care what other people think of them…they \n",
       "like what they like, and they are proud of it. For my next birthday, I will have a superhero theme.\n",
       "\n",
       "[30+ Easy Superhero Party Ideas You Can Perfect on a \n",
       "Budget](https://www.frugalcouponliving.com/superhero-party-ideas/)\n",
       "Host a superhero-themed party that is sure to be a hit without a ton of time, money, or effort. Enjoy the best DIY \n",
       "superhero party ideas, recipes, décor, &amp; games to make party planning easy-peasy. ... It also can be used as a DC \n",
       "or Marvel themed party for adults. | Michelle's Party Plan-It. Superhero Birthday Party Favors.\n",
       "\n",
       "[By a Pro: Superhero Party Ideas by a Professional](https://party-ideas-by-a-pro.com/party-themes/superhero-party/)\n",
       "Superhero party ideas by an award winning professional party planner including ideas for invitations, party food &amp; \n",
       "drinks, decorations, and party supplies ... a lot of the ideas could easily be adapted for an adult costume party \n",
       "so I've also included some tips and supplies specifically for adults—such as cocktail recipes. ... Patriotic 4th \n",
       "...\n",
       "\n",
       "[30+ Superhero Party Ideas - Canva](https://www.canva.com/ideas/superhero-party-ideas/)\n",
       "Browse a wide range of superhero party ideas and inspiration, from photos and templates in a stunning selection of \n",
       "styles and colours. ... all these ingenious concepts and more are in our special selection of superhero-themed \n",
       "designs and photos. Have a quick browse and find some excellent ideas for your party! Yellow Blue Red Superhero \n",
       "Pattern ...\n",
       "\n",
       "[25 Superhero Party Ideas For All Ages](https://playideas.com/25-superhero-party-ideas/)\n",
       "These super cool superhero theme party ideas are so much fun and perfect for all ages! Boy, girl, teen, or adult, \n",
       "it doesn't matter. They are perfect for your next superhero-themed food and party! We have found some amazingly \n",
       "fantastic party ideas from treats, decor, crafts to souvenirs for different sorts of superheroes, from Batman, \n",
       "Super ...\n",
       "\n",
       "[24 Superhero Party Ideas that Will Make You Wish You Were a \n",
       "Kid](https://howdoesshe.com/24-incredible-superhero-party-ideas-that-will-make-you-wish-you-were-a-kid-again/)\n",
       "Let your superman show his own superpowers!Kids (and even adults) who love superheroes will fall in love with these\n",
       "incredible superhero theme party ideas that will bring out the kid in everyone! From decor ideas, party foods, and \n",
       "costume ideas to superhero-themed activities and superhero games, we have different ways to cover all of your party\n",
       "needs. These ideas will make you wish you were a ...\n",
       "\n",
       "[The Best Superhero Party Ideas For An Epic Party - Smart Party \n",
       "Planning](https://smartpartyplanning.com/superhero-party-ideas/)\n",
       "It is always recommended to have a party backdrop behind your food table. This backdrop can also be used as a photo\n",
       "booth. Choose 3 colors to create the backdrop. If you don't want to create your own backdrop, you could purchase a \n",
       "skyline scene setter.. An easy way to give instant superhero appeal is to create buildings either on the food table\n",
       "or around the party area.\n",
       "\n",
       "[Superhero Party Ideas for Adults: Creative Themes and Fun Activities to \n",
       "...](https://partyideaszone.com/superhero-party-ideas-for-adults/)\n",
       "Unleash your inner hero with our guide to hosting an unforgettable superhero party for adults! From iconic costume \n",
       "ideas like Superman and Wonder Woman to thrilling themed snacks, discover how to create an electrifying atmosphere.\n",
       "Engage your guests with fun activities like costume contests and superhero trivia, plus DIY decorations and custom \n",
       "cocktails. Elevate your gathering and celebrate ...\n",
       "\n",
       "[These Superhero Party Ideas Will Save the \n",
       "Day!](https://www.halloweencostumes.com/blog/p-175-superhero-party-ideas.aspx)\n",
       "Of course, there are plenty of ideas within the superhero party theme. Maybe you want it to be all superheroes from\n",
       "any source. Or, your kid wants a specific character, like a Batman party or a Spider-Man party. Other options \n",
       "include Avengers parties, the Justice League, X-Men, and more. Once you have your superhero party theme nailed \n",
       "down, it ...\n",
       "\n",
       "================================================================================\n",
       "\n",
       "Page 2 (Superhero Party Ideas):\n",
       "## Search Results\n",
       "\n",
       "[The Best Superhero Party Ideas For An Epic Party - Smart Party \n",
       "Planning](https://smartpartyplanning.com/superhero-party-ideas/)\n",
       "Awesome superhero party ideas that will have your kids showing off their superhero powers in no time at all. With \n",
       "ideas for decorations, food and party games you will easily win the status of superhero mom. These ideas can be \n",
       "achieved on a budget with a bit of DIY. The kids are going to love them. Related articles: 5 Awesome Batman Party \n",
       "Ideas\n",
       "\n",
       "[The Best Easy Superman Party Ideas The Kids Will Love](https://smartpartyplanning.com/superman-party-ideas/)\n",
       "This party is filled with vibrancy, a cake fit for a superhero and exciting looking favor bags. This is an awesome \n",
       "stop to gather all those Superman party ideas! 2. DIY Superman Capes. Source: Just Another Day In Paradise. One of \n",
       "the best superman party ideas is to provide all the kids with their very own cape. That's exactly what happened at \n",
       "...\n",
       "\n",
       "[Awesome Superhero Party Printables With Free \n",
       "Invitations](https://smartpartyplanning.com/awesome-superhero-party-printables-with-free-invitations/)\n",
       "Superhero parties are always popular. With the number of superhero characters and movies, it's no wonder that every\n",
       "little kid wants to have a super power. A superhero party is a great way for the kids to be creative and enjoy all \n",
       "the excitement that a superhero party will bring. Decorating for a superhero party is also a whole lot of fun.\n",
       "\n",
       "[24 Superhero Party Ideas that Will Make You Wish You Were a \n",
       "Kid](https://howdoesshe.com/24-incredible-superhero-party-ideas-that-will-make-you-wish-you-were-a-kid-again/)\n",
       "Let your superman show his own superpowers!Kids (and even adults) who love superheroes will fall in love with these\n",
       "incredible superhero theme party ideas that will bring out the kid in everyone! From decor ideas, party foods, and \n",
       "costume ideas to superhero-themed activities and superhero games, we have different ways to cover all of your party\n",
       "needs. These ideas will make you wish you were a ...\n",
       "\n",
       "[Mini Party Plan: How to Plan a Superhero Birthday \n",
       "Party](https://thepartyteacher.com/2018/08/23/mini-party-plan-superhero-party/)\n",
       "One of the most popular posts on this blog is a girl's superhero party. So I thought it might be fun to create a \n",
       "mini party plan for a superhero birthday party. ... I hope my ideas help make planning your superhero party easier!\n",
       "If you have a question for me, ask away in comments! Spread the love. 1.2K. Shares . 1.2K. Shares 1.2K . Related \n",
       "Posts.\n",
       "\n",
       "[25 Superhero Party Ideas For All Ages](https://playideas.com/25-superhero-party-ideas/)\n",
       "DIY Super Hero Jello Party Snack Ideas. Yum Yum this Super Hero Jello cups is amazing! Whether you are throwing an \n",
       "Avengers party or a Super Hero party in general, your party mates are sure to love this tasty treat! This layers \n",
       "makes an adorable eye-catching treat! 8. Sweet Super Man Tootsie Roll Pop Snack Ideas\n",
       "\n",
       "[Superhero Party - Easy Party Ideas and Games](https://www.easy-party-ideas-and-games.com/superhero-party.html)\n",
       "Name each split a name of a famous super hero (E.G: Batman, superman, hulk, ironman...). The host of the party will\n",
       "turn into the other direction and count to 10. The children should run to a random superhero and wait there. After \n",
       "the count, name out loud one of the superheros. Whoever is standing on the super-hero that the Host called is out.\n",
       "\n",
       "[The Most Awesome Superhero Birthday \n",
       "Party](https://smartpartyplanning.com/the-most-awesome-superhero-birthday-party/)\n",
       "Superhero Printable Party Package; Superhero Party Ideas; Lightening bolts, booms and crashes. That's what you get \n",
       "with this Superhero birthday party submitted by Krishna. The key to creating a superhero birthday party is to make \n",
       "it LOUD and to make it FUN. That's exactly what was achieved here. Look out for these details in the party:\n",
       "\n",
       "[30+ Easy Superhero Party Ideas You Can Perfect on a \n",
       "Budget](https://www.frugalcouponliving.com/superhero-party-ideas/)\n",
       "Superhero Party Food. When planing superhero food ideas, go with the colors of your characters. Red, blue, black, \n",
       "yellow - whatever the character, plan food around that. By laying colors together you can make shapes and more that\n",
       "bring forth the design of the food for the superhero party.\n",
       "\n",
       "[How to Plan a Superhero Birthday Party - Taste of \n",
       "Home](https://www.tasteofhome.com/article/superhero-birthday-party/)\n",
       "To make party drinks even more special, order superhero cups from Etsy and serve colorful juice or punch to match \n",
       "your theme. Blue Hawaiian Punch, fruit punch or orange juice are great options. Superhero Party Favors. Thank your \n",
       "superheroes for an incredible job well done with a token of your appreciation in the form of superhero party \n",
       "favors.\n",
       "\n",
       "Out: None\n",
       "</pre>\n"
      ],
      "text/plain": [
       "\u001b[1mExecution logs:\u001b[0m\n",
       "Page 1 (Superhero Theme Party Ideas for Adults):\n",
       "## Search Results\n",
       "\n",
       "[Superhero Theme Party Ideas for Adults to Create an Unforgettable \n",
       "...](https://partyideaszone.com/superhero-theme-party-ideas-for-adults/)\n",
       "Unleash your inner hero with our ultimate guide to hosting an unforgettable superhero-themed party for adults! \n",
       "Explore creative costume ideas, vibrant decorations, and mouthwatering themed snacks and drinks. Engage your guests\n",
       "with fun activities like trivia, costume contests, and movie screenings. Follow our planning tips to create a \n",
       "cohesive, memorable experience that your friends will rave ...\n",
       "\n",
       "[33 Superhero Party Games for Adults - Fun Party Pop](https://funpartypop.com/superhero-party-games-adults/)\n",
       "Decorations for a Super Hero Party. I think my favorite thing about superhero adults(a subsection of Disney adults)\n",
       "is how much fun they have, the cool ones, at least. They really don't care what other people think of them…they \n",
       "like what they like, and they are proud of it. For my next birthday, I will have a superhero theme.\n",
       "\n",
       "[30+ Easy Superhero Party Ideas You Can Perfect on a \n",
       "Budget](https://www.frugalcouponliving.com/superhero-party-ideas/)\n",
       "Host a superhero-themed party that is sure to be a hit without a ton of time, money, or effort. Enjoy the best DIY \n",
       "superhero party ideas, recipes, décor, & games to make party planning easy-peasy. ... It also can be used as a DC \n",
       "or Marvel themed party for adults. | Michelle's Party Plan-It. Superhero Birthday Party Favors.\n",
       "\n",
       "[By a Pro: Superhero Party Ideas by a Professional](https://party-ideas-by-a-pro.com/party-themes/superhero-party/)\n",
       "Superhero party ideas by an award winning professional party planner including ideas for invitations, party food & \n",
       "drinks, decorations, and party supplies ... a lot of the ideas could easily be adapted for an adult costume party \n",
       "so I've also included some tips and supplies specifically for adults—such as cocktail recipes. ... Patriotic 4th \n",
       "...\n",
       "\n",
       "[30+ Superhero Party Ideas - Canva](https://www.canva.com/ideas/superhero-party-ideas/)\n",
       "Browse a wide range of superhero party ideas and inspiration, from photos and templates in a stunning selection of \n",
       "styles and colours. ... all these ingenious concepts and more are in our special selection of superhero-themed \n",
       "designs and photos. Have a quick browse and find some excellent ideas for your party! Yellow Blue Red Superhero \n",
       "Pattern ...\n",
       "\n",
       "[25 Superhero Party Ideas For All Ages](https://playideas.com/25-superhero-party-ideas/)\n",
       "These super cool superhero theme party ideas are so much fun and perfect for all ages! Boy, girl, teen, or adult, \n",
       "it doesn't matter. They are perfect for your next superhero-themed food and party! We have found some amazingly \n",
       "fantastic party ideas from treats, decor, crafts to souvenirs for different sorts of superheroes, from Batman, \n",
       "Super ...\n",
       "\n",
       "[24 Superhero Party Ideas that Will Make You Wish You Were a \n",
       "Kid](https://howdoesshe.com/24-incredible-superhero-party-ideas-that-will-make-you-wish-you-were-a-kid-again/)\n",
       "Let your superman show his own superpowers!Kids (and even adults) who love superheroes will fall in love with these\n",
       "incredible superhero theme party ideas that will bring out the kid in everyone! From decor ideas, party foods, and \n",
       "costume ideas to superhero-themed activities and superhero games, we have different ways to cover all of your party\n",
       "needs. These ideas will make you wish you were a ...\n",
       "\n",
       "[The Best Superhero Party Ideas For An Epic Party - Smart Party \n",
       "Planning](https://smartpartyplanning.com/superhero-party-ideas/)\n",
       "It is always recommended to have a party backdrop behind your food table. This backdrop can also be used as a photo\n",
       "booth. Choose 3 colors to create the backdrop. If you don't want to create your own backdrop, you could purchase a \n",
       "skyline scene setter.. An easy way to give instant superhero appeal is to create buildings either on the food table\n",
       "or around the party area.\n",
       "\n",
       "[Superhero Party Ideas for Adults: Creative Themes and Fun Activities to \n",
       "...](https://partyideaszone.com/superhero-party-ideas-for-adults/)\n",
       "Unleash your inner hero with our guide to hosting an unforgettable superhero party for adults! From iconic costume \n",
       "ideas like Superman and Wonder Woman to thrilling themed snacks, discover how to create an electrifying atmosphere.\n",
       "Engage your guests with fun activities like costume contests and superhero trivia, plus DIY decorations and custom \n",
       "cocktails. Elevate your gathering and celebrate ...\n",
       "\n",
       "[These Superhero Party Ideas Will Save the \n",
       "Day!](https://www.halloweencostumes.com/blog/p-175-superhero-party-ideas.aspx)\n",
       "Of course, there are plenty of ideas within the superhero party theme. Maybe you want it to be all superheroes from\n",
       "any source. Or, your kid wants a specific character, like a Batman party or a Spider-Man party. Other options \n",
       "include Avengers parties, the Justice League, X-Men, and more. Once you have your superhero party theme nailed \n",
       "down, it ...\n",
       "\n",
       "================================================================================\n",
       "\n",
       "Page 2 (Superhero Party Ideas):\n",
       "## Search Results\n",
       "\n",
       "[The Best Superhero Party Ideas For An Epic Party - Smart Party \n",
       "Planning](https://smartpartyplanning.com/superhero-party-ideas/)\n",
       "Awesome superhero party ideas that will have your kids showing off their superhero powers in no time at all. With \n",
       "ideas for decorations, food and party games you will easily win the status of superhero mom. These ideas can be \n",
       "achieved on a budget with a bit of DIY. The kids are going to love them. Related articles: 5 Awesome Batman Party \n",
       "Ideas\n",
       "\n",
       "[The Best Easy Superman Party Ideas The Kids Will Love](https://smartpartyplanning.com/superman-party-ideas/)\n",
       "This party is filled with vibrancy, a cake fit for a superhero and exciting looking favor bags. This is an awesome \n",
       "stop to gather all those Superman party ideas! 2. DIY Superman Capes. Source: Just Another Day In Paradise. One of \n",
       "the best superman party ideas is to provide all the kids with their very own cape. That's exactly what happened at \n",
       "...\n",
       "\n",
       "[Awesome Superhero Party Printables With Free \n",
       "Invitations](https://smartpartyplanning.com/awesome-superhero-party-printables-with-free-invitations/)\n",
       "Superhero parties are always popular. With the number of superhero characters and movies, it's no wonder that every\n",
       "little kid wants to have a super power. A superhero party is a great way for the kids to be creative and enjoy all \n",
       "the excitement that a superhero party will bring. Decorating for a superhero party is also a whole lot of fun.\n",
       "\n",
       "[24 Superhero Party Ideas that Will Make You Wish You Were a \n",
       "Kid](https://howdoesshe.com/24-incredible-superhero-party-ideas-that-will-make-you-wish-you-were-a-kid-again/)\n",
       "Let your superman show his own superpowers!Kids (and even adults) who love superheroes will fall in love with these\n",
       "incredible superhero theme party ideas that will bring out the kid in everyone! From decor ideas, party foods, and \n",
       "costume ideas to superhero-themed activities and superhero games, we have different ways to cover all of your party\n",
       "needs. These ideas will make you wish you were a ...\n",
       "\n",
       "[Mini Party Plan: How to Plan a Superhero Birthday \n",
       "Party](https://thepartyteacher.com/2018/08/23/mini-party-plan-superhero-party/)\n",
       "One of the most popular posts on this blog is a girl's superhero party. So I thought it might be fun to create a \n",
       "mini party plan for a superhero birthday party. ... I hope my ideas help make planning your superhero party easier!\n",
       "If you have a question for me, ask away in comments! Spread the love. 1.2K. Shares . 1.2K. Shares 1.2K . Related \n",
       "Posts.\n",
       "\n",
       "[25 Superhero Party Ideas For All Ages](https://playideas.com/25-superhero-party-ideas/)\n",
       "DIY Super Hero Jello Party Snack Ideas. Yum Yum this Super Hero Jello cups is amazing! Whether you are throwing an \n",
       "Avengers party or a Super Hero party in general, your party mates are sure to love this tasty treat! This layers \n",
       "makes an adorable eye-catching treat! 8. Sweet Super Man Tootsie Roll Pop Snack Ideas\n",
       "\n",
       "[Superhero Party - Easy Party Ideas and Games](https://www.easy-party-ideas-and-games.com/superhero-party.html)\n",
       "Name each split a name of a famous super hero (E.G: Batman, superman, hulk, ironman...). The host of the party will\n",
       "turn into the other direction and count to 10. The children should run to a random superhero and wait there. After \n",
       "the count, name out loud one of the superheros. Whoever is standing on the super-hero that the Host called is out.\n",
       "\n",
       "[The Most Awesome Superhero Birthday \n",
       "Party](https://smartpartyplanning.com/the-most-awesome-superhero-birthday-party/)\n",
       "Superhero Printable Party Package; Superhero Party Ideas; Lightening bolts, booms and crashes. That's what you get \n",
       "with this Superhero birthday party submitted by Krishna. The key to creating a superhero birthday party is to make \n",
       "it LOUD and to make it FUN. That's exactly what was achieved here. Look out for these details in the party:\n",
       "\n",
       "[30+ Easy Superhero Party Ideas You Can Perfect on a \n",
       "Budget](https://www.frugalcouponliving.com/superhero-party-ideas/)\n",
       "Superhero Party Food. When planing superhero food ideas, go with the colors of your characters. Red, blue, black, \n",
       "yellow - whatever the character, plan food around that. By laying colors together you can make shapes and more that\n",
       "bring forth the design of the food for the superhero party.\n",
       "\n",
       "[How to Plan a Superhero Birthday Party - Taste of \n",
       "Home](https://www.tasteofhome.com/article/superhero-birthday-party/)\n",
       "To make party drinks even more special, order superhero cups from Etsy and serve colorful juice or punch to match \n",
       "your theme. Blue Hawaiian Punch, fruit punch or orange juice are great options. Superhero Party Favors. Thank your \n",
       "superheroes for an incredible job well done with a token of your appreciation in the form of superhero party \n",
       "favors.\n",
       "\n",
       "Out: None\n"
      ]
     },
     "metadata": {},
     "output_type": "display_data"
    },
    {
     "data": {
      "text/html": [
       "<pre style=\"white-space:pre;overflow-x:auto;line-height:normal;font-family:Menlo,'DejaVu Sans Mono',consolas,'Courier New',monospace\"><span style=\"color: #7f7f7f; text-decoration-color: #7f7f7f\">[Step 2: Duration 15.01 seconds| Input tokens: 5,328 | Output tokens: 307]</span>\n",
       "</pre>\n"
      ],
      "text/plain": [
       "\u001b[2m[Step 2: Duration 15.01 seconds| Input tokens: 5,328 | Output tokens: 307]\u001b[0m\n"
      ]
     },
     "metadata": {},
     "output_type": "display_data"
    },
    {
     "data": {
      "text/html": [
       "<pre style=\"white-space:pre;overflow-x:auto;line-height:normal;font-family:Menlo,'DejaVu Sans Mono',consolas,'Courier New',monospace\"><span style=\"color: #d4b702; text-decoration-color: #d4b702\">━━━━━━━━━━━━━━━━━━━━━━━━━━━━━━━━━━━━━━━━━━━━━━━━━━━━━ </span><span style=\"font-weight: bold\">Step </span><span style=\"color: #008080; text-decoration-color: #008080; font-weight: bold\">3</span><span style=\"color: #d4b702; text-decoration-color: #d4b702\"> ━━━━━━━━━━━━━━━━━━━━━━━━━━━━━━━━━━━━━━━━━━━━━━━━━━━━━━</span>\n",
       "</pre>\n"
      ],
      "text/plain": [
       "\u001b[38;2;212;183;2m━━━━━━━━━━━━━━━━━━━━━━━━━━━━━━━━━━━━━━━━━━━━━━━━━━━━━ \u001b[0m\u001b[1mStep \u001b[0m\u001b[1;36m3\u001b[0m\u001b[38;2;212;183;2m ━━━━━━━━━━━━━━━━━━━━━━━━━━━━━━━━━━━━━━━━━━━━━━━━━━━━━━\u001b[0m\n"
      ]
     },
     "metadata": {},
     "output_type": "display_data"
    },
    {
     "data": {
      "text/html": [
       "<pre style=\"white-space:pre;overflow-x:auto;line-height:normal;font-family:Menlo,'DejaVu Sans Mono',consolas,'Courier New',monospace\"> ─ <span style=\"font-weight: bold\">Executing parsed code:</span> ──────────────────────────────────────────────────────────────────────────────────────── \n",
       "  <span style=\"color: #f8f8f2; text-decoration-color: #f8f8f2; background-color: #272822\">luxury_superhero_party_ideas_adults </span><span style=\"color: #ff4689; text-decoration-color: #ff4689; background-color: #272822\">=</span><span style=\"color: #f8f8f2; text-decoration-color: #f8f8f2; background-color: #272822\"> web_search(</span><span style=\"color: #e6db74; text-decoration-color: #e6db74; background-color: #272822\">\"luxury superhero-themed party ideas for adults\"</span><span style=\"color: #f8f8f2; text-decoration-color: #f8f8f2; background-color: #272822\">)</span><span style=\"background-color: #272822\">             </span>  \n",
       "  <span style=\"color: #f8f8f2; text-decoration-color: #f8f8f2; background-color: #272822\">print(luxury_superhero_party_ideas_adults)</span><span style=\"background-color: #272822\">                                                                     </span>  \n",
       " ───────────────────────────────────────────────────────────────────────────────────────────────────────────────── \n",
       "</pre>\n"
      ],
      "text/plain": [
       " ─ \u001b[1mExecuting parsed code:\u001b[0m ──────────────────────────────────────────────────────────────────────────────────────── \n",
       "  \u001b[38;2;248;248;242;48;2;39;40;34mluxury_superhero_party_ideas_adults\u001b[0m\u001b[38;2;248;248;242;48;2;39;40;34m \u001b[0m\u001b[38;2;255;70;137;48;2;39;40;34m=\u001b[0m\u001b[38;2;248;248;242;48;2;39;40;34m \u001b[0m\u001b[38;2;248;248;242;48;2;39;40;34mweb_search\u001b[0m\u001b[38;2;248;248;242;48;2;39;40;34m(\u001b[0m\u001b[38;2;230;219;116;48;2;39;40;34m\"\u001b[0m\u001b[38;2;230;219;116;48;2;39;40;34mluxury superhero-themed party ideas for adults\u001b[0m\u001b[38;2;230;219;116;48;2;39;40;34m\"\u001b[0m\u001b[38;2;248;248;242;48;2;39;40;34m)\u001b[0m\u001b[48;2;39;40;34m             \u001b[0m  \n",
       "  \u001b[38;2;248;248;242;48;2;39;40;34mprint\u001b[0m\u001b[38;2;248;248;242;48;2;39;40;34m(\u001b[0m\u001b[38;2;248;248;242;48;2;39;40;34mluxury_superhero_party_ideas_adults\u001b[0m\u001b[38;2;248;248;242;48;2;39;40;34m)\u001b[0m\u001b[48;2;39;40;34m                                                                     \u001b[0m  \n",
       " ───────────────────────────────────────────────────────────────────────────────────────────────────────────────── \n"
      ]
     },
     "metadata": {},
     "output_type": "display_data"
    },
    {
     "data": {
      "text/html": [
       "<pre style=\"white-space:pre;overflow-x:auto;line-height:normal;font-family:Menlo,'DejaVu Sans Mono',consolas,'Courier New',monospace\"><span style=\"font-weight: bold\">Execution logs:</span>\n",
       "## Search Results\n",
       "\n",
       "[Superhero Theme Party Ideas for Adults to Create an Unforgettable \n",
       "...](https://partyideaszone.com/superhero-theme-party-ideas-for-adults/)\n",
       "Unleash your inner hero with our ultimate guide to hosting an unforgettable superhero-themed party for adults! \n",
       "Explore creative costume ideas, vibrant decorations, and mouthwatering themed snacks and drinks. Engage your guests\n",
       "with fun activities like trivia, costume contests, and movie screenings. Follow our planning tips to create a \n",
       "cohesive, memorable experience that your friends will rave ...\n",
       "\n",
       "[33 Superhero Party Games for Adults - Fun Party Pop](https://funpartypop.com/superhero-party-games-adults/)\n",
       "Simple Super Hero Party Games for Adults. First up, we have some simple party games for adults. These games may \n",
       "seem kind of childish, but the best ones usually are. After all, who says that kids get to have all the fun here? \n",
       "So let's look through these and see which ones make our inner child the happiest. 1.\n",
       "\n",
       "[Fantastic Decorating Ideas for an Adult Superhero \n",
       "Party](https://celebrateeverydaywithme.com/fantastic-decorating-ideas-for-an-adult-superhero-party/)\n",
       "Oh and something else I loved: if guests wore a superhero t-shirt or a cape, they received a bonus five tickets for\n",
       "the chinese auction. How fun it was to look around the room and see adults get into the superhero party theme! \n",
       "Party Products Used: LED Battery Operated Lights; Basket Filler; Superhero Mini Buttons (pins) Fringed Door \n",
       "Curtains\n",
       "\n",
       "[30+ Easy Superhero Party Ideas You Can Perfect on a \n",
       "Budget](https://www.frugalcouponliving.com/superhero-party-ideas/)\n",
       "Host a superhero-themed party that is sure to be a hit without a ton of time, money, or effort. Enjoy the best DIY \n",
       "superhero party ideas, recipes, décor, &amp; games to make party planning easy-peasy. ... It also can be used as a DC \n",
       "or Marvel themed party for adults. | Michelle's Party Plan-It. Superhero Birthday Party Favors.\n",
       "\n",
       "[30+ Superhero Party Ideas - Canva](https://www.canva.com/ideas/superhero-party-ideas/)\n",
       "Browse a wide range of superhero party ideas and inspiration, from photos and templates in a stunning selection of \n",
       "styles and colours. ... all these ingenious concepts and more are in our special selection of superhero-themed \n",
       "designs and photos. Have a quick browse and find some excellent ideas for your party! Yellow Blue Red Superhero \n",
       "Pattern ...\n",
       "\n",
       "[25 Superhero Party Ideas For All Ages](https://playideas.com/25-superhero-party-ideas/)\n",
       "These super cool superhero theme party ideas are so much fun and perfect for all ages! Boy, girl, teen, or adult, \n",
       "it doesn't matter. They are perfect for your next superhero-themed food and party! We have found some amazingly \n",
       "fantastic party ideas from treats, decor, crafts to souvenirs for different sorts of superheroes, from Batman, \n",
       "Super ...\n",
       "\n",
       "[By a Pro: Superhero Party Ideas by a Professional](https://party-ideas-by-a-pro.com/party-themes/superhero-party/)\n",
       "Superhero party ideas by an award winning professional party planner including ideas for invitations, party food &amp; \n",
       "drinks, decorations, and party supplies ... a lot of the ideas could easily be adapted for an adult costume party \n",
       "so I've also included some tips and supplies specifically for adults—such as cocktail recipes. ... Patriotic 4th \n",
       "...\n",
       "\n",
       "[Superhero-Themed Party Ideas &amp; Decorations | \n",
       "CORKCICLE.](https://corkcicle.com/blogs/lifestyle/marvel-themed-party-ideas)\n",
       "Superhero-themed parties have become a beloved trend, offering an exciting way to celebrate special occasions. The \n",
       "thrill of donning capes and masks, the vibrant decorations, and the heroic atmosphere make these parties a hit \n",
       "among kids and adults alike. In this guide, we'll explore Marvel superhero party ideas, ensuring your celebration \n",
       "is as epic as the comics and movies themselves ...\n",
       "\n",
       "[Marvel Themed Party Ideas for Adults: Unleash Your Inner Superhero \n",
       "...](https://toxigon.com/marvel-themed-party-ideas-for-adults)\n",
       "As the party comes to an end, it's important to send your guests home with a smile. Here are some ideas for party \n",
       "favors and thank yous: DIY Party Favors. Create some DIY party favors that your guests can take home. This could be\n",
       "anything from superhero-themed candy to mini comic books. Get creative and make something that your guests will \n",
       "love.\n",
       "\n",
       "[The Best Superhero Party Ideas For An Epic Party - Smart Party \n",
       "Planning](https://smartpartyplanning.com/superhero-party-ideas/)\n",
       "It is always recommended to have a party backdrop behind your food table. This backdrop can also be used as a photo\n",
       "booth. Choose 3 colors to create the backdrop. If you don't want to create your own backdrop, you could purchase a \n",
       "skyline scene setter.. An easy way to give instant superhero appeal is to create buildings either on the food table\n",
       "or around the party area.\n",
       "\n",
       "Out: None\n",
       "</pre>\n"
      ],
      "text/plain": [
       "\u001b[1mExecution logs:\u001b[0m\n",
       "## Search Results\n",
       "\n",
       "[Superhero Theme Party Ideas for Adults to Create an Unforgettable \n",
       "...](https://partyideaszone.com/superhero-theme-party-ideas-for-adults/)\n",
       "Unleash your inner hero with our ultimate guide to hosting an unforgettable superhero-themed party for adults! \n",
       "Explore creative costume ideas, vibrant decorations, and mouthwatering themed snacks and drinks. Engage your guests\n",
       "with fun activities like trivia, costume contests, and movie screenings. Follow our planning tips to create a \n",
       "cohesive, memorable experience that your friends will rave ...\n",
       "\n",
       "[33 Superhero Party Games for Adults - Fun Party Pop](https://funpartypop.com/superhero-party-games-adults/)\n",
       "Simple Super Hero Party Games for Adults. First up, we have some simple party games for adults. These games may \n",
       "seem kind of childish, but the best ones usually are. After all, who says that kids get to have all the fun here? \n",
       "So let's look through these and see which ones make our inner child the happiest. 1.\n",
       "\n",
       "[Fantastic Decorating Ideas for an Adult Superhero \n",
       "Party](https://celebrateeverydaywithme.com/fantastic-decorating-ideas-for-an-adult-superhero-party/)\n",
       "Oh and something else I loved: if guests wore a superhero t-shirt or a cape, they received a bonus five tickets for\n",
       "the chinese auction. How fun it was to look around the room and see adults get into the superhero party theme! \n",
       "Party Products Used: LED Battery Operated Lights; Basket Filler; Superhero Mini Buttons (pins) Fringed Door \n",
       "Curtains\n",
       "\n",
       "[30+ Easy Superhero Party Ideas You Can Perfect on a \n",
       "Budget](https://www.frugalcouponliving.com/superhero-party-ideas/)\n",
       "Host a superhero-themed party that is sure to be a hit without a ton of time, money, or effort. Enjoy the best DIY \n",
       "superhero party ideas, recipes, décor, & games to make party planning easy-peasy. ... It also can be used as a DC \n",
       "or Marvel themed party for adults. | Michelle's Party Plan-It. Superhero Birthday Party Favors.\n",
       "\n",
       "[30+ Superhero Party Ideas - Canva](https://www.canva.com/ideas/superhero-party-ideas/)\n",
       "Browse a wide range of superhero party ideas and inspiration, from photos and templates in a stunning selection of \n",
       "styles and colours. ... all these ingenious concepts and more are in our special selection of superhero-themed \n",
       "designs and photos. Have a quick browse and find some excellent ideas for your party! Yellow Blue Red Superhero \n",
       "Pattern ...\n",
       "\n",
       "[25 Superhero Party Ideas For All Ages](https://playideas.com/25-superhero-party-ideas/)\n",
       "These super cool superhero theme party ideas are so much fun and perfect for all ages! Boy, girl, teen, or adult, \n",
       "it doesn't matter. They are perfect for your next superhero-themed food and party! We have found some amazingly \n",
       "fantastic party ideas from treats, decor, crafts to souvenirs for different sorts of superheroes, from Batman, \n",
       "Super ...\n",
       "\n",
       "[By a Pro: Superhero Party Ideas by a Professional](https://party-ideas-by-a-pro.com/party-themes/superhero-party/)\n",
       "Superhero party ideas by an award winning professional party planner including ideas for invitations, party food & \n",
       "drinks, decorations, and party supplies ... a lot of the ideas could easily be adapted for an adult costume party \n",
       "so I've also included some tips and supplies specifically for adults—such as cocktail recipes. ... Patriotic 4th \n",
       "...\n",
       "\n",
       "[Superhero-Themed Party Ideas & Decorations | \n",
       "CORKCICLE.](https://corkcicle.com/blogs/lifestyle/marvel-themed-party-ideas)\n",
       "Superhero-themed parties have become a beloved trend, offering an exciting way to celebrate special occasions. The \n",
       "thrill of donning capes and masks, the vibrant decorations, and the heroic atmosphere make these parties a hit \n",
       "among kids and adults alike. In this guide, we'll explore Marvel superhero party ideas, ensuring your celebration \n",
       "is as epic as the comics and movies themselves ...\n",
       "\n",
       "[Marvel Themed Party Ideas for Adults: Unleash Your Inner Superhero \n",
       "...](https://toxigon.com/marvel-themed-party-ideas-for-adults)\n",
       "As the party comes to an end, it's important to send your guests home with a smile. Here are some ideas for party \n",
       "favors and thank yous: DIY Party Favors. Create some DIY party favors that your guests can take home. This could be\n",
       "anything from superhero-themed candy to mini comic books. Get creative and make something that your guests will \n",
       "love.\n",
       "\n",
       "[The Best Superhero Party Ideas For An Epic Party - Smart Party \n",
       "Planning](https://smartpartyplanning.com/superhero-party-ideas/)\n",
       "It is always recommended to have a party backdrop behind your food table. This backdrop can also be used as a photo\n",
       "booth. Choose 3 colors to create the backdrop. If you don't want to create your own backdrop, you could purchase a \n",
       "skyline scene setter.. An easy way to give instant superhero appeal is to create buildings either on the food table\n",
       "or around the party area.\n",
       "\n",
       "Out: None\n"
      ]
     },
     "metadata": {},
     "output_type": "display_data"
    },
    {
     "data": {
      "text/html": [
       "<pre style=\"white-space:pre;overflow-x:auto;line-height:normal;font-family:Menlo,'DejaVu Sans Mono',consolas,'Courier New',monospace\"><span style=\"color: #7f7f7f; text-decoration-color: #7f7f7f\">[Step 3: Duration 10.80 seconds| Input tokens: 11,162 | Output tokens: 412]</span>\n",
       "</pre>\n"
      ],
      "text/plain": [
       "\u001b[2m[Step 3: Duration 10.80 seconds| Input tokens: 11,162 | Output tokens: 412]\u001b[0m\n"
      ]
     },
     "metadata": {},
     "output_type": "display_data"
    },
    {
     "data": {
      "text/html": [
       "<pre style=\"white-space:pre;overflow-x:auto;line-height:normal;font-family:Menlo,'DejaVu Sans Mono',consolas,'Courier New',monospace\"><span style=\"color: #d4b702; text-decoration-color: #d4b702\">━━━━━━━━━━━━━━━━━━━━━━━━━━━━━━━━━━━━━━━━━━━━━━━━━━━━━ </span><span style=\"font-weight: bold\">Step </span><span style=\"color: #008080; text-decoration-color: #008080; font-weight: bold\">4</span><span style=\"color: #d4b702; text-decoration-color: #d4b702\"> ━━━━━━━━━━━━━━━━━━━━━━━━━━━━━━━━━━━━━━━━━━━━━━━━━━━━━━</span>\n",
       "</pre>\n"
      ],
      "text/plain": [
       "\u001b[38;2;212;183;2m━━━━━━━━━━━━━━━━━━━━━━━━━━━━━━━━━━━━━━━━━━━━━━━━━━━━━ \u001b[0m\u001b[1mStep \u001b[0m\u001b[1;36m4\u001b[0m\u001b[38;2;212;183;2m ━━━━━━━━━━━━━━━━━━━━━━━━━━━━━━━━━━━━━━━━━━━━━━━━━━━━━━\u001b[0m\n"
      ]
     },
     "metadata": {},
     "output_type": "display_data"
    },
    {
     "data": {
      "text/html": [
       "<pre style=\"white-space:pre;overflow-x:auto;line-height:normal;font-family:Menlo,'DejaVu Sans Mono',consolas,'Courier New',monospace\"> ─ <span style=\"font-weight: bold\">Executing parsed code:</span> ──────────────────────────────────────────────────────────────────────────────────────── \n",
       "  <span style=\"color: #f8f8f2; text-decoration-color: #f8f8f2; background-color: #272822\">url </span><span style=\"color: #ff4689; text-decoration-color: #ff4689; background-color: #272822\">=</span><span style=\"color: #f8f8f2; text-decoration-color: #f8f8f2; background-color: #272822\"> </span><span style=\"color: #e6db74; text-decoration-color: #e6db74; background-color: #272822\">\"https://celebrateeverydaywithme.com/fantastic-decorating-ideas-for-an-adult-superhero-party/\"</span><span style=\"background-color: #272822\">           </span>  \n",
       "  <span style=\"color: #f8f8f2; text-decoration-color: #f8f8f2; background-color: #272822\">page_content </span><span style=\"color: #ff4689; text-decoration-color: #ff4689; background-color: #272822\">=</span><span style=\"color: #f8f8f2; text-decoration-color: #f8f8f2; background-color: #272822\"> web_search(url)</span><span style=\"background-color: #272822\">                                                                                 </span>  \n",
       "  <span style=\"color: #f8f8f2; text-decoration-color: #f8f8f2; background-color: #272822\">print(page_content)</span><span style=\"background-color: #272822\">                                                                                            </span>  \n",
       " ───────────────────────────────────────────────────────────────────────────────────────────────────────────────── \n",
       "</pre>\n"
      ],
      "text/plain": [
       " ─ \u001b[1mExecuting parsed code:\u001b[0m ──────────────────────────────────────────────────────────────────────────────────────── \n",
       "  \u001b[38;2;248;248;242;48;2;39;40;34murl\u001b[0m\u001b[38;2;248;248;242;48;2;39;40;34m \u001b[0m\u001b[38;2;255;70;137;48;2;39;40;34m=\u001b[0m\u001b[38;2;248;248;242;48;2;39;40;34m \u001b[0m\u001b[38;2;230;219;116;48;2;39;40;34m\"\u001b[0m\u001b[38;2;230;219;116;48;2;39;40;34mhttps://celebrateeverydaywithme.com/fantastic-decorating-ideas-for-an-adult-superhero-party/\u001b[0m\u001b[38;2;230;219;116;48;2;39;40;34m\"\u001b[0m\u001b[48;2;39;40;34m           \u001b[0m  \n",
       "  \u001b[38;2;248;248;242;48;2;39;40;34mpage_content\u001b[0m\u001b[38;2;248;248;242;48;2;39;40;34m \u001b[0m\u001b[38;2;255;70;137;48;2;39;40;34m=\u001b[0m\u001b[38;2;248;248;242;48;2;39;40;34m \u001b[0m\u001b[38;2;248;248;242;48;2;39;40;34mweb_search\u001b[0m\u001b[38;2;248;248;242;48;2;39;40;34m(\u001b[0m\u001b[38;2;248;248;242;48;2;39;40;34murl\u001b[0m\u001b[38;2;248;248;242;48;2;39;40;34m)\u001b[0m\u001b[48;2;39;40;34m                                                                                 \u001b[0m  \n",
       "  \u001b[38;2;248;248;242;48;2;39;40;34mprint\u001b[0m\u001b[38;2;248;248;242;48;2;39;40;34m(\u001b[0m\u001b[38;2;248;248;242;48;2;39;40;34mpage_content\u001b[0m\u001b[38;2;248;248;242;48;2;39;40;34m)\u001b[0m\u001b[48;2;39;40;34m                                                                                            \u001b[0m  \n",
       " ───────────────────────────────────────────────────────────────────────────────────────────────────────────────── \n"
      ]
     },
     "metadata": {},
     "output_type": "display_data"
    },
    {
     "data": {
      "text/html": [
       "<pre style=\"white-space:pre;overflow-x:auto;line-height:normal;font-family:Menlo,'DejaVu Sans Mono',consolas,'Courier New',monospace\"><span style=\"font-weight: bold\">Execution logs:</span>\n",
       "## Search Results\n",
       "\n",
       "[Fantastic Decorating Ideas for an Adult Superhero \n",
       "Party](https://celebrateeverydaywithme.com/fantastic-decorating-ideas-for-an-adult-superhero-party/)\n",
       "Oh and something else I loved: if guests wore a superhero t-shirt or a cape, they received a bonus five tickets for\n",
       "the chinese auction. How fun it was to look around the room and see adults get into the superhero party theme! \n",
       "Party Products Used: LED Battery Operated Lights; Basket Filler; Superhero Mini Buttons (pins) Fringed Door \n",
       "Curtains\n",
       "\n",
       "[Fantastic Decorating Ideas for an Adult Superhero Party - \n",
       "Pinterest](https://www.pinterest.com/pin/fantastic-decorating-ideas-for-an-adult-superhero-party-celebrate-every-da\n",
       "y-with-me--361695413840647075/)\n",
       "Nov 9, 2024 - Looking for creative ideas for an adult superhero party? You've come to the right place! Check out \n",
       "the centerpieces, diy photo booth and room decor for our fun parents' night out event.\n",
       "\n",
       "[Superhero Theme Party Ideas for Adults to Create an Unforgettable \n",
       "...](https://partyideaszone.com/superhero-theme-party-ideas-for-adults/)\n",
       "Unleash your inner hero with our ultimate guide to hosting an unforgettable superhero-themed party for adults! \n",
       "Explore creative costume ideas, vibrant decorations, and mouthwatering themed snacks and drinks. Engage your guests\n",
       "with fun activities like trivia, costume contests, and movie screenings. Follow our planning tips to create a \n",
       "cohesive, memorable experience that your friends will rave ...\n",
       "\n",
       "[30+ Easy Superhero Party Ideas You Can Perfect on a \n",
       "Budget](https://www.frugalcouponliving.com/superhero-party-ideas/)\n",
       "Superhero Party Food. When planing superhero food ideas, go with the colors of your characters. Red, blue, black, \n",
       "yellow - whatever the character, plan food around that. By laying colors together you can make shapes and more that\n",
       "bring forth the design of the food for the superhero party.\n",
       "\n",
       "[25 Superhero Party Ideas For All Ages](https://playideas.com/25-superhero-party-ideas/)\n",
       "13. Easy DIY Super Hero Decor for kids, Teens and Adult Parties. Wow this Super Hero party table is packed with \n",
       "totally awesome superhero party ideas! Each piece so simple to make, but adding such a huge POP! to the design. So \n",
       "get your printer ready and BAM you've got some amazing party decor on a budget!\n",
       "\n",
       "[By Theme - Celebrate Every Day With Me](https://celebrateeverydaywithme.com/theme/)\n",
       "Fantastic Decorating Ideas for an Adult Superhero Party ... If you have a child who loves dogs and cats, you'll \n",
       "want to check out this dog and cat party for fun ideas and inexpensive decor inspiration! My daughter turned 7 last\n",
       "year (yes, I know I am so late on sharing this party!). ... Visit Kristen (Celebrate Every Day With Me)'s profile \n",
       "on ...\n",
       "\n",
       "[The Best Superhero Party Ideas For An Epic Party - Smart Party \n",
       "Planning](https://smartpartyplanning.com/superhero-party-ideas/)\n",
       "Awesome superhero party ideas that will have your kids showing off their superhero powers in no time at all. With \n",
       "ideas for decorations, food and party games you will easily win the status of superhero mom. These ideas can be \n",
       "achieved on a budget with a bit of DIY. The kids are going to love them. Related articles: 5 Awesome Batman Party \n",
       "Ideas\n",
       "\n",
       "[Mini Party Plan: How to Plan a Superhero Birthday \n",
       "Party](https://thepartyteacher.com/2018/08/23/mini-party-plan-superhero-party/)\n",
       "One of the most popular posts on this blog is a girl's superhero party. So I thought it might be fun to create a \n",
       "mini party plan for a superhero birthday party. I styled this mini party plan in the traditional red, yellow, and \n",
       "blue, but you could change the color palette for a more girly pink and purple superhero party, if you prefer.\n",
       "\n",
       "[Superhero theme party for adults - \n",
       "Pinterest](https://www.pinterest.com/ideas/superhero-theme-party-for-adults/916708620865/)\n",
       "Find and save ideas about superhero theme party for adults on Pinterest.\n",
       "\n",
       "[24 Superhero Party Ideas that Will Make You Wish You Were a \n",
       "Kid](https://howdoesshe.com/24-incredible-superhero-party-ideas-that-will-make-you-wish-you-were-a-kid-again/)\n",
       "Let your superman show his own superpowers!Kids (and even adults) who love superheroes will fall in love with these\n",
       "incredible superhero theme party ideas that will bring out the kid in everyone! From decor ideas, party foods, and \n",
       "costume ideas to superhero-themed activities and superhero games, we have different ways to cover all of your party\n",
       "needs. These ideas will make you wish you were a ...\n",
       "\n",
       "Out: None\n",
       "</pre>\n"
      ],
      "text/plain": [
       "\u001b[1mExecution logs:\u001b[0m\n",
       "## Search Results\n",
       "\n",
       "[Fantastic Decorating Ideas for an Adult Superhero \n",
       "Party](https://celebrateeverydaywithme.com/fantastic-decorating-ideas-for-an-adult-superhero-party/)\n",
       "Oh and something else I loved: if guests wore a superhero t-shirt or a cape, they received a bonus five tickets for\n",
       "the chinese auction. How fun it was to look around the room and see adults get into the superhero party theme! \n",
       "Party Products Used: LED Battery Operated Lights; Basket Filler; Superhero Mini Buttons (pins) Fringed Door \n",
       "Curtains\n",
       "\n",
       "[Fantastic Decorating Ideas for an Adult Superhero Party - \n",
       "Pinterest](https://www.pinterest.com/pin/fantastic-decorating-ideas-for-an-adult-superhero-party-celebrate-every-da\n",
       "y-with-me--361695413840647075/)\n",
       "Nov 9, 2024 - Looking for creative ideas for an adult superhero party? You've come to the right place! Check out \n",
       "the centerpieces, diy photo booth and room decor for our fun parents' night out event.\n",
       "\n",
       "[Superhero Theme Party Ideas for Adults to Create an Unforgettable \n",
       "...](https://partyideaszone.com/superhero-theme-party-ideas-for-adults/)\n",
       "Unleash your inner hero with our ultimate guide to hosting an unforgettable superhero-themed party for adults! \n",
       "Explore creative costume ideas, vibrant decorations, and mouthwatering themed snacks and drinks. Engage your guests\n",
       "with fun activities like trivia, costume contests, and movie screenings. Follow our planning tips to create a \n",
       "cohesive, memorable experience that your friends will rave ...\n",
       "\n",
       "[30+ Easy Superhero Party Ideas You Can Perfect on a \n",
       "Budget](https://www.frugalcouponliving.com/superhero-party-ideas/)\n",
       "Superhero Party Food. When planing superhero food ideas, go with the colors of your characters. Red, blue, black, \n",
       "yellow - whatever the character, plan food around that. By laying colors together you can make shapes and more that\n",
       "bring forth the design of the food for the superhero party.\n",
       "\n",
       "[25 Superhero Party Ideas For All Ages](https://playideas.com/25-superhero-party-ideas/)\n",
       "13. Easy DIY Super Hero Decor for kids, Teens and Adult Parties. Wow this Super Hero party table is packed with \n",
       "totally awesome superhero party ideas! Each piece so simple to make, but adding such a huge POP! to the design. So \n",
       "get your printer ready and BAM you've got some amazing party decor on a budget!\n",
       "\n",
       "[By Theme - Celebrate Every Day With Me](https://celebrateeverydaywithme.com/theme/)\n",
       "Fantastic Decorating Ideas for an Adult Superhero Party ... If you have a child who loves dogs and cats, you'll \n",
       "want to check out this dog and cat party for fun ideas and inexpensive decor inspiration! My daughter turned 7 last\n",
       "year (yes, I know I am so late on sharing this party!). ... Visit Kristen (Celebrate Every Day With Me)'s profile \n",
       "on ...\n",
       "\n",
       "[The Best Superhero Party Ideas For An Epic Party - Smart Party \n",
       "Planning](https://smartpartyplanning.com/superhero-party-ideas/)\n",
       "Awesome superhero party ideas that will have your kids showing off their superhero powers in no time at all. With \n",
       "ideas for decorations, food and party games you will easily win the status of superhero mom. These ideas can be \n",
       "achieved on a budget with a bit of DIY. The kids are going to love them. Related articles: 5 Awesome Batman Party \n",
       "Ideas\n",
       "\n",
       "[Mini Party Plan: How to Plan a Superhero Birthday \n",
       "Party](https://thepartyteacher.com/2018/08/23/mini-party-plan-superhero-party/)\n",
       "One of the most popular posts on this blog is a girl's superhero party. So I thought it might be fun to create a \n",
       "mini party plan for a superhero birthday party. I styled this mini party plan in the traditional red, yellow, and \n",
       "blue, but you could change the color palette for a more girly pink and purple superhero party, if you prefer.\n",
       "\n",
       "[Superhero theme party for adults - \n",
       "Pinterest](https://www.pinterest.com/ideas/superhero-theme-party-for-adults/916708620865/)\n",
       "Find and save ideas about superhero theme party for adults on Pinterest.\n",
       "\n",
       "[24 Superhero Party Ideas that Will Make You Wish You Were a \n",
       "Kid](https://howdoesshe.com/24-incredible-superhero-party-ideas-that-will-make-you-wish-you-were-a-kid-again/)\n",
       "Let your superman show his own superpowers!Kids (and even adults) who love superheroes will fall in love with these\n",
       "incredible superhero theme party ideas that will bring out the kid in everyone! From decor ideas, party foods, and \n",
       "costume ideas to superhero-themed activities and superhero games, we have different ways to cover all of your party\n",
       "needs. These ideas will make you wish you were a ...\n",
       "\n",
       "Out: None\n"
      ]
     },
     "metadata": {},
     "output_type": "display_data"
    },
    {
     "data": {
      "text/html": [
       "<pre style=\"white-space:pre;overflow-x:auto;line-height:normal;font-family:Menlo,'DejaVu Sans Mono',consolas,'Courier New',monospace\"><span style=\"color: #7f7f7f; text-decoration-color: #7f7f7f\">[Step 4: Duration 13.31 seconds| Input tokens: 18,236 | Output tokens: 531]</span>\n",
       "</pre>\n"
      ],
      "text/plain": [
       "\u001b[2m[Step 4: Duration 13.31 seconds| Input tokens: 18,236 | Output tokens: 531]\u001b[0m\n"
      ]
     },
     "metadata": {},
     "output_type": "display_data"
    },
    {
     "data": {
      "text/html": [
       "<pre style=\"white-space:pre;overflow-x:auto;line-height:normal;font-family:Menlo,'DejaVu Sans Mono',consolas,'Courier New',monospace\"><span style=\"color: #d4b702; text-decoration-color: #d4b702\">━━━━━━━━━━━━━━━━━━━━━━━━━━━━━━━━━━━━━━━━━━━━━━━━━━━━━ </span><span style=\"font-weight: bold\">Step </span><span style=\"color: #008080; text-decoration-color: #008080; font-weight: bold\">5</span><span style=\"color: #d4b702; text-decoration-color: #d4b702\"> ━━━━━━━━━━━━━━━━━━━━━━━━━━━━━━━━━━━━━━━━━━━━━━━━━━━━━━</span>\n",
       "</pre>\n"
      ],
      "text/plain": [
       "\u001b[38;2;212;183;2m━━━━━━━━━━━━━━━━━━━━━━━━━━━━━━━━━━━━━━━━━━━━━━━━━━━━━ \u001b[0m\u001b[1mStep \u001b[0m\u001b[1;36m5\u001b[0m\u001b[38;2;212;183;2m ━━━━━━━━━━━━━━━━━━━━━━━━━━━━━━━━━━━━━━━━━━━━━━━━━━━━━━\u001b[0m\n"
      ]
     },
     "metadata": {},
     "output_type": "display_data"
    },
    {
     "data": {
      "text/html": [
       "<pre style=\"white-space:pre;overflow-x:auto;line-height:normal;font-family:Menlo,'DejaVu Sans Mono',consolas,'Courier New',monospace\"> ─ <span style=\"font-weight: bold\">Executing parsed code:</span> ──────────────────────────────────────────────────────────────────────────────────────── \n",
       "  <span style=\"color: #f8f8f2; text-decoration-color: #f8f8f2; background-color: #272822\">decorations </span><span style=\"color: #ff4689; text-decoration-color: #ff4689; background-color: #272822\">=</span><span style=\"color: #f8f8f2; text-decoration-color: #f8f8f2; background-color: #272822\"> </span><span style=\"color: #e6db74; text-decoration-color: #e6db74; background-color: #272822\">\"\"\"</span><span style=\"background-color: #272822\">                                                                                              </span>  \n",
       "  <span style=\"color: #e6db74; text-decoration-color: #e6db74; background-color: #272822\">1. **LED Battery Operated Lights**: Create a dynamic and vibrant atmosphere.</span><span style=\"background-color: #272822\">                                   </span>  \n",
       "  <span style=\"color: #e6db74; text-decoration-color: #e6db74; background-color: #272822\">2. **Fringed Door Curtains**: Add a touch of flair to your entryway.</span><span style=\"background-color: #272822\">                                           </span>  \n",
       "  <span style=\"color: #e6db74; text-decoration-color: #e6db74; background-color: #272822\">3. **Superhero Mini Buttons (pins)**: Decorate walls or use as photo booth props.</span><span style=\"background-color: #272822\">                              </span>  \n",
       "  <span style=\"color: #e6db74; text-decoration-color: #e6db74; background-color: #272822\">4. **Backdrop with Superhero Symbols**: Use a party backdrop behind your food table and photo booth.</span><span style=\"background-color: #272822\">           </span>  \n",
       "  <span style=\"color: #e6db74; text-decoration-color: #e6db74; background-color: #272822\">5. **Building Set Pieces**: Create buildings or cityscapes around the party area.</span><span style=\"background-color: #272822\">                              </span>  \n",
       "  <span style=\"color: #e6db74; text-decoration-color: #e6db74; background-color: #272822\">6. **Centerpieces**: Include iconic superhero symbols or decorations.</span><span style=\"background-color: #272822\">                                          </span>  \n",
       "  <span style=\"color: #e6db74; text-decoration-color: #e6db74; background-color: #272822\">\"\"\"</span><span style=\"background-color: #272822\">                                                                                                            </span>  \n",
       "  <span style=\"background-color: #272822\">                                                                                                               </span>  \n",
       "  <span style=\"color: #f8f8f2; text-decoration-color: #f8f8f2; background-color: #272822\">entertainment </span><span style=\"color: #ff4689; text-decoration-color: #ff4689; background-color: #272822\">=</span><span style=\"color: #f8f8f2; text-decoration-color: #f8f8f2; background-color: #272822\"> </span><span style=\"color: #e6db74; text-decoration-color: #e6db74; background-color: #272822\">\"\"\"</span><span style=\"background-color: #272822\">                                                                                            </span>  \n",
       "  <span style=\"color: #e6db74; text-decoration-color: #e6db74; background-color: #272822\">1. **Costume Contest**: Encourage guests to come dressed as their favorite superheroes.</span><span style=\"background-color: #272822\">                        </span>  \n",
       "  <span style=\"color: #e6db74; text-decoration-color: #e6db74; background-color: #272822\">2. **Superhero Trivia**: Test knowledge of superheroes with trivia questions.</span><span style=\"background-color: #272822\">                                  </span>  \n",
       "  <span style=\"color: #e6db74; text-decoration-color: #e6db74; background-color: #272822\">3. **Photo Booth**: Set up a photo booth with superhero props and backdrops.</span><span style=\"background-color: #272822\">                                   </span>  \n",
       "  <span style=\"color: #e6db74; text-decoration-color: #e6db74; background-color: #272822\">4. **Movie Screenings**: Show superhero movies to create a cinematic atmosphere.</span><span style=\"background-color: #272822\">                               </span>  \n",
       "  <span style=\"color: #e6db74; text-decoration-color: #e6db74; background-color: #272822\">5. **Games and Challenges**: Incorporate Marvel or DC-themed games for fun.</span><span style=\"background-color: #272822\">                                    </span>  \n",
       "  <span style=\"color: #e6db74; text-decoration-color: #e6db74; background-color: #272822\">\"\"\"</span><span style=\"background-color: #272822\">                                                                                                            </span>  \n",
       "  <span style=\"background-color: #272822\">                                                                                                               </span>  \n",
       "  <span style=\"color: #f8f8f2; text-decoration-color: #f8f8f2; background-color: #272822\">catering </span><span style=\"color: #ff4689; text-decoration-color: #ff4689; background-color: #272822\">=</span><span style=\"color: #f8f8f2; text-decoration-color: #f8f8f2; background-color: #272822\"> </span><span style=\"color: #e6db74; text-decoration-color: #e6db74; background-color: #272822\">\"\"\"</span><span style=\"background-color: #272822\">                                                                                                 </span>  \n",
       "  <span style=\"color: #e6db74; text-decoration-color: #e6db74; background-color: #272822\">1. **Superhero-Themed Cocktails**: Use hero or villain-inspired cocktail recipes.</span><span style=\"background-color: #272822\">                              </span>  \n",
       "  <span style=\"color: #e6db74; text-decoration-color: #e6db74; background-color: #272822\">2. **Party Foods**: Plan superhero food ideas around their colors (red, blue, black, yellow).</span><span style=\"background-color: #272822\">                  </span>  \n",
       "  <span style=\"color: #e6db74; text-decoration-color: #e6db74; background-color: #272822\">3. **Coffee and Treats**: Offer coffee stations with superhero-themed cups and treats.</span><span style=\"background-color: #272822\">                         </span>  \n",
       "  <span style=\"color: #e6db74; text-decoration-color: #e6db74; background-color: #272822\">4. **Party Favors**: Send guests home with superhero-themed candy, mini comic books, or toys.</span><span style=\"background-color: #272822\">                  </span>  \n",
       "  <span style=\"color: #e6db74; text-decoration-color: #e6db74; background-color: #272822\">5. **DIY cocktails**: Have a bar with DIY superhero cocktails.</span><span style=\"background-color: #272822\">                                                 </span>  \n",
       "  <span style=\"color: #e6db74; text-decoration-color: #e6db74; background-color: #272822\">\"\"\"</span><span style=\"background-color: #272822\">                                                                                                            </span>  \n",
       "  <span style=\"background-color: #272822\">                                                                                                               </span>  \n",
       "  <span style=\"color: #f8f8f2; text-decoration-color: #f8f8f2; background-color: #272822\">print(</span><span style=\"color: #e6db74; text-decoration-color: #e6db74; background-color: #272822\">\"Decorations:\"</span><span style=\"color: #f8f8f2; text-decoration-color: #f8f8f2; background-color: #272822\">)</span><span style=\"background-color: #272822\">                                                                                          </span>  \n",
       "  <span style=\"color: #f8f8f2; text-decoration-color: #f8f8f2; background-color: #272822\">print(decorations)</span><span style=\"background-color: #272822\">                                                                                             </span>  \n",
       "  <span style=\"color: #f8f8f2; text-decoration-color: #f8f8f2; background-color: #272822\">print(</span><span style=\"color: #e6db74; text-decoration-color: #e6db74; background-color: #272822\">\"</span><span style=\"color: #ae81ff; text-decoration-color: #ae81ff; background-color: #272822\">\\n</span><span style=\"color: #e6db74; text-decoration-color: #e6db74; background-color: #272822\">Entertainment:\"</span><span style=\"color: #f8f8f2; text-decoration-color: #f8f8f2; background-color: #272822\">)</span><span style=\"background-color: #272822\">                                                                                      </span>  \n",
       "  <span style=\"color: #f8f8f2; text-decoration-color: #f8f8f2; background-color: #272822\">print(entertainment)</span><span style=\"background-color: #272822\">                                                                                           </span>  \n",
       "  <span style=\"color: #f8f8f2; text-decoration-color: #f8f8f2; background-color: #272822\">print(</span><span style=\"color: #e6db74; text-decoration-color: #e6db74; background-color: #272822\">\"</span><span style=\"color: #ae81ff; text-decoration-color: #ae81ff; background-color: #272822\">\\n</span><span style=\"color: #e6db74; text-decoration-color: #e6db74; background-color: #272822\">Catering:\"</span><span style=\"color: #f8f8f2; text-decoration-color: #f8f8f2; background-color: #272822\">)</span><span style=\"background-color: #272822\">                                                                                           </span>  \n",
       "  <span style=\"color: #f8f8f2; text-decoration-color: #f8f8f2; background-color: #272822\">print(catering)</span><span style=\"background-color: #272822\">                                                                                                </span>  \n",
       " ───────────────────────────────────────────────────────────────────────────────────────────────────────────────── \n",
       "</pre>\n"
      ],
      "text/plain": [
       " ─ \u001b[1mExecuting parsed code:\u001b[0m ──────────────────────────────────────────────────────────────────────────────────────── \n",
       "  \u001b[38;2;248;248;242;48;2;39;40;34mdecorations\u001b[0m\u001b[38;2;248;248;242;48;2;39;40;34m \u001b[0m\u001b[38;2;255;70;137;48;2;39;40;34m=\u001b[0m\u001b[38;2;248;248;242;48;2;39;40;34m \u001b[0m\u001b[38;2;230;219;116;48;2;39;40;34m\"\"\"\u001b[0m\u001b[48;2;39;40;34m                                                                                              \u001b[0m  \n",
       "  \u001b[38;2;230;219;116;48;2;39;40;34m1. **LED Battery Operated Lights**: Create a dynamic and vibrant atmosphere.\u001b[0m\u001b[48;2;39;40;34m                                   \u001b[0m  \n",
       "  \u001b[38;2;230;219;116;48;2;39;40;34m2. **Fringed Door Curtains**: Add a touch of flair to your entryway.\u001b[0m\u001b[48;2;39;40;34m                                           \u001b[0m  \n",
       "  \u001b[38;2;230;219;116;48;2;39;40;34m3. **Superhero Mini Buttons (pins)**: Decorate walls or use as photo booth props.\u001b[0m\u001b[48;2;39;40;34m                              \u001b[0m  \n",
       "  \u001b[38;2;230;219;116;48;2;39;40;34m4. **Backdrop with Superhero Symbols**: Use a party backdrop behind your food table and photo booth.\u001b[0m\u001b[48;2;39;40;34m           \u001b[0m  \n",
       "  \u001b[38;2;230;219;116;48;2;39;40;34m5. **Building Set Pieces**: Create buildings or cityscapes around the party area.\u001b[0m\u001b[48;2;39;40;34m                              \u001b[0m  \n",
       "  \u001b[38;2;230;219;116;48;2;39;40;34m6. **Centerpieces**: Include iconic superhero symbols or decorations.\u001b[0m\u001b[48;2;39;40;34m                                          \u001b[0m  \n",
       "  \u001b[38;2;230;219;116;48;2;39;40;34m\"\"\"\u001b[0m\u001b[48;2;39;40;34m                                                                                                            \u001b[0m  \n",
       "  \u001b[48;2;39;40;34m                                                                                                               \u001b[0m  \n",
       "  \u001b[38;2;248;248;242;48;2;39;40;34mentertainment\u001b[0m\u001b[38;2;248;248;242;48;2;39;40;34m \u001b[0m\u001b[38;2;255;70;137;48;2;39;40;34m=\u001b[0m\u001b[38;2;248;248;242;48;2;39;40;34m \u001b[0m\u001b[38;2;230;219;116;48;2;39;40;34m\"\"\"\u001b[0m\u001b[48;2;39;40;34m                                                                                            \u001b[0m  \n",
       "  \u001b[38;2;230;219;116;48;2;39;40;34m1. **Costume Contest**: Encourage guests to come dressed as their favorite superheroes.\u001b[0m\u001b[48;2;39;40;34m                        \u001b[0m  \n",
       "  \u001b[38;2;230;219;116;48;2;39;40;34m2. **Superhero Trivia**: Test knowledge of superheroes with trivia questions.\u001b[0m\u001b[48;2;39;40;34m                                  \u001b[0m  \n",
       "  \u001b[38;2;230;219;116;48;2;39;40;34m3. **Photo Booth**: Set up a photo booth with superhero props and backdrops.\u001b[0m\u001b[48;2;39;40;34m                                   \u001b[0m  \n",
       "  \u001b[38;2;230;219;116;48;2;39;40;34m4. **Movie Screenings**: Show superhero movies to create a cinematic atmosphere.\u001b[0m\u001b[48;2;39;40;34m                               \u001b[0m  \n",
       "  \u001b[38;2;230;219;116;48;2;39;40;34m5. **Games and Challenges**: Incorporate Marvel or DC-themed games for fun.\u001b[0m\u001b[48;2;39;40;34m                                    \u001b[0m  \n",
       "  \u001b[38;2;230;219;116;48;2;39;40;34m\"\"\"\u001b[0m\u001b[48;2;39;40;34m                                                                                                            \u001b[0m  \n",
       "  \u001b[48;2;39;40;34m                                                                                                               \u001b[0m  \n",
       "  \u001b[38;2;248;248;242;48;2;39;40;34mcatering\u001b[0m\u001b[38;2;248;248;242;48;2;39;40;34m \u001b[0m\u001b[38;2;255;70;137;48;2;39;40;34m=\u001b[0m\u001b[38;2;248;248;242;48;2;39;40;34m \u001b[0m\u001b[38;2;230;219;116;48;2;39;40;34m\"\"\"\u001b[0m\u001b[48;2;39;40;34m                                                                                                 \u001b[0m  \n",
       "  \u001b[38;2;230;219;116;48;2;39;40;34m1. **Superhero-Themed Cocktails**: Use hero or villain-inspired cocktail recipes.\u001b[0m\u001b[48;2;39;40;34m                              \u001b[0m  \n",
       "  \u001b[38;2;230;219;116;48;2;39;40;34m2. **Party Foods**: Plan superhero food ideas around their colors (red, blue, black, yellow).\u001b[0m\u001b[48;2;39;40;34m                  \u001b[0m  \n",
       "  \u001b[38;2;230;219;116;48;2;39;40;34m3. **Coffee and Treats**: Offer coffee stations with superhero-themed cups and treats.\u001b[0m\u001b[48;2;39;40;34m                         \u001b[0m  \n",
       "  \u001b[38;2;230;219;116;48;2;39;40;34m4. **Party Favors**: Send guests home with superhero-themed candy, mini comic books, or toys.\u001b[0m\u001b[48;2;39;40;34m                  \u001b[0m  \n",
       "  \u001b[38;2;230;219;116;48;2;39;40;34m5. **DIY cocktails**: Have a bar with DIY superhero cocktails.\u001b[0m\u001b[48;2;39;40;34m                                                 \u001b[0m  \n",
       "  \u001b[38;2;230;219;116;48;2;39;40;34m\"\"\"\u001b[0m\u001b[48;2;39;40;34m                                                                                                            \u001b[0m  \n",
       "  \u001b[48;2;39;40;34m                                                                                                               \u001b[0m  \n",
       "  \u001b[38;2;248;248;242;48;2;39;40;34mprint\u001b[0m\u001b[38;2;248;248;242;48;2;39;40;34m(\u001b[0m\u001b[38;2;230;219;116;48;2;39;40;34m\"\u001b[0m\u001b[38;2;230;219;116;48;2;39;40;34mDecorations:\u001b[0m\u001b[38;2;230;219;116;48;2;39;40;34m\"\u001b[0m\u001b[38;2;248;248;242;48;2;39;40;34m)\u001b[0m\u001b[48;2;39;40;34m                                                                                          \u001b[0m  \n",
       "  \u001b[38;2;248;248;242;48;2;39;40;34mprint\u001b[0m\u001b[38;2;248;248;242;48;2;39;40;34m(\u001b[0m\u001b[38;2;248;248;242;48;2;39;40;34mdecorations\u001b[0m\u001b[38;2;248;248;242;48;2;39;40;34m)\u001b[0m\u001b[48;2;39;40;34m                                                                                             \u001b[0m  \n",
       "  \u001b[38;2;248;248;242;48;2;39;40;34mprint\u001b[0m\u001b[38;2;248;248;242;48;2;39;40;34m(\u001b[0m\u001b[38;2;230;219;116;48;2;39;40;34m\"\u001b[0m\u001b[38;2;174;129;255;48;2;39;40;34m\\n\u001b[0m\u001b[38;2;230;219;116;48;2;39;40;34mEntertainment:\u001b[0m\u001b[38;2;230;219;116;48;2;39;40;34m\"\u001b[0m\u001b[38;2;248;248;242;48;2;39;40;34m)\u001b[0m\u001b[48;2;39;40;34m                                                                                      \u001b[0m  \n",
       "  \u001b[38;2;248;248;242;48;2;39;40;34mprint\u001b[0m\u001b[38;2;248;248;242;48;2;39;40;34m(\u001b[0m\u001b[38;2;248;248;242;48;2;39;40;34mentertainment\u001b[0m\u001b[38;2;248;248;242;48;2;39;40;34m)\u001b[0m\u001b[48;2;39;40;34m                                                                                           \u001b[0m  \n",
       "  \u001b[38;2;248;248;242;48;2;39;40;34mprint\u001b[0m\u001b[38;2;248;248;242;48;2;39;40;34m(\u001b[0m\u001b[38;2;230;219;116;48;2;39;40;34m\"\u001b[0m\u001b[38;2;174;129;255;48;2;39;40;34m\\n\u001b[0m\u001b[38;2;230;219;116;48;2;39;40;34mCatering:\u001b[0m\u001b[38;2;230;219;116;48;2;39;40;34m\"\u001b[0m\u001b[38;2;248;248;242;48;2;39;40;34m)\u001b[0m\u001b[48;2;39;40;34m                                                                                           \u001b[0m  \n",
       "  \u001b[38;2;248;248;242;48;2;39;40;34mprint\u001b[0m\u001b[38;2;248;248;242;48;2;39;40;34m(\u001b[0m\u001b[38;2;248;248;242;48;2;39;40;34mcatering\u001b[0m\u001b[38;2;248;248;242;48;2;39;40;34m)\u001b[0m\u001b[48;2;39;40;34m                                                                                                \u001b[0m  \n",
       " ───────────────────────────────────────────────────────────────────────────────────────────────────────────────── \n"
      ]
     },
     "metadata": {},
     "output_type": "display_data"
    },
    {
     "data": {
      "text/html": [
       "<pre style=\"white-space:pre;overflow-x:auto;line-height:normal;font-family:Menlo,'DejaVu Sans Mono',consolas,'Courier New',monospace\"><span style=\"font-weight: bold\">Execution logs:</span>\n",
       "Decorations:\n",
       "\n",
       "1. **LED Battery Operated Lights**: Create a dynamic and vibrant atmosphere.\n",
       "2. **Fringed Door Curtains**: Add a touch of flair to your entryway.\n",
       "3. **Superhero Mini Buttons (pins)**: Decorate walls or use as photo booth props.\n",
       "4. **Backdrop with Superhero Symbols**: Use a party backdrop behind your food table and photo booth.\n",
       "5. **Building Set Pieces**: Create buildings or cityscapes around the party area.\n",
       "6. **Centerpieces**: Include iconic superhero symbols or decorations.\n",
       "\n",
       "\n",
       "Entertainment:\n",
       "\n",
       "1. **Costume Contest**: Encourage guests to come dressed as their favorite superheroes.\n",
       "2. **Superhero Trivia**: Test knowledge of superheroes with trivia questions.\n",
       "3. **Photo Booth**: Set up a photo booth with superhero props and backdrops.\n",
       "4. **Movie Screenings**: Show superhero movies to create a cinematic atmosphere.\n",
       "5. **Games and Challenges**: Incorporate Marvel or DC-themed games for fun.\n",
       "\n",
       "\n",
       "Catering:\n",
       "\n",
       "1. **Superhero-Themed Cocktails**: Use hero or villain-inspired cocktail recipes.\n",
       "2. **Party Foods**: Plan superhero food ideas around their colors (red, blue, black, yellow).\n",
       "3. **Coffee and Treats**: Offer coffee stations with superhero-themed cups and treats.\n",
       "4. **Party Favors**: Send guests home with superhero-themed candy, mini comic books, or toys.\n",
       "5. **DIY cocktails**: Have a bar with DIY superhero cocktails.\n",
       "\n",
       "\n",
       "Out: None\n",
       "</pre>\n"
      ],
      "text/plain": [
       "\u001b[1mExecution logs:\u001b[0m\n",
       "Decorations:\n",
       "\n",
       "1. **LED Battery Operated Lights**: Create a dynamic and vibrant atmosphere.\n",
       "2. **Fringed Door Curtains**: Add a touch of flair to your entryway.\n",
       "3. **Superhero Mini Buttons (pins)**: Decorate walls or use as photo booth props.\n",
       "4. **Backdrop with Superhero Symbols**: Use a party backdrop behind your food table and photo booth.\n",
       "5. **Building Set Pieces**: Create buildings or cityscapes around the party area.\n",
       "6. **Centerpieces**: Include iconic superhero symbols or decorations.\n",
       "\n",
       "\n",
       "Entertainment:\n",
       "\n",
       "1. **Costume Contest**: Encourage guests to come dressed as their favorite superheroes.\n",
       "2. **Superhero Trivia**: Test knowledge of superheroes with trivia questions.\n",
       "3. **Photo Booth**: Set up a photo booth with superhero props and backdrops.\n",
       "4. **Movie Screenings**: Show superhero movies to create a cinematic atmosphere.\n",
       "5. **Games and Challenges**: Incorporate Marvel or DC-themed games for fun.\n",
       "\n",
       "\n",
       "Catering:\n",
       "\n",
       "1. **Superhero-Themed Cocktails**: Use hero or villain-inspired cocktail recipes.\n",
       "2. **Party Foods**: Plan superhero food ideas around their colors (red, blue, black, yellow).\n",
       "3. **Coffee and Treats**: Offer coffee stations with superhero-themed cups and treats.\n",
       "4. **Party Favors**: Send guests home with superhero-themed candy, mini comic books, or toys.\n",
       "5. **DIY cocktails**: Have a bar with DIY superhero cocktails.\n",
       "\n",
       "\n",
       "Out: None\n"
      ]
     },
     "metadata": {},
     "output_type": "display_data"
    },
    {
     "data": {
      "text/html": [
       "<pre style=\"white-space:pre;overflow-x:auto;line-height:normal;font-family:Menlo,'DejaVu Sans Mono',consolas,'Courier New',monospace\"><span style=\"color: #7f7f7f; text-decoration-color: #7f7f7f\">[Step 5: Duration 21.77 seconds| Input tokens: 26,548 | Output tokens: 957]</span>\n",
       "</pre>\n"
      ],
      "text/plain": [
       "\u001b[2m[Step 5: Duration 21.77 seconds| Input tokens: 26,548 | Output tokens: 957]\u001b[0m\n"
      ]
     },
     "metadata": {},
     "output_type": "display_data"
    },
    {
     "data": {
      "text/html": [
       "<pre style=\"white-space:pre;overflow-x:auto;line-height:normal;font-family:Menlo,'DejaVu Sans Mono',consolas,'Courier New',monospace\"><span style=\"color: #d4b702; text-decoration-color: #d4b702\">━━━━━━━━━━━━━━━━━━━━━━━━━━━━━━━━━━━━━━━━━━━━━━━━━━━━━ </span><span style=\"font-weight: bold\">Step </span><span style=\"color: #008080; text-decoration-color: #008080; font-weight: bold\">6</span><span style=\"color: #d4b702; text-decoration-color: #d4b702\"> ━━━━━━━━━━━━━━━━━━━━━━━━━━━━━━━━━━━━━━━━━━━━━━━━━━━━━━</span>\n",
       "</pre>\n"
      ],
      "text/plain": [
       "\u001b[38;2;212;183;2m━━━━━━━━━━━━━━━━━━━━━━━━━━━━━━━━━━━━━━━━━━━━━━━━━━━━━ \u001b[0m\u001b[1mStep \u001b[0m\u001b[1;36m6\u001b[0m\u001b[38;2;212;183;2m ━━━━━━━━━━━━━━━━━━━━━━━━━━━━━━━━━━━━━━━━━━━━━━━━━━━━━━\u001b[0m\n"
      ]
     },
     "metadata": {},
     "output_type": "display_data"
    },
    {
     "data": {
      "text/html": [
       "<pre style=\"white-space:pre;overflow-x:auto;line-height:normal;font-family:Menlo,'DejaVu Sans Mono',consolas,'Courier New',monospace\"> ─ <span style=\"font-weight: bold\">Executing parsed code:</span> ──────────────────────────────────────────────────────────────────────────────────────── \n",
       "  <span style=\"color: #f8f8f2; text-decoration-color: #f8f8f2; background-color: #272822\">final_answer({</span><span style=\"background-color: #272822\">                                                                                                 </span>  \n",
       "  <span style=\"color: #f8f8f2; text-decoration-color: #f8f8f2; background-color: #272822\">    </span><span style=\"color: #e6db74; text-decoration-color: #e6db74; background-color: #272822\">\"Decorations\"</span><span style=\"color: #f8f8f2; text-decoration-color: #f8f8f2; background-color: #272822\">: [</span><span style=\"background-color: #272822\">                                                                                           </span>  \n",
       "  <span style=\"color: #f8f8f2; text-decoration-color: #f8f8f2; background-color: #272822\">        </span><span style=\"color: #e6db74; text-decoration-color: #e6db74; background-color: #272822\">\"LED Battery Operated Lights: Create a dynamic and vibrant atmosphere.\"</span><span style=\"color: #f8f8f2; text-decoration-color: #f8f8f2; background-color: #272822\">,</span><span style=\"background-color: #272822\">                               </span>  \n",
       "  <span style=\"color: #f8f8f2; text-decoration-color: #f8f8f2; background-color: #272822\">        </span><span style=\"color: #e6db74; text-decoration-color: #e6db74; background-color: #272822\">\"Fringed Door Curtains: Add a touch of flair to your entryway.\"</span><span style=\"color: #f8f8f2; text-decoration-color: #f8f8f2; background-color: #272822\">,</span><span style=\"background-color: #272822\">                                       </span>  \n",
       "  <span style=\"color: #f8f8f2; text-decoration-color: #f8f8f2; background-color: #272822\">        </span><span style=\"color: #e6db74; text-decoration-color: #e6db74; background-color: #272822\">\"Superhero Mini Buttons (pins): Decorate walls or use as photo booth props.\"</span><span style=\"color: #f8f8f2; text-decoration-color: #f8f8f2; background-color: #272822\">,</span><span style=\"background-color: #272822\">                          </span>  \n",
       "  <span style=\"color: #f8f8f2; text-decoration-color: #f8f8f2; background-color: #272822\">        </span><span style=\"color: #e6db74; text-decoration-color: #e6db74; background-color: #272822\">\"Backdrop with Superhero Symbols: Use a party backdrop behind your food table and photo booth.\"</span><span style=\"color: #f8f8f2; text-decoration-color: #f8f8f2; background-color: #272822\">,</span><span style=\"background-color: #272822\">       </span>  \n",
       "  <span style=\"color: #f8f8f2; text-decoration-color: #f8f8f2; background-color: #272822\">        </span><span style=\"color: #e6db74; text-decoration-color: #e6db74; background-color: #272822\">\"Building Set Pieces: Create buildings or cityscapes around the party area.\"</span><span style=\"color: #f8f8f2; text-decoration-color: #f8f8f2; background-color: #272822\">,</span><span style=\"background-color: #272822\">                          </span>  \n",
       "  <span style=\"color: #f8f8f2; text-decoration-color: #f8f8f2; background-color: #272822\">        </span><span style=\"color: #e6db74; text-decoration-color: #e6db74; background-color: #272822\">\"Centerpieces: Include iconic superhero symbols or decorations.\"</span><span style=\"background-color: #272822\">                                       </span>  \n",
       "  <span style=\"color: #f8f8f2; text-decoration-color: #f8f8f2; background-color: #272822\">    ],</span><span style=\"background-color: #272822\">                                                                                                         </span>  \n",
       "  <span style=\"color: #f8f8f2; text-decoration-color: #f8f8f2; background-color: #272822\">    </span><span style=\"color: #e6db74; text-decoration-color: #e6db74; background-color: #272822\">\"Entertainment\"</span><span style=\"color: #f8f8f2; text-decoration-color: #f8f8f2; background-color: #272822\">: [</span><span style=\"background-color: #272822\">                                                                                         </span>  \n",
       "  <span style=\"color: #f8f8f2; text-decoration-color: #f8f8f2; background-color: #272822\">        </span><span style=\"color: #e6db74; text-decoration-color: #e6db74; background-color: #272822\">\"Costume Contest: Encourage guests to come dressed as their favorite superheroes.\"</span><span style=\"color: #f8f8f2; text-decoration-color: #f8f8f2; background-color: #272822\">,</span><span style=\"background-color: #272822\">                    </span>  \n",
       "  <span style=\"color: #f8f8f2; text-decoration-color: #f8f8f2; background-color: #272822\">        </span><span style=\"color: #e6db74; text-decoration-color: #e6db74; background-color: #272822\">\"Superhero Trivia: Test knowledge of superheroes with trivia questions.\"</span><span style=\"color: #f8f8f2; text-decoration-color: #f8f8f2; background-color: #272822\">,</span><span style=\"background-color: #272822\">                              </span>  \n",
       "  <span style=\"color: #f8f8f2; text-decoration-color: #f8f8f2; background-color: #272822\">        </span><span style=\"color: #e6db74; text-decoration-color: #e6db74; background-color: #272822\">\"Photo Booth: Set up a photo booth with superhero props and backdrops.\"</span><span style=\"color: #f8f8f2; text-decoration-color: #f8f8f2; background-color: #272822\">,</span><span style=\"background-color: #272822\">                               </span>  \n",
       "  <span style=\"color: #f8f8f2; text-decoration-color: #f8f8f2; background-color: #272822\">        </span><span style=\"color: #e6db74; text-decoration-color: #e6db74; background-color: #272822\">\"Movie Screenings: Show superhero movies to create a cinematic atmosphere.\"</span><span style=\"color: #f8f8f2; text-decoration-color: #f8f8f2; background-color: #272822\">,</span><span style=\"background-color: #272822\">                           </span>  \n",
       "  <span style=\"color: #f8f8f2; text-decoration-color: #f8f8f2; background-color: #272822\">        </span><span style=\"color: #e6db74; text-decoration-color: #e6db74; background-color: #272822\">\"Games and Challenges: Incorporate Marvel or DC-themed games for fun.\"</span><span style=\"background-color: #272822\">                                 </span>  \n",
       "  <span style=\"color: #f8f8f2; text-decoration-color: #f8f8f2; background-color: #272822\">    ],</span><span style=\"background-color: #272822\">                                                                                                         </span>  \n",
       "  <span style=\"color: #f8f8f2; text-decoration-color: #f8f8f2; background-color: #272822\">    </span><span style=\"color: #e6db74; text-decoration-color: #e6db74; background-color: #272822\">\"Catering\"</span><span style=\"color: #f8f8f2; text-decoration-color: #f8f8f2; background-color: #272822\">: [</span><span style=\"background-color: #272822\">                                                                                              </span>  \n",
       "  <span style=\"color: #f8f8f2; text-decoration-color: #f8f8f2; background-color: #272822\">        </span><span style=\"color: #e6db74; text-decoration-color: #e6db74; background-color: #272822\">\"Superhero-Themed Cocktails: Use hero or villain-inspired cocktail recipes.\"</span><span style=\"color: #f8f8f2; text-decoration-color: #f8f8f2; background-color: #272822\">,</span><span style=\"background-color: #272822\">                          </span>  \n",
       "  <span style=\"color: #f8f8f2; text-decoration-color: #f8f8f2; background-color: #272822\">        </span><span style=\"color: #e6db74; text-decoration-color: #e6db74; background-color: #272822\">\"Party Foods: Plan superhero food ideas around their colors (red, blue, black, yellow).\"</span><span style=\"color: #f8f8f2; text-decoration-color: #f8f8f2; background-color: #272822\">,</span><span style=\"background-color: #272822\">              </span>  \n",
       "  <span style=\"color: #f8f8f2; text-decoration-color: #f8f8f2; background-color: #272822\">        </span><span style=\"color: #e6db74; text-decoration-color: #e6db74; background-color: #272822\">\"Coffee and Treats: Offer coffee stations with superhero-themed cups and treats.\"</span><span style=\"color: #f8f8f2; text-decoration-color: #f8f8f2; background-color: #272822\">,</span><span style=\"background-color: #272822\">                     </span>  \n",
       "  <span style=\"color: #f8f8f2; text-decoration-color: #f8f8f2; background-color: #272822\">        </span><span style=\"color: #e6db74; text-decoration-color: #e6db74; background-color: #272822\">\"Party Favors: Send guests home with superhero-themed candy, mini comic books, or toys.\"</span><span style=\"color: #f8f8f2; text-decoration-color: #f8f8f2; background-color: #272822\">,</span><span style=\"background-color: #272822\">              </span>  \n",
       "  <span style=\"color: #f8f8f2; text-decoration-color: #f8f8f2; background-color: #272822\">        </span><span style=\"color: #e6db74; text-decoration-color: #e6db74; background-color: #272822\">\"DIY cocktails: Have a bar with DIY superhero cocktails.\"</span><span style=\"background-color: #272822\">                                              </span>  \n",
       "  <span style=\"color: #f8f8f2; text-decoration-color: #f8f8f2; background-color: #272822\">    ]</span><span style=\"background-color: #272822\">                                                                                                          </span>  \n",
       "  <span style=\"color: #f8f8f2; text-decoration-color: #f8f8f2; background-color: #272822\">})</span><span style=\"background-color: #272822\">                                                                                                             </span>  \n",
       " ───────────────────────────────────────────────────────────────────────────────────────────────────────────────── \n",
       "</pre>\n"
      ],
      "text/plain": [
       " ─ \u001b[1mExecuting parsed code:\u001b[0m ──────────────────────────────────────────────────────────────────────────────────────── \n",
       "  \u001b[38;2;248;248;242;48;2;39;40;34mfinal_answer\u001b[0m\u001b[38;2;248;248;242;48;2;39;40;34m(\u001b[0m\u001b[38;2;248;248;242;48;2;39;40;34m{\u001b[0m\u001b[48;2;39;40;34m                                                                                                 \u001b[0m  \n",
       "  \u001b[38;2;248;248;242;48;2;39;40;34m    \u001b[0m\u001b[38;2;230;219;116;48;2;39;40;34m\"\u001b[0m\u001b[38;2;230;219;116;48;2;39;40;34mDecorations\u001b[0m\u001b[38;2;230;219;116;48;2;39;40;34m\"\u001b[0m\u001b[38;2;248;248;242;48;2;39;40;34m:\u001b[0m\u001b[38;2;248;248;242;48;2;39;40;34m \u001b[0m\u001b[38;2;248;248;242;48;2;39;40;34m[\u001b[0m\u001b[48;2;39;40;34m                                                                                           \u001b[0m  \n",
       "  \u001b[38;2;248;248;242;48;2;39;40;34m        \u001b[0m\u001b[38;2;230;219;116;48;2;39;40;34m\"\u001b[0m\u001b[38;2;230;219;116;48;2;39;40;34mLED Battery Operated Lights: Create a dynamic and vibrant atmosphere.\u001b[0m\u001b[38;2;230;219;116;48;2;39;40;34m\"\u001b[0m\u001b[38;2;248;248;242;48;2;39;40;34m,\u001b[0m\u001b[48;2;39;40;34m                               \u001b[0m  \n",
       "  \u001b[38;2;248;248;242;48;2;39;40;34m        \u001b[0m\u001b[38;2;230;219;116;48;2;39;40;34m\"\u001b[0m\u001b[38;2;230;219;116;48;2;39;40;34mFringed Door Curtains: Add a touch of flair to your entryway.\u001b[0m\u001b[38;2;230;219;116;48;2;39;40;34m\"\u001b[0m\u001b[38;2;248;248;242;48;2;39;40;34m,\u001b[0m\u001b[48;2;39;40;34m                                       \u001b[0m  \n",
       "  \u001b[38;2;248;248;242;48;2;39;40;34m        \u001b[0m\u001b[38;2;230;219;116;48;2;39;40;34m\"\u001b[0m\u001b[38;2;230;219;116;48;2;39;40;34mSuperhero Mini Buttons (pins): Decorate walls or use as photo booth props.\u001b[0m\u001b[38;2;230;219;116;48;2;39;40;34m\"\u001b[0m\u001b[38;2;248;248;242;48;2;39;40;34m,\u001b[0m\u001b[48;2;39;40;34m                          \u001b[0m  \n",
       "  \u001b[38;2;248;248;242;48;2;39;40;34m        \u001b[0m\u001b[38;2;230;219;116;48;2;39;40;34m\"\u001b[0m\u001b[38;2;230;219;116;48;2;39;40;34mBackdrop with Superhero Symbols: Use a party backdrop behind your food table and photo booth.\u001b[0m\u001b[38;2;230;219;116;48;2;39;40;34m\"\u001b[0m\u001b[38;2;248;248;242;48;2;39;40;34m,\u001b[0m\u001b[48;2;39;40;34m       \u001b[0m  \n",
       "  \u001b[38;2;248;248;242;48;2;39;40;34m        \u001b[0m\u001b[38;2;230;219;116;48;2;39;40;34m\"\u001b[0m\u001b[38;2;230;219;116;48;2;39;40;34mBuilding Set Pieces: Create buildings or cityscapes around the party area.\u001b[0m\u001b[38;2;230;219;116;48;2;39;40;34m\"\u001b[0m\u001b[38;2;248;248;242;48;2;39;40;34m,\u001b[0m\u001b[48;2;39;40;34m                          \u001b[0m  \n",
       "  \u001b[38;2;248;248;242;48;2;39;40;34m        \u001b[0m\u001b[38;2;230;219;116;48;2;39;40;34m\"\u001b[0m\u001b[38;2;230;219;116;48;2;39;40;34mCenterpieces: Include iconic superhero symbols or decorations.\u001b[0m\u001b[38;2;230;219;116;48;2;39;40;34m\"\u001b[0m\u001b[48;2;39;40;34m                                       \u001b[0m  \n",
       "  \u001b[38;2;248;248;242;48;2;39;40;34m    \u001b[0m\u001b[38;2;248;248;242;48;2;39;40;34m]\u001b[0m\u001b[38;2;248;248;242;48;2;39;40;34m,\u001b[0m\u001b[48;2;39;40;34m                                                                                                         \u001b[0m  \n",
       "  \u001b[38;2;248;248;242;48;2;39;40;34m    \u001b[0m\u001b[38;2;230;219;116;48;2;39;40;34m\"\u001b[0m\u001b[38;2;230;219;116;48;2;39;40;34mEntertainment\u001b[0m\u001b[38;2;230;219;116;48;2;39;40;34m\"\u001b[0m\u001b[38;2;248;248;242;48;2;39;40;34m:\u001b[0m\u001b[38;2;248;248;242;48;2;39;40;34m \u001b[0m\u001b[38;2;248;248;242;48;2;39;40;34m[\u001b[0m\u001b[48;2;39;40;34m                                                                                         \u001b[0m  \n",
       "  \u001b[38;2;248;248;242;48;2;39;40;34m        \u001b[0m\u001b[38;2;230;219;116;48;2;39;40;34m\"\u001b[0m\u001b[38;2;230;219;116;48;2;39;40;34mCostume Contest: Encourage guests to come dressed as their favorite superheroes.\u001b[0m\u001b[38;2;230;219;116;48;2;39;40;34m\"\u001b[0m\u001b[38;2;248;248;242;48;2;39;40;34m,\u001b[0m\u001b[48;2;39;40;34m                    \u001b[0m  \n",
       "  \u001b[38;2;248;248;242;48;2;39;40;34m        \u001b[0m\u001b[38;2;230;219;116;48;2;39;40;34m\"\u001b[0m\u001b[38;2;230;219;116;48;2;39;40;34mSuperhero Trivia: Test knowledge of superheroes with trivia questions.\u001b[0m\u001b[38;2;230;219;116;48;2;39;40;34m\"\u001b[0m\u001b[38;2;248;248;242;48;2;39;40;34m,\u001b[0m\u001b[48;2;39;40;34m                              \u001b[0m  \n",
       "  \u001b[38;2;248;248;242;48;2;39;40;34m        \u001b[0m\u001b[38;2;230;219;116;48;2;39;40;34m\"\u001b[0m\u001b[38;2;230;219;116;48;2;39;40;34mPhoto Booth: Set up a photo booth with superhero props and backdrops.\u001b[0m\u001b[38;2;230;219;116;48;2;39;40;34m\"\u001b[0m\u001b[38;2;248;248;242;48;2;39;40;34m,\u001b[0m\u001b[48;2;39;40;34m                               \u001b[0m  \n",
       "  \u001b[38;2;248;248;242;48;2;39;40;34m        \u001b[0m\u001b[38;2;230;219;116;48;2;39;40;34m\"\u001b[0m\u001b[38;2;230;219;116;48;2;39;40;34mMovie Screenings: Show superhero movies to create a cinematic atmosphere.\u001b[0m\u001b[38;2;230;219;116;48;2;39;40;34m\"\u001b[0m\u001b[38;2;248;248;242;48;2;39;40;34m,\u001b[0m\u001b[48;2;39;40;34m                           \u001b[0m  \n",
       "  \u001b[38;2;248;248;242;48;2;39;40;34m        \u001b[0m\u001b[38;2;230;219;116;48;2;39;40;34m\"\u001b[0m\u001b[38;2;230;219;116;48;2;39;40;34mGames and Challenges: Incorporate Marvel or DC-themed games for fun.\u001b[0m\u001b[38;2;230;219;116;48;2;39;40;34m\"\u001b[0m\u001b[48;2;39;40;34m                                 \u001b[0m  \n",
       "  \u001b[38;2;248;248;242;48;2;39;40;34m    \u001b[0m\u001b[38;2;248;248;242;48;2;39;40;34m]\u001b[0m\u001b[38;2;248;248;242;48;2;39;40;34m,\u001b[0m\u001b[48;2;39;40;34m                                                                                                         \u001b[0m  \n",
       "  \u001b[38;2;248;248;242;48;2;39;40;34m    \u001b[0m\u001b[38;2;230;219;116;48;2;39;40;34m\"\u001b[0m\u001b[38;2;230;219;116;48;2;39;40;34mCatering\u001b[0m\u001b[38;2;230;219;116;48;2;39;40;34m\"\u001b[0m\u001b[38;2;248;248;242;48;2;39;40;34m:\u001b[0m\u001b[38;2;248;248;242;48;2;39;40;34m \u001b[0m\u001b[38;2;248;248;242;48;2;39;40;34m[\u001b[0m\u001b[48;2;39;40;34m                                                                                              \u001b[0m  \n",
       "  \u001b[38;2;248;248;242;48;2;39;40;34m        \u001b[0m\u001b[38;2;230;219;116;48;2;39;40;34m\"\u001b[0m\u001b[38;2;230;219;116;48;2;39;40;34mSuperhero-Themed Cocktails: Use hero or villain-inspired cocktail recipes.\u001b[0m\u001b[38;2;230;219;116;48;2;39;40;34m\"\u001b[0m\u001b[38;2;248;248;242;48;2;39;40;34m,\u001b[0m\u001b[48;2;39;40;34m                          \u001b[0m  \n",
       "  \u001b[38;2;248;248;242;48;2;39;40;34m        \u001b[0m\u001b[38;2;230;219;116;48;2;39;40;34m\"\u001b[0m\u001b[38;2;230;219;116;48;2;39;40;34mParty Foods: Plan superhero food ideas around their colors (red, blue, black, yellow).\u001b[0m\u001b[38;2;230;219;116;48;2;39;40;34m\"\u001b[0m\u001b[38;2;248;248;242;48;2;39;40;34m,\u001b[0m\u001b[48;2;39;40;34m              \u001b[0m  \n",
       "  \u001b[38;2;248;248;242;48;2;39;40;34m        \u001b[0m\u001b[38;2;230;219;116;48;2;39;40;34m\"\u001b[0m\u001b[38;2;230;219;116;48;2;39;40;34mCoffee and Treats: Offer coffee stations with superhero-themed cups and treats.\u001b[0m\u001b[38;2;230;219;116;48;2;39;40;34m\"\u001b[0m\u001b[38;2;248;248;242;48;2;39;40;34m,\u001b[0m\u001b[48;2;39;40;34m                     \u001b[0m  \n",
       "  \u001b[38;2;248;248;242;48;2;39;40;34m        \u001b[0m\u001b[38;2;230;219;116;48;2;39;40;34m\"\u001b[0m\u001b[38;2;230;219;116;48;2;39;40;34mParty Favors: Send guests home with superhero-themed candy, mini comic books, or toys.\u001b[0m\u001b[38;2;230;219;116;48;2;39;40;34m\"\u001b[0m\u001b[38;2;248;248;242;48;2;39;40;34m,\u001b[0m\u001b[48;2;39;40;34m              \u001b[0m  \n",
       "  \u001b[38;2;248;248;242;48;2;39;40;34m        \u001b[0m\u001b[38;2;230;219;116;48;2;39;40;34m\"\u001b[0m\u001b[38;2;230;219;116;48;2;39;40;34mDIY cocktails: Have a bar with DIY superhero cocktails.\u001b[0m\u001b[38;2;230;219;116;48;2;39;40;34m\"\u001b[0m\u001b[48;2;39;40;34m                                              \u001b[0m  \n",
       "  \u001b[38;2;248;248;242;48;2;39;40;34m    \u001b[0m\u001b[38;2;248;248;242;48;2;39;40;34m]\u001b[0m\u001b[48;2;39;40;34m                                                                                                          \u001b[0m  \n",
       "  \u001b[38;2;248;248;242;48;2;39;40;34m}\u001b[0m\u001b[38;2;248;248;242;48;2;39;40;34m)\u001b[0m\u001b[48;2;39;40;34m                                                                                                             \u001b[0m  \n",
       " ───────────────────────────────────────────────────────────────────────────────────────────────────────────────── \n"
      ]
     },
     "metadata": {},
     "output_type": "display_data"
    },
    {
     "data": {
      "text/html": [
       "<pre style=\"white-space:pre;overflow-x:auto;line-height:normal;font-family:Menlo,'DejaVu Sans Mono',consolas,'Courier New',monospace\"><span style=\"color: #d4b702; text-decoration-color: #d4b702; font-weight: bold\">Out - Final answer: {'Decorations': ['LED Battery Operated Lights: Create a dynamic and vibrant atmosphere.', </span>\n",
       "<span style=\"color: #d4b702; text-decoration-color: #d4b702; font-weight: bold\">'Fringed Door Curtains: Add a touch of flair to your entryway.', 'Superhero Mini Buttons (pins): Decorate walls or </span>\n",
       "<span style=\"color: #d4b702; text-decoration-color: #d4b702; font-weight: bold\">use as photo booth props.', 'Backdrop with Superhero Symbols: Use a party backdrop behind your food table and photo</span>\n",
       "<span style=\"color: #d4b702; text-decoration-color: #d4b702; font-weight: bold\">booth.', 'Building Set Pieces: Create buildings or cityscapes around the party area.', 'Centerpieces: Include </span>\n",
       "<span style=\"color: #d4b702; text-decoration-color: #d4b702; font-weight: bold\">iconic superhero symbols or decorations.'], 'Entertainment': ['Costume Contest: Encourage guests to come dressed as</span>\n",
       "<span style=\"color: #d4b702; text-decoration-color: #d4b702; font-weight: bold\">their favorite superheroes.', 'Superhero Trivia: Test knowledge of superheroes with trivia questions.', 'Photo </span>\n",
       "<span style=\"color: #d4b702; text-decoration-color: #d4b702; font-weight: bold\">Booth: Set up a photo booth with superhero props and backdrops.', 'Movie Screenings: Show superhero movies to </span>\n",
       "<span style=\"color: #d4b702; text-decoration-color: #d4b702; font-weight: bold\">create a cinematic atmosphere.', 'Games and Challenges: Incorporate Marvel or DC-themed games for fun.'], </span>\n",
       "<span style=\"color: #d4b702; text-decoration-color: #d4b702; font-weight: bold\">'Catering': ['Superhero-Themed Cocktails: Use hero or villain-inspired cocktail recipes.', 'Party Foods: Plan </span>\n",
       "<span style=\"color: #d4b702; text-decoration-color: #d4b702; font-weight: bold\">superhero food ideas around their colors (red, blue, black, yellow).', 'Coffee and Treats: Offer coffee stations </span>\n",
       "<span style=\"color: #d4b702; text-decoration-color: #d4b702; font-weight: bold\">with superhero-themed cups and treats.', 'Party Favors: Send guests home with superhero-themed candy, mini comic </span>\n",
       "<span style=\"color: #d4b702; text-decoration-color: #d4b702; font-weight: bold\">books, or toys.', 'DIY cocktails: Have a bar with DIY superhero cocktails.']}</span>\n",
       "</pre>\n"
      ],
      "text/plain": [
       "\u001b[1;38;2;212;183;2mOut - Final answer: {'Decorations': ['LED Battery Operated Lights: Create a dynamic and vibrant atmosphere.', \u001b[0m\n",
       "\u001b[1;38;2;212;183;2m'Fringed Door Curtains: Add a touch of flair to your entryway.', 'Superhero Mini Buttons (pins): Decorate walls or \u001b[0m\n",
       "\u001b[1;38;2;212;183;2muse as photo booth props.', 'Backdrop with Superhero Symbols: Use a party backdrop behind your food table and photo\u001b[0m\n",
       "\u001b[1;38;2;212;183;2mbooth.', 'Building Set Pieces: Create buildings or cityscapes around the party area.', 'Centerpieces: Include \u001b[0m\n",
       "\u001b[1;38;2;212;183;2miconic superhero symbols or decorations.'], 'Entertainment': ['Costume Contest: Encourage guests to come dressed as\u001b[0m\n",
       "\u001b[1;38;2;212;183;2mtheir favorite superheroes.', 'Superhero Trivia: Test knowledge of superheroes with trivia questions.', 'Photo \u001b[0m\n",
       "\u001b[1;38;2;212;183;2mBooth: Set up a photo booth with superhero props and backdrops.', 'Movie Screenings: Show superhero movies to \u001b[0m\n",
       "\u001b[1;38;2;212;183;2mcreate a cinematic atmosphere.', 'Games and Challenges: Incorporate Marvel or DC-themed games for fun.'], \u001b[0m\n",
       "\u001b[1;38;2;212;183;2m'Catering': ['Superhero-Themed Cocktails: Use hero or villain-inspired cocktail recipes.', 'Party Foods: Plan \u001b[0m\n",
       "\u001b[1;38;2;212;183;2msuperhero food ideas around their colors (red, blue, black, yellow).', 'Coffee and Treats: Offer coffee stations \u001b[0m\n",
       "\u001b[1;38;2;212;183;2mwith superhero-themed cups and treats.', 'Party Favors: Send guests home with superhero-themed candy, mini comic \u001b[0m\n",
       "\u001b[1;38;2;212;183;2mbooks, or toys.', 'DIY cocktails: Have a bar with DIY superhero cocktails.']}\u001b[0m\n"
      ]
     },
     "metadata": {},
     "output_type": "display_data"
    },
    {
     "data": {
      "text/html": [
       "<pre style=\"white-space:pre;overflow-x:auto;line-height:normal;font-family:Menlo,'DejaVu Sans Mono',consolas,'Courier New',monospace\"><span style=\"color: #7f7f7f; text-decoration-color: #7f7f7f\">[Step 6: Duration 19.20 seconds| Input tokens: 36,017 | Output tokens: 1,326]</span>\n",
       "</pre>\n"
      ],
      "text/plain": [
       "\u001b[2m[Step 6: Duration 19.20 seconds| Input tokens: 36,017 | Output tokens: 1,326]\u001b[0m\n"
      ]
     },
     "metadata": {},
     "output_type": "display_data"
    },
    {
     "name": "stdout",
     "output_type": "stream",
     "text": [
      "{'Decorations': ['LED Battery Operated Lights: Create a dynamic and vibrant atmosphere.', 'Fringed Door Curtains: Add a touch of flair to your entryway.', 'Superhero Mini Buttons (pins): Decorate walls or use as photo booth props.', 'Backdrop with Superhero Symbols: Use a party backdrop behind your food table and photo booth.', 'Building Set Pieces: Create buildings or cityscapes around the party area.', 'Centerpieces: Include iconic superhero symbols or decorations.'], 'Entertainment': ['Costume Contest: Encourage guests to come dressed as their favorite superheroes.', 'Superhero Trivia: Test knowledge of superheroes with trivia questions.', 'Photo Booth: Set up a photo booth with superhero props and backdrops.', 'Movie Screenings: Show superhero movies to create a cinematic atmosphere.', 'Games and Challenges: Incorporate Marvel or DC-themed games for fun.'], 'Catering': ['Superhero-Themed Cocktails: Use hero or villain-inspired cocktail recipes.', 'Party Foods: Plan superhero food ideas around their colors (red, blue, black, yellow).', 'Coffee and Treats: Offer coffee stations with superhero-themed cups and treats.', 'Party Favors: Send guests home with superhero-themed candy, mini comic books, or toys.', 'DIY cocktails: Have a bar with DIY superhero cocktails.']}\n"
     ]
    }
   ],
   "source": [
    "from smolagents import CodeAgent, DuckDuckGoSearchTool, InferenceClientModel\n",
    "\n",
    "# Initialize the search tool\n",
    "search_tool = DuckDuckGoSearchTool()\n",
    "\n",
    "# Initialize the model\n",
    "model = InferenceClientModel()\n",
    "\n",
    "agent = CodeAgent(\n",
    "    model = model,\n",
    "    tools=[search_tool]\n",
    ")\n",
    "\n",
    "# Example usage\n",
    "response = agent.run(\n",
    "    \"Search for luxury superhero-themed party ideas, including decorations, entertainment, and catering.\"\n",
    ")\n",
    "print(response)"
   ]
  },
  {
   "cell_type": "markdown",
   "metadata": {
    "id": "iHfIWdVWad77"
   },
   "source": [
    "The agent follows this process:\n",
    "\n",
    "1. **Analyzes the Request:** Alfred’s agent identifies the key elements of the query—luxury superhero-themed party planning, with focus on decor, entertainment, and catering.\n",
    "2. **Performs Retrieval:**  The agent leverages DuckDuckGo to search for the most relevant and up-to-date information, ensuring it aligns with Alfred’s refined preferences for a luxurious event.\n",
    "3. **Synthesizes Information:** After gathering the results, the agent processes them into a cohesive, actionable plan for Alfred, covering all aspects of the party.\n",
    "4. **Stores for Future Reference:** The agent stores the retrieved information for easy access when planning future events, optimizing efficiency in subsequent tasks."
   ]
  },
  {
   "cell_type": "markdown",
   "metadata": {
    "id": "bJWn_FDN47u3"
   },
   "source": [
    "## Custom Knowledge Base Tool\n",
    "\n",
    "For specialized tasks, a custom knowledge base can be invaluable. Let's create a tool that queries a vector database of technical documentation or specialized knowledge. Using semantic search, the agent can find the most relevant information for Alfred's needs.\n",
    "\n",
    "This approach combines predefined knowledge with semantic search to provide context-aware solutions for event planning. With specialized knowledge access, Alfred can perfect every detail of the party.\n",
    "\n",
    "Install the dependecies first and run!"
   ]
  },
  {
   "cell_type": "code",
   "execution_count": null,
   "metadata": {
    "id": "OcKM-MSR5Cw-",
    "scrolled": true
   },
   "outputs": [],
   "source": [
    "!pip install langchain-community rank_bm25"
   ]
  },
  {
   "cell_type": "code",
   "execution_count": 4,
   "metadata": {
    "colab": {
     "base_uri": "https://localhost:8080/",
     "height": 1000
    },
    "id": "MRNJkqyR43F-",
    "outputId": "a267884e-427c-484a-af58-9af3098cb9a1"
   },
   "outputs": [
    {
     "data": {
      "text/html": [
       "<pre style=\"white-space:pre;overflow-x:auto;line-height:normal;font-family:Menlo,'DejaVu Sans Mono',consolas,'Courier New',monospace\"><span style=\"color: #d4b702; text-decoration-color: #d4b702\">╭──────────────────────────────────────────────────── </span><span style=\"color: #d4b702; text-decoration-color: #d4b702; font-weight: bold\">New run</span><span style=\"color: #d4b702; text-decoration-color: #d4b702\"> ────────────────────────────────────────────────────╮</span>\n",
       "<span style=\"color: #d4b702; text-decoration-color: #d4b702\">│</span>                                                                                                                 <span style=\"color: #d4b702; text-decoration-color: #d4b702\">│</span>\n",
       "<span style=\"color: #d4b702; text-decoration-color: #d4b702\">│</span> <span style=\"font-weight: bold\">Find ideas for a luxury superhero-themed party, including entertainment, catering, and decoration options.</span>      <span style=\"color: #d4b702; text-decoration-color: #d4b702\">│</span>\n",
       "<span style=\"color: #d4b702; text-decoration-color: #d4b702\">│</span>                                                                                                                 <span style=\"color: #d4b702; text-decoration-color: #d4b702\">│</span>\n",
       "<span style=\"color: #d4b702; text-decoration-color: #d4b702\">╰─ InferenceClientModel - Qwen/Qwen2.5-Coder-32B-Instruct ────────────────────────────────────────────────────────╯</span>\n",
       "</pre>\n"
      ],
      "text/plain": [
       "\u001b[38;2;212;183;2m╭─\u001b[0m\u001b[38;2;212;183;2m───────────────────────────────────────────────────\u001b[0m\u001b[38;2;212;183;2m \u001b[0m\u001b[1;38;2;212;183;2mNew run\u001b[0m\u001b[38;2;212;183;2m \u001b[0m\u001b[38;2;212;183;2m───────────────────────────────────────────────────\u001b[0m\u001b[38;2;212;183;2m─╮\u001b[0m\n",
       "\u001b[38;2;212;183;2m│\u001b[0m                                                                                                                 \u001b[38;2;212;183;2m│\u001b[0m\n",
       "\u001b[38;2;212;183;2m│\u001b[0m \u001b[1mFind ideas for a luxury superhero-themed party, including entertainment, catering, and decoration options.\u001b[0m      \u001b[38;2;212;183;2m│\u001b[0m\n",
       "\u001b[38;2;212;183;2m│\u001b[0m                                                                                                                 \u001b[38;2;212;183;2m│\u001b[0m\n",
       "\u001b[38;2;212;183;2m╰─\u001b[0m\u001b[38;2;212;183;2m InferenceClientModel - Qwen/Qwen2.5-Coder-32B-Instruct \u001b[0m\u001b[38;2;212;183;2m───────────────────────────────────────────────────────\u001b[0m\u001b[38;2;212;183;2m─╯\u001b[0m\n"
      ]
     },
     "metadata": {},
     "output_type": "display_data"
    },
    {
     "data": {
      "text/html": [
       "<pre style=\"white-space:pre;overflow-x:auto;line-height:normal;font-family:Menlo,'DejaVu Sans Mono',consolas,'Courier New',monospace\"><span style=\"color: #d4b702; text-decoration-color: #d4b702\">━━━━━━━━━━━━━━━━━━━━━━━━━━━━━━━━━━━━━━━━━━━━━━━━━━━━━ </span><span style=\"font-weight: bold\">Step </span><span style=\"color: #008080; text-decoration-color: #008080; font-weight: bold\">1</span><span style=\"color: #d4b702; text-decoration-color: #d4b702\"> ━━━━━━━━━━━━━━━━━━━━━━━━━━━━━━━━━━━━━━━━━━━━━━━━━━━━━━</span>\n",
       "</pre>\n"
      ],
      "text/plain": [
       "\u001b[38;2;212;183;2m━━━━━━━━━━━━━━━━━━━━━━━━━━━━━━━━━━━━━━━━━━━━━━━━━━━━━ \u001b[0m\u001b[1mStep \u001b[0m\u001b[1;36m1\u001b[0m\u001b[38;2;212;183;2m ━━━━━━━━━━━━━━━━━━━━━━━━━━━━━━━━━━━━━━━━━━━━━━━━━━━━━━\u001b[0m\n"
      ]
     },
     "metadata": {},
     "output_type": "display_data"
    },
    {
     "data": {
      "text/html": [
       "<pre style=\"white-space:pre;overflow-x:auto;line-height:normal;font-family:Menlo,'DejaVu Sans Mono',consolas,'Courier New',monospace\"> ─ <span style=\"font-weight: bold\">Executing parsed code:</span> ──────────────────────────────────────────────────────────────────────────────────────── \n",
       "  <span style=\"color: #f8f8f2; text-decoration-color: #f8f8f2; background-color: #272822\">party_ideas </span><span style=\"color: #ff4689; text-decoration-color: #ff4689; background-color: #272822\">=</span><span style=\"color: #f8f8f2; text-decoration-color: #f8f8f2; background-color: #272822\"> party_planning_retriever(query</span><span style=\"color: #ff4689; text-decoration-color: #ff4689; background-color: #272822\">=</span><span style=\"color: #e6db74; text-decoration-color: #e6db74; background-color: #272822\">\"luxury superhero-themed party ideas including entertainment, </span><span style=\"background-color: #272822\">    </span>  \n",
       "  <span style=\"color: #e6db74; text-decoration-color: #e6db74; background-color: #272822\">catering, and decoration options\"</span><span style=\"color: #f8f8f2; text-decoration-color: #f8f8f2; background-color: #272822\">)</span><span style=\"background-color: #272822\">                                                                             </span>  \n",
       "  <span style=\"color: #f8f8f2; text-decoration-color: #f8f8f2; background-color: #272822\">print(party_ideas)</span><span style=\"background-color: #272822\">                                                                                             </span>  \n",
       " ───────────────────────────────────────────────────────────────────────────────────────────────────────────────── \n",
       "</pre>\n"
      ],
      "text/plain": [
       " ─ \u001b[1mExecuting parsed code:\u001b[0m ──────────────────────────────────────────────────────────────────────────────────────── \n",
       "  \u001b[38;2;248;248;242;48;2;39;40;34mparty_ideas\u001b[0m\u001b[38;2;248;248;242;48;2;39;40;34m \u001b[0m\u001b[38;2;255;70;137;48;2;39;40;34m=\u001b[0m\u001b[38;2;248;248;242;48;2;39;40;34m \u001b[0m\u001b[38;2;248;248;242;48;2;39;40;34mparty_planning_retriever\u001b[0m\u001b[38;2;248;248;242;48;2;39;40;34m(\u001b[0m\u001b[38;2;248;248;242;48;2;39;40;34mquery\u001b[0m\u001b[38;2;255;70;137;48;2;39;40;34m=\u001b[0m\u001b[38;2;230;219;116;48;2;39;40;34m\"\u001b[0m\u001b[38;2;230;219;116;48;2;39;40;34mluxury superhero-themed party ideas including entertainment, \u001b[0m\u001b[48;2;39;40;34m    \u001b[0m  \n",
       "  \u001b[38;2;230;219;116;48;2;39;40;34mcatering, and decoration options\u001b[0m\u001b[38;2;230;219;116;48;2;39;40;34m\"\u001b[0m\u001b[38;2;248;248;242;48;2;39;40;34m)\u001b[0m\u001b[48;2;39;40;34m                                                                             \u001b[0m  \n",
       "  \u001b[38;2;248;248;242;48;2;39;40;34mprint\u001b[0m\u001b[38;2;248;248;242;48;2;39;40;34m(\u001b[0m\u001b[38;2;248;248;242;48;2;39;40;34mparty_ideas\u001b[0m\u001b[38;2;248;248;242;48;2;39;40;34m)\u001b[0m\u001b[48;2;39;40;34m                                                                                             \u001b[0m  \n",
       " ───────────────────────────────────────────────────────────────────────────────────────────────────────────────── \n"
      ]
     },
     "metadata": {},
     "output_type": "display_data"
    },
    {
     "data": {
      "text/html": [
       "<pre style=\"white-space:pre;overflow-x:auto;line-height:normal;font-family:Menlo,'DejaVu Sans Mono',consolas,'Courier New',monospace\"><span style=\"font-weight: bold\">Execution logs:</span>\n",
       "\n",
       "Retrieved ideas:\n",
       "\n",
       "\n",
       "===== Idea 0 =====\n",
       "A superhero-themed masquerade ball with luxury decor, including gold accents and velvet curtains.\n",
       "\n",
       "===== Idea 1 =====\n",
       "For catering, serve dishes named after superheroes, like 'The Hulk's Green Smoothie' and 'Iron Man's Power Steak.'\n",
       "\n",
       "===== Idea 2 =====\n",
       "Decorate with iconic superhero logos and projections of Gotham and other superhero cities around the venue.\n",
       "\n",
       "===== Idea 3 =====\n",
       "Hire a professional DJ who can play themed music for superheroes like Batman and Wonder Woman.\n",
       "\n",
       "===== Idea 4 =====\n",
       "Interactive experiences with VR where guests can engage in superhero simulations or compete in themed games.\n",
       "\n",
       "Out: None\n",
       "</pre>\n"
      ],
      "text/plain": [
       "\u001b[1mExecution logs:\u001b[0m\n",
       "\n",
       "Retrieved ideas:\n",
       "\n",
       "\n",
       "===== Idea 0 =====\n",
       "A superhero-themed masquerade ball with luxury decor, including gold accents and velvet curtains.\n",
       "\n",
       "===== Idea 1 =====\n",
       "For catering, serve dishes named after superheroes, like 'The Hulk's Green Smoothie' and 'Iron Man's Power Steak.'\n",
       "\n",
       "===== Idea 2 =====\n",
       "Decorate with iconic superhero logos and projections of Gotham and other superhero cities around the venue.\n",
       "\n",
       "===== Idea 3 =====\n",
       "Hire a professional DJ who can play themed music for superheroes like Batman and Wonder Woman.\n",
       "\n",
       "===== Idea 4 =====\n",
       "Interactive experiences with VR where guests can engage in superhero simulations or compete in themed games.\n",
       "\n",
       "Out: None\n"
      ]
     },
     "metadata": {},
     "output_type": "display_data"
    },
    {
     "data": {
      "text/html": [
       "<pre style=\"white-space:pre;overflow-x:auto;line-height:normal;font-family:Menlo,'DejaVu Sans Mono',consolas,'Courier New',monospace\"><span style=\"color: #7f7f7f; text-decoration-color: #7f7f7f\">[Step 1: Duration 4.75 seconds| Input tokens: 2,065 | Output tokens: 80]</span>\n",
       "</pre>\n"
      ],
      "text/plain": [
       "\u001b[2m[Step 1: Duration 4.75 seconds| Input tokens: 2,065 | Output tokens: 80]\u001b[0m\n"
      ]
     },
     "metadata": {},
     "output_type": "display_data"
    },
    {
     "data": {
      "text/html": [
       "<pre style=\"white-space:pre;overflow-x:auto;line-height:normal;font-family:Menlo,'DejaVu Sans Mono',consolas,'Courier New',monospace\"><span style=\"color: #d4b702; text-decoration-color: #d4b702\">━━━━━━━━━━━━━━━━━━━━━━━━━━━━━━━━━━━━━━━━━━━━━━━━━━━━━ </span><span style=\"font-weight: bold\">Step </span><span style=\"color: #008080; text-decoration-color: #008080; font-weight: bold\">2</span><span style=\"color: #d4b702; text-decoration-color: #d4b702\"> ━━━━━━━━━━━━━━━━━━━━━━━━━━━━━━━━━━━━━━━━━━━━━━━━━━━━━━</span>\n",
       "</pre>\n"
      ],
      "text/plain": [
       "\u001b[38;2;212;183;2m━━━━━━━━━━━━━━━━━━━━━━━━━━━━━━━━━━━━━━━━━━━━━━━━━━━━━ \u001b[0m\u001b[1mStep \u001b[0m\u001b[1;36m2\u001b[0m\u001b[38;2;212;183;2m ━━━━━━━━━━━━━━━━━━━━━━━━━━━━━━━━━━━━━━━━━━━━━━━━━━━━━━\u001b[0m\n"
      ]
     },
     "metadata": {},
     "output_type": "display_data"
    },
    {
     "data": {
      "text/html": [
       "<pre style=\"white-space:pre;overflow-x:auto;line-height:normal;font-family:Menlo,'DejaVu Sans Mono',consolas,'Courier New',monospace\"> ─ <span style=\"font-weight: bold\">Executing parsed code:</span> ──────────────────────────────────────────────────────────────────────────────────────── \n",
       "  <span style=\"color: #f8f8f2; text-decoration-color: #f8f8f2; background-color: #272822\">final_ideas </span><span style=\"color: #ff4689; text-decoration-color: #ff4689; background-color: #272822\">=</span><span style=\"color: #f8f8f2; text-decoration-color: #f8f8f2; background-color: #272822\"> {</span><span style=\"background-color: #272822\">                                                                                                </span>  \n",
       "  <span style=\"color: #f8f8f2; text-decoration-color: #f8f8f2; background-color: #272822\">    </span><span style=\"color: #e6db74; text-decoration-color: #e6db74; background-color: #272822\">\"Entertainment\"</span><span style=\"color: #f8f8f2; text-decoration-color: #f8f8f2; background-color: #272822\">: [</span><span style=\"background-color: #272822\">                                                                                         </span>  \n",
       "  <span style=\"color: #f8f8f2; text-decoration-color: #f8f8f2; background-color: #272822\">        </span><span style=\"color: #e6db74; text-decoration-color: #e6db74; background-color: #272822\">\"Hire a professional DJ who can play themed music for superheroes like Batman and Wonder Woman.\"</span><span style=\"color: #f8f8f2; text-decoration-color: #f8f8f2; background-color: #272822\">,</span><span style=\"background-color: #272822\">      </span>  \n",
       "  <span style=\"color: #f8f8f2; text-decoration-color: #f8f8f2; background-color: #272822\">        </span><span style=\"color: #e6db74; text-decoration-color: #e6db74; background-color: #272822\">\"Interactive experiences with VR where guests can engage in superhero simulations or compete in themed </span>  \n",
       "  <span style=\"color: #e6db74; text-decoration-color: #e6db74; background-color: #272822\">games.\"</span><span style=\"background-color: #272822\">                                                                                                        </span>  \n",
       "  <span style=\"color: #f8f8f2; text-decoration-color: #f8f8f2; background-color: #272822\">    ],</span><span style=\"background-color: #272822\">                                                                                                         </span>  \n",
       "  <span style=\"color: #f8f8f2; text-decoration-color: #f8f8f2; background-color: #272822\">    </span><span style=\"color: #e6db74; text-decoration-color: #e6db74; background-color: #272822\">\"Catering\"</span><span style=\"color: #f8f8f2; text-decoration-color: #f8f8f2; background-color: #272822\">: [</span><span style=\"background-color: #272822\">                                                                                              </span>  \n",
       "  <span style=\"color: #f8f8f2; text-decoration-color: #f8f8f2; background-color: #272822\">        </span><span style=\"color: #e6db74; text-decoration-color: #e6db74; background-color: #272822\">\"Serve dishes named after superheroes, like 'The Hulk's Green Smoothie' and 'Iron Man's Power Steak.'\"</span><span style=\"background-color: #272822\"> </span>  \n",
       "  <span style=\"color: #f8f8f2; text-decoration-color: #f8f8f2; background-color: #272822\">    ],</span><span style=\"background-color: #272822\">                                                                                                         </span>  \n",
       "  <span style=\"color: #f8f8f2; text-decoration-color: #f8f8f2; background-color: #272822\">    </span><span style=\"color: #e6db74; text-decoration-color: #e6db74; background-color: #272822\">\"Decoration\"</span><span style=\"color: #f8f8f2; text-decoration-color: #f8f8f2; background-color: #272822\">: [</span><span style=\"background-color: #272822\">                                                                                            </span>  \n",
       "  <span style=\"color: #f8f8f2; text-decoration-color: #f8f8f2; background-color: #272822\">        </span><span style=\"color: #e6db74; text-decoration-color: #e6db74; background-color: #272822\">\"A superhero-themed masquerade ball with luxury decor, including gold accents and velvet curtains.\"</span><span style=\"color: #f8f8f2; text-decoration-color: #f8f8f2; background-color: #272822\">,</span><span style=\"background-color: #272822\">   </span>  \n",
       "  <span style=\"color: #f8f8f2; text-decoration-color: #f8f8f2; background-color: #272822\">        </span><span style=\"color: #e6db74; text-decoration-color: #e6db74; background-color: #272822\">\"Decorate with iconic superhero logos and projections of Gotham and other superhero cities around the </span><span style=\"background-color: #272822\"> </span>  \n",
       "  <span style=\"color: #e6db74; text-decoration-color: #e6db74; background-color: #272822\">venue.\"</span><span style=\"background-color: #272822\">                                                                                                        </span>  \n",
       "  <span style=\"color: #f8f8f2; text-decoration-color: #f8f8f2; background-color: #272822\">    ]</span><span style=\"background-color: #272822\">                                                                                                          </span>  \n",
       "  <span style=\"color: #f8f8f2; text-decoration-color: #f8f8f2; background-color: #272822\">}</span><span style=\"background-color: #272822\">                                                                                                              </span>  \n",
       "  <span style=\"background-color: #272822\">                                                                                                               </span>  \n",
       "  <span style=\"color: #f8f8f2; text-decoration-color: #f8f8f2; background-color: #272822\">final_answer(final_ideas)</span><span style=\"background-color: #272822\">                                                                                      </span>  \n",
       " ───────────────────────────────────────────────────────────────────────────────────────────────────────────────── \n",
       "</pre>\n"
      ],
      "text/plain": [
       " ─ \u001b[1mExecuting parsed code:\u001b[0m ──────────────────────────────────────────────────────────────────────────────────────── \n",
       "  \u001b[38;2;248;248;242;48;2;39;40;34mfinal_ideas\u001b[0m\u001b[38;2;248;248;242;48;2;39;40;34m \u001b[0m\u001b[38;2;255;70;137;48;2;39;40;34m=\u001b[0m\u001b[38;2;248;248;242;48;2;39;40;34m \u001b[0m\u001b[38;2;248;248;242;48;2;39;40;34m{\u001b[0m\u001b[48;2;39;40;34m                                                                                                \u001b[0m  \n",
       "  \u001b[38;2;248;248;242;48;2;39;40;34m    \u001b[0m\u001b[38;2;230;219;116;48;2;39;40;34m\"\u001b[0m\u001b[38;2;230;219;116;48;2;39;40;34mEntertainment\u001b[0m\u001b[38;2;230;219;116;48;2;39;40;34m\"\u001b[0m\u001b[38;2;248;248;242;48;2;39;40;34m:\u001b[0m\u001b[38;2;248;248;242;48;2;39;40;34m \u001b[0m\u001b[38;2;248;248;242;48;2;39;40;34m[\u001b[0m\u001b[48;2;39;40;34m                                                                                         \u001b[0m  \n",
       "  \u001b[38;2;248;248;242;48;2;39;40;34m        \u001b[0m\u001b[38;2;230;219;116;48;2;39;40;34m\"\u001b[0m\u001b[38;2;230;219;116;48;2;39;40;34mHire a professional DJ who can play themed music for superheroes like Batman and Wonder Woman.\u001b[0m\u001b[38;2;230;219;116;48;2;39;40;34m\"\u001b[0m\u001b[38;2;248;248;242;48;2;39;40;34m,\u001b[0m\u001b[48;2;39;40;34m      \u001b[0m  \n",
       "  \u001b[38;2;248;248;242;48;2;39;40;34m        \u001b[0m\u001b[38;2;230;219;116;48;2;39;40;34m\"\u001b[0m\u001b[38;2;230;219;116;48;2;39;40;34mInteractive experiences with VR where guests can engage in superhero simulations or compete in themed \u001b[0m  \n",
       "  \u001b[38;2;230;219;116;48;2;39;40;34mgames.\u001b[0m\u001b[38;2;230;219;116;48;2;39;40;34m\"\u001b[0m\u001b[48;2;39;40;34m                                                                                                        \u001b[0m  \n",
       "  \u001b[38;2;248;248;242;48;2;39;40;34m    \u001b[0m\u001b[38;2;248;248;242;48;2;39;40;34m]\u001b[0m\u001b[38;2;248;248;242;48;2;39;40;34m,\u001b[0m\u001b[48;2;39;40;34m                                                                                                         \u001b[0m  \n",
       "  \u001b[38;2;248;248;242;48;2;39;40;34m    \u001b[0m\u001b[38;2;230;219;116;48;2;39;40;34m\"\u001b[0m\u001b[38;2;230;219;116;48;2;39;40;34mCatering\u001b[0m\u001b[38;2;230;219;116;48;2;39;40;34m\"\u001b[0m\u001b[38;2;248;248;242;48;2;39;40;34m:\u001b[0m\u001b[38;2;248;248;242;48;2;39;40;34m \u001b[0m\u001b[38;2;248;248;242;48;2;39;40;34m[\u001b[0m\u001b[48;2;39;40;34m                                                                                              \u001b[0m  \n",
       "  \u001b[38;2;248;248;242;48;2;39;40;34m        \u001b[0m\u001b[38;2;230;219;116;48;2;39;40;34m\"\u001b[0m\u001b[38;2;230;219;116;48;2;39;40;34mServe dishes named after superheroes, like \u001b[0m\u001b[38;2;230;219;116;48;2;39;40;34m'\u001b[0m\u001b[38;2;230;219;116;48;2;39;40;34mThe Hulk\u001b[0m\u001b[38;2;230;219;116;48;2;39;40;34m'\u001b[0m\u001b[38;2;230;219;116;48;2;39;40;34ms Green Smoothie\u001b[0m\u001b[38;2;230;219;116;48;2;39;40;34m'\u001b[0m\u001b[38;2;230;219;116;48;2;39;40;34m and \u001b[0m\u001b[38;2;230;219;116;48;2;39;40;34m'\u001b[0m\u001b[38;2;230;219;116;48;2;39;40;34mIron Man\u001b[0m\u001b[38;2;230;219;116;48;2;39;40;34m'\u001b[0m\u001b[38;2;230;219;116;48;2;39;40;34ms Power Steak.\u001b[0m\u001b[38;2;230;219;116;48;2;39;40;34m'\u001b[0m\u001b[38;2;230;219;116;48;2;39;40;34m\"\u001b[0m\u001b[48;2;39;40;34m \u001b[0m  \n",
       "  \u001b[38;2;248;248;242;48;2;39;40;34m    \u001b[0m\u001b[38;2;248;248;242;48;2;39;40;34m]\u001b[0m\u001b[38;2;248;248;242;48;2;39;40;34m,\u001b[0m\u001b[48;2;39;40;34m                                                                                                         \u001b[0m  \n",
       "  \u001b[38;2;248;248;242;48;2;39;40;34m    \u001b[0m\u001b[38;2;230;219;116;48;2;39;40;34m\"\u001b[0m\u001b[38;2;230;219;116;48;2;39;40;34mDecoration\u001b[0m\u001b[38;2;230;219;116;48;2;39;40;34m\"\u001b[0m\u001b[38;2;248;248;242;48;2;39;40;34m:\u001b[0m\u001b[38;2;248;248;242;48;2;39;40;34m \u001b[0m\u001b[38;2;248;248;242;48;2;39;40;34m[\u001b[0m\u001b[48;2;39;40;34m                                                                                            \u001b[0m  \n",
       "  \u001b[38;2;248;248;242;48;2;39;40;34m        \u001b[0m\u001b[38;2;230;219;116;48;2;39;40;34m\"\u001b[0m\u001b[38;2;230;219;116;48;2;39;40;34mA superhero-themed masquerade ball with luxury decor, including gold accents and velvet curtains.\u001b[0m\u001b[38;2;230;219;116;48;2;39;40;34m\"\u001b[0m\u001b[38;2;248;248;242;48;2;39;40;34m,\u001b[0m\u001b[48;2;39;40;34m   \u001b[0m  \n",
       "  \u001b[38;2;248;248;242;48;2;39;40;34m        \u001b[0m\u001b[38;2;230;219;116;48;2;39;40;34m\"\u001b[0m\u001b[38;2;230;219;116;48;2;39;40;34mDecorate with iconic superhero logos and projections of Gotham and other superhero cities around the \u001b[0m\u001b[48;2;39;40;34m \u001b[0m  \n",
       "  \u001b[38;2;230;219;116;48;2;39;40;34mvenue.\u001b[0m\u001b[38;2;230;219;116;48;2;39;40;34m\"\u001b[0m\u001b[48;2;39;40;34m                                                                                                        \u001b[0m  \n",
       "  \u001b[38;2;248;248;242;48;2;39;40;34m    \u001b[0m\u001b[38;2;248;248;242;48;2;39;40;34m]\u001b[0m\u001b[48;2;39;40;34m                                                                                                          \u001b[0m  \n",
       "  \u001b[38;2;248;248;242;48;2;39;40;34m}\u001b[0m\u001b[48;2;39;40;34m                                                                                                              \u001b[0m  \n",
       "  \u001b[48;2;39;40;34m                                                                                                               \u001b[0m  \n",
       "  \u001b[38;2;248;248;242;48;2;39;40;34mfinal_answer\u001b[0m\u001b[38;2;248;248;242;48;2;39;40;34m(\u001b[0m\u001b[38;2;248;248;242;48;2;39;40;34mfinal_ideas\u001b[0m\u001b[38;2;248;248;242;48;2;39;40;34m)\u001b[0m\u001b[48;2;39;40;34m                                                                                      \u001b[0m  \n",
       " ───────────────────────────────────────────────────────────────────────────────────────────────────────────────── \n"
      ]
     },
     "metadata": {},
     "output_type": "display_data"
    },
    {
     "data": {
      "text/html": [
       "<pre style=\"white-space:pre;overflow-x:auto;line-height:normal;font-family:Menlo,'DejaVu Sans Mono',consolas,'Courier New',monospace\"><span style=\"color: #d4b702; text-decoration-color: #d4b702; font-weight: bold\">Out - Final answer: {'Entertainment': ['Hire a professional DJ who can play themed music for superheroes like </span>\n",
       "<span style=\"color: #d4b702; text-decoration-color: #d4b702; font-weight: bold\">Batman and Wonder Woman.', 'Interactive experiences with VR where guests can engage in superhero simulations or </span>\n",
       "<span style=\"color: #d4b702; text-decoration-color: #d4b702; font-weight: bold\">compete in themed games.'], 'Catering': [\"Serve dishes named after superheroes, like 'The Hulk's Green Smoothie' </span>\n",
       "<span style=\"color: #d4b702; text-decoration-color: #d4b702; font-weight: bold\">and 'Iron Man's Power Steak.'\"], 'Decoration': ['A superhero-themed masquerade ball with luxury decor, including </span>\n",
       "<span style=\"color: #d4b702; text-decoration-color: #d4b702; font-weight: bold\">gold accents and velvet curtains.', 'Decorate with iconic superhero logos and projections of Gotham and other </span>\n",
       "<span style=\"color: #d4b702; text-decoration-color: #d4b702; font-weight: bold\">superhero cities around the venue.']}</span>\n",
       "</pre>\n"
      ],
      "text/plain": [
       "\u001b[1;38;2;212;183;2mOut - Final answer: {'Entertainment': ['Hire a professional DJ who can play themed music for superheroes like \u001b[0m\n",
       "\u001b[1;38;2;212;183;2mBatman and Wonder Woman.', 'Interactive experiences with VR where guests can engage in superhero simulations or \u001b[0m\n",
       "\u001b[1;38;2;212;183;2mcompete in themed games.'], 'Catering': [\"Serve dishes named after superheroes, like 'The Hulk's Green Smoothie' \u001b[0m\n",
       "\u001b[1;38;2;212;183;2mand 'Iron Man's Power Steak.'\"], 'Decoration': ['A superhero-themed masquerade ball with luxury decor, including \u001b[0m\n",
       "\u001b[1;38;2;212;183;2mgold accents and velvet curtains.', 'Decorate with iconic superhero logos and projections of Gotham and other \u001b[0m\n",
       "\u001b[1;38;2;212;183;2msuperhero cities around the venue.']}\u001b[0m\n"
      ]
     },
     "metadata": {},
     "output_type": "display_data"
    },
    {
     "data": {
      "text/html": [
       "<pre style=\"white-space:pre;overflow-x:auto;line-height:normal;font-family:Menlo,'DejaVu Sans Mono',consolas,'Courier New',monospace\"><span style=\"color: #7f7f7f; text-decoration-color: #7f7f7f\">[Step 2: Duration 9.20 seconds| Input tokens: 4,434 | Output tokens: 269]</span>\n",
       "</pre>\n"
      ],
      "text/plain": [
       "\u001b[2m[Step 2: Duration 9.20 seconds| Input tokens: 4,434 | Output tokens: 269]\u001b[0m\n"
      ]
     },
     "metadata": {},
     "output_type": "display_data"
    },
    {
     "name": "stdout",
     "output_type": "stream",
     "text": [
      "{'Entertainment': ['Hire a professional DJ who can play themed music for superheroes like Batman and Wonder Woman.', 'Interactive experiences with VR where guests can engage in superhero simulations or compete in themed games.'], 'Catering': [\"Serve dishes named after superheroes, like 'The Hulk's Green Smoothie' and 'Iron Man's Power Steak.'\"], 'Decoration': ['A superhero-themed masquerade ball with luxury decor, including gold accents and velvet curtains.', 'Decorate with iconic superhero logos and projections of Gotham and other superhero cities around the venue.']}\n"
     ]
    }
   ],
   "source": [
    "from langchain.docstore.document import Document\n",
    "from langchain.text_splitter import RecursiveCharacterTextSplitter\n",
    "from smolagents import Tool\n",
    "from langchain_community.retrievers import BM25Retriever\n",
    "from smolagents import CodeAgent, InferenceClientModel\n",
    "\n",
    "class PartyPlanningRetrieverTool(Tool):\n",
    "    name = \"party_planning_retriever\"\n",
    "    description = \"Uses semantic search to retrieve relevant party planning ideas for Alfred’s superhero-themed party at Wayne Manor.\"\n",
    "    inputs = {\n",
    "        \"query\": {\n",
    "            \"type\": \"string\",\n",
    "            \"description\": \"The query to perform. This should be a query related to party planning or superhero themes.\",\n",
    "        }\n",
    "    }\n",
    "    output_type = \"string\"\n",
    "\n",
    "    def __init__(self, docs, **kwargs):\n",
    "        super().__init__(**kwargs)\n",
    "        self.retriever = BM25Retriever.from_documents(\n",
    "            docs, k=5  # Retrieve the top 5 documents\n",
    "        )\n",
    "\n",
    "    def forward(self, query: str) -> str:\n",
    "        assert isinstance(query, str), \"Your search query must be a string\"\n",
    "\n",
    "        docs = self.retriever.invoke(\n",
    "            query,\n",
    "        )\n",
    "        return \"\\nRetrieved ideas:\\n\" + \"\".join(\n",
    "            [\n",
    "                f\"\\n\\n===== Idea {str(i)} =====\\n\" + doc.page_content\n",
    "                for i, doc in enumerate(docs)\n",
    "            ]\n",
    "        )\n",
    "\n",
    "# Simulate a knowledge base about party planning\n",
    "party_ideas = [\n",
    "    {\"text\": \"A superhero-themed masquerade ball with luxury decor, including gold accents and velvet curtains.\", \"source\": \"Party Ideas 1\"},\n",
    "    {\"text\": \"Hire a professional DJ who can play themed music for superheroes like Batman and Wonder Woman.\", \"source\": \"Entertainment Ideas\"},\n",
    "    {\"text\": \"For catering, serve dishes named after superheroes, like 'The Hulk's Green Smoothie' and 'Iron Man's Power Steak.'\", \"source\": \"Catering Ideas\"},\n",
    "    {\"text\": \"Decorate with iconic superhero logos and projections of Gotham and other superhero cities around the venue.\", \"source\": \"Decoration Ideas\"},\n",
    "    {\"text\": \"Interactive experiences with VR where guests can engage in superhero simulations or compete in themed games.\", \"source\": \"Entertainment Ideas\"}\n",
    "]\n",
    "\n",
    "source_docs = [\n",
    "    Document(page_content=doc[\"text\"], metadata={\"source\": doc[\"source\"]})\n",
    "    for doc in party_ideas\n",
    "]\n",
    "\n",
    "# Split the documents into smaller chunks for more efficient search\n",
    "text_splitter = RecursiveCharacterTextSplitter(\n",
    "    chunk_size=500,\n",
    "    chunk_overlap=50,\n",
    "    add_start_index=True,\n",
    "    strip_whitespace=True,\n",
    "    separators=[\"\\n\\n\", \"\\n\", \".\", \" \", \"\"],\n",
    ")\n",
    "docs_processed = text_splitter.split_documents(source_docs)\n",
    "\n",
    "# Create the retriever tool\n",
    "party_planning_retriever = PartyPlanningRetrieverTool(docs_processed)\n",
    "\n",
    "# Initialize the agent\n",
    "agent = CodeAgent(tools=[party_planning_retriever], model=InferenceClientModel())\n",
    "\n",
    "# Example usage\n",
    "response = agent.run(\n",
    "    \"Find ideas for a luxury superhero-themed party, including entertainment, catering, and decoration options.\"\n",
    ")\n",
    "\n",
    "print(response)"
   ]
  },
  {
   "cell_type": "markdown",
   "metadata": {
    "id": "uMENl0QaalSd"
   },
   "source": [
    "This enhanced agent can:\n",
    "1. First check the documentation for relevant information\n",
    "2. Combine insights from the knowledge base\n",
    "3. Maintain conversation context through memory"
   ]
  },
  {
   "cell_type": "markdown",
   "metadata": {},
   "source": [
    "## Enhanced Retrieval Capabilities\n",
    "When building agentic RAG systems, the agent can employ sophisticated strategies like:\n",
    "\n",
    "1. Query Reformulation: Instead of using the raw user query, the agent can craft optimized search terms that better match the target documents\n",
    "2. Multi-Step Retrieval: The agent can perform multiple searches, using initial results to inform subsequent queries\n",
    "3. Source Integration: Information can be combined from multiple sources like web search and local documentation\n",
    "4. Result Validation: Retrieved content can be analyzed for relevance and accuracy before being included in responses\n",
    "\n",
    "Effective agentic RAG systems require careful consideration of several key aspects. The agent should select between available tools based on the query type and context. Memory systems help maintain conversation history and avoid repetitive retrievals. Having fallback strategies ensures the system can still provide value even when primary retrieval methods fail. Additionally, implementing validation steps helps ensure the accuracy and relevance of retrieved information."
   ]
  },
  {
   "cell_type": "code",
   "execution_count": null,
   "metadata": {},
   "outputs": [],
   "source": []
  }
 ],
 "metadata": {
  "colab": {
   "provenance": []
  },
  "kernelspec": {
   "display_name": "Python 3 (ipykernel)",
   "language": "python",
   "name": "python3"
  },
  "language_info": {
   "codemirror_mode": {
    "name": "ipython",
    "version": 3
   },
   "file_extension": ".py",
   "mimetype": "text/x-python",
   "name": "python",
   "nbconvert_exporter": "python",
   "pygments_lexer": "ipython3",
   "version": "3.10.17"
  }
 },
 "nbformat": 4,
 "nbformat_minor": 4
}
