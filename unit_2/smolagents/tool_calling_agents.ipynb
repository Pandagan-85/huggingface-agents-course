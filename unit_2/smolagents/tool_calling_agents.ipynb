{
 "cells": [
  {
   "cell_type": "markdown",
   "metadata": {
    "id": "Pi9CF0391ARI"
   },
   "source": [
    "# Writing actions as code snippets or JSON blobs\n",
    "\n",
    "This notebook is part of the [Hugging Face Agents Course](https://www.hf.co/learn/agents-course), a free Course from beginner to expert, where you learn to build Agents.\n",
    "\n",
    "![Agents course share](https://huggingface.co/datasets/agents-course/course-images/resolve/main/en/communication/share.png)"
   ]
  },
  {
   "cell_type": "markdown",
   "metadata": {
    "id": "9gsYky7F1GzT"
   },
   "source": [
    "## Let's install the dependencies and login to our HF account to access the Inference API\n",
    "\n",
    "If you haven't installed `smolagents` yet, you can do so by running the following command:"
   ]
  },
  {
   "cell_type": "code",
   "execution_count": null,
   "metadata": {
    "id": "MoFopncp0pnJ"
   },
   "outputs": [],
   "source": [
    "!pip install smolagents -U"
   ]
  },
  {
   "cell_type": "markdown",
   "metadata": {
    "id": "cH-4W1GhYL4T"
   },
   "source": [
    "Let's also login to the Hugging Face Hub to have access to the Inference API."
   ]
  },
  {
   "cell_type": "code",
   "execution_count": null,
   "metadata": {
    "id": "TFTc-ry70y1f"
   },
   "outputs": [],
   "source": [
    "from huggingface_hub import notebook_login\n",
    "\n",
    "notebook_login()"
   ]
  },
  {
   "cell_type": "markdown",
   "metadata": {
    "id": "ekKxaZrd1HlB"
   },
   "source": [
    "## Selecting a Playlist for the Party Using `smolagents` and a `ToolCallingAgent`\n",
    "\n",
    "Let's revisit the previous example where Alfred started party preparations, but this time we'll use a `ToolCallingAgent` to highlight the difference. We'll build an agent that can search the web using DuckDuckGo, just like in our Code Agent example. The only difference is the agent type - the framework handles everything else:"
   ]
  },
  {
   "cell_type": "code",
   "execution_count": 6,
   "metadata": {
    "colab": {
     "base_uri": "https://localhost:8080/",
     "height": 1000
    },
    "id": "6IInDOUN01sP",
    "outputId": "e49f2360-d377-4ed8-b7ae-8da4a3e3757b"
   },
   "outputs": [
    {
     "data": {
      "text/html": [
       "<pre style=\"white-space:pre;overflow-x:auto;line-height:normal;font-family:Menlo,'DejaVu Sans Mono',consolas,'Courier New',monospace\"><span style=\"color: #d4b702; text-decoration-color: #d4b702\">╭──────────────────────────────────────────────────── </span><span style=\"color: #d4b702; text-decoration-color: #d4b702; font-weight: bold\">New run</span><span style=\"color: #d4b702; text-decoration-color: #d4b702\"> ────────────────────────────────────────────────────╮</span>\n",
       "<span style=\"color: #d4b702; text-decoration-color: #d4b702\">│</span>                                                                                                                 <span style=\"color: #d4b702; text-decoration-color: #d4b702\">│</span>\n",
       "<span style=\"color: #d4b702; text-decoration-color: #d4b702\">│</span> <span style=\"font-weight: bold\">Search for the best music recommendations for a party at the Wayne's mansion.</span>                                   <span style=\"color: #d4b702; text-decoration-color: #d4b702\">│</span>\n",
       "<span style=\"color: #d4b702; text-decoration-color: #d4b702\">│</span>                                                                                                                 <span style=\"color: #d4b702; text-decoration-color: #d4b702\">│</span>\n",
       "<span style=\"color: #d4b702; text-decoration-color: #d4b702\">╰─ LiteLLMModel - gpt-4o-mini ────────────────────────────────────────────────────────────────────────────────────╯</span>\n",
       "</pre>\n"
      ],
      "text/plain": [
       "\u001b[38;2;212;183;2m╭─\u001b[0m\u001b[38;2;212;183;2m───────────────────────────────────────────────────\u001b[0m\u001b[38;2;212;183;2m \u001b[0m\u001b[1;38;2;212;183;2mNew run\u001b[0m\u001b[38;2;212;183;2m \u001b[0m\u001b[38;2;212;183;2m───────────────────────────────────────────────────\u001b[0m\u001b[38;2;212;183;2m─╮\u001b[0m\n",
       "\u001b[38;2;212;183;2m│\u001b[0m                                                                                                                 \u001b[38;2;212;183;2m│\u001b[0m\n",
       "\u001b[38;2;212;183;2m│\u001b[0m \u001b[1mSearch for the best music recommendations for a party at the Wayne's mansion.\u001b[0m                                   \u001b[38;2;212;183;2m│\u001b[0m\n",
       "\u001b[38;2;212;183;2m│\u001b[0m                                                                                                                 \u001b[38;2;212;183;2m│\u001b[0m\n",
       "\u001b[38;2;212;183;2m╰─\u001b[0m\u001b[38;2;212;183;2m LiteLLMModel - gpt-4o-mini \u001b[0m\u001b[38;2;212;183;2m───────────────────────────────────────────────────────────────────────────────────\u001b[0m\u001b[38;2;212;183;2m─╯\u001b[0m\n"
      ]
     },
     "metadata": {},
     "output_type": "display_data"
    },
    {
     "data": {
      "text/html": [
       "<pre style=\"white-space:pre;overflow-x:auto;line-height:normal;font-family:Menlo,'DejaVu Sans Mono',consolas,'Courier New',monospace\"><span style=\"color: #d4b702; text-decoration-color: #d4b702\">━━━━━━━━━━━━━━━━━━━━━━━━━━━━━━━━━━━━━━━━━━━━━━━━━━━━━ </span><span style=\"font-weight: bold\">Step </span><span style=\"color: #008080; text-decoration-color: #008080; font-weight: bold\">1</span><span style=\"color: #d4b702; text-decoration-color: #d4b702\"> ━━━━━━━━━━━━━━━━━━━━━━━━━━━━━━━━━━━━━━━━━━━━━━━━━━━━━━</span>\n",
       "</pre>\n"
      ],
      "text/plain": [
       "\u001b[38;2;212;183;2m━━━━━━━━━━━━━━━━━━━━━━━━━━━━━━━━━━━━━━━━━━━━━━━━━━━━━ \u001b[0m\u001b[1mStep \u001b[0m\u001b[1;36m1\u001b[0m\u001b[38;2;212;183;2m ━━━━━━━━━━━━━━━━━━━━━━━━━━━━━━━━━━━━━━━━━━━━━━━━━━━━━━\u001b[0m\n"
      ]
     },
     "metadata": {},
     "output_type": "display_data"
    },
    {
     "data": {
      "text/html": [
       "<pre style=\"white-space:pre;overflow-x:auto;line-height:normal;font-family:Menlo,'DejaVu Sans Mono',consolas,'Courier New',monospace\">╭─────────────────────────────────────────────────────────────────────────────────────────────────────────────────╮\n",
       "│ Calling tool: 'web_search' with arguments: {'query': \"best music recommendations for a party at Wayne's         │\n",
       "│ mansion\"}                                                                                                       │\n",
       "╰─────────────────────────────────────────────────────────────────────────────────────────────────────────────────╯\n",
       "</pre>\n"
      ],
      "text/plain": [
       "╭─────────────────────────────────────────────────────────────────────────────────────────────────────────────────╮\n",
       "│ Calling tool: 'web_search' with arguments: {'query': \"best music recommendations for a party at Wayne's         │\n",
       "│ mansion\"}                                                                                                       │\n",
       "╰─────────────────────────────────────────────────────────────────────────────────────────────────────────────────╯\n"
      ]
     },
     "metadata": {},
     "output_type": "display_data"
    },
    {
     "data": {
      "text/html": [
       "<pre style=\"white-space:pre;overflow-x:auto;line-height:normal;font-family:Menlo,'DejaVu Sans Mono',consolas,'Courier New',monospace\">Observations: ## Search Results\n",
       "\n",
       "|The <span style=\"color: #008080; text-decoration-color: #008080; font-weight: bold\">75</span> Best Party Songs That Will Get Everyone Dancing - \n",
       "Gear4music<span style=\"font-weight: bold\">](</span><span style=\"color: #0000ff; text-decoration-color: #0000ff; text-decoration: underline\">https://www.gear4music.com/blog/best-party-songs/)</span>\n",
       "The best party songs <span style=\"color: #008080; text-decoration-color: #008080; font-weight: bold\">1</span>. <span style=\"color: #008000; text-decoration-color: #008000\">\"September\"</span> - Earth, Wind &amp; Fire <span style=\"font-weight: bold\">(</span><span style=\"color: #008080; text-decoration-color: #008080; font-weight: bold\">1978</span><span style=\"font-weight: bold\">)</span> Quite possibly the best party song. An infectious \n",
       "mix of funk and soul, <span style=\"color: #008000; text-decoration-color: #008000\">\"September\"</span> is celebrated for its upbeat melody and <span style=\"color: #008000; text-decoration-color: #008000\">\"ba-dee-ya\"</span> chorus, making it a timeless \n",
       "dance favorite.\n",
       "\n",
       "|late nights in the wayne manor | a bruce wayne rock/blues playlist<span style=\"font-weight: bold\">](</span><span style=\"color: #0000ff; text-decoration-color: #0000ff; text-decoration: underline\">https://www.youtube.com/watch?v=oOdHCjj3jn4)</span>\n",
       "these are songs that bruce wayne listens to while wandering the halls of the great wayne manor.find this playlist \n",
       "on my spotify: <span style=\"color: #0000ff; text-decoration-color: #0000ff; text-decoration: underline\">https://open.spotify.com/use...</span>\n",
       "\n",
       "|Similar Songs Finder | Spotify Playlist Generator - Chosic<span style=\"font-weight: bold\">](</span><span style=\"color: #0000ff; text-decoration-color: #0000ff; text-decoration: underline\">https://www.chosic.com/playlist-generator/)</span>\n",
       "Need to find similar songs to a song you like? To music you love? A playlist created for you in seconds! With \n",
       "Spotify Playlist Generator online tool, create awesome playlists in seconds, featuring similar songs to those you \n",
       "love. Whether by songs, artists, genres, moods, or based on a playlist, just start with what you have in mind, and \n",
       "it will provide you with plenty of song recommendations <span style=\"color: #808000; text-decoration-color: #808000\">...</span>\n",
       "\n",
       "|<span style=\"color: #008080; text-decoration-color: #008080; font-weight: bold\">40</span> Best Party Songs | Songs To Dance To, Ranked By Our Editors - Time \n",
       "Out<span style=\"font-weight: bold\">](</span><span style=\"color: #0000ff; text-decoration-color: #0000ff; text-decoration: underline\">https://www.timeout.com/music/best-party-songs)</span>\n",
       "The <span style=\"color: #008080; text-decoration-color: #008080; font-weight: bold\">40</span> best party songs ever made. It's party time guys - don your dancing shoes and have your speaker at the \n",
       "ready. Monday <span style=\"color: #008080; text-decoration-color: #008080; font-weight: bold\">12</span> May <span style=\"color: #008080; text-decoration-color: #008080; font-weight: bold\">2025</span>. Share. Copy Link. Facebook Twitter Pinterest Email <span style=\"color: #808000; text-decoration-color: #808000\">...</span>\n",
       "\n",
       "|<span style=\"color: #008080; text-decoration-color: #008080; font-weight: bold\">50</span> Songs on Every Event Planner's Playlist - \n",
       "Eventbrite<span style=\"font-weight: bold\">](</span><span style=\"color: #0000ff; text-decoration-color: #0000ff; text-decoration: underline\">https://www.eventbrite.com/blog/event-planning-playlist-ds00/)</span>\n",
       "Music sets the mood and provides the soundtrack <span style=\"font-weight: bold\">(</span>literally<span style=\"font-weight: bold\">)</span> for a memorable and exciting time. While the right \n",
       "songs can enhance the experience, the wrong event music can throw off the vibe. For example, fast-paced songs \n",
       "probably aren't the best fit for a formal gala. And smooth jazz is likely to lull your guests at a motivational \n",
       "conference.\n",
       "\n",
       "|Best Songs To Party: DJ's Ultimate Party Songs Playlist - \n",
       "Top40Weekly.com<span style=\"font-weight: bold\">](</span><span style=\"color: #0000ff; text-decoration-color: #0000ff; text-decoration: underline\">https://top40weekly.com/best-songs-to-party/)</span>\n",
       "Don't forget the music! We've compiled the best songs to party that are sure to get everyone in the mood to dance \n",
       "and have a good time. Skip to content. Search for: <span style=\"color: #008080; text-decoration-color: #008080; font-weight: bold\">1950</span>. Top Songs from <span style=\"color: #008080; text-decoration-color: #008080; font-weight: bold\">1955</span>; Top Songs of <span style=\"color: #008080; text-decoration-color: #008080; font-weight: bold\">1956</span>; Top Songs of <span style=\"color: #008080; text-decoration-color: #008080; font-weight: bold\">1957</span>;\n",
       "Top Songs of <span style=\"color: #008080; text-decoration-color: #008080; font-weight: bold\">1958</span>; Top Songs of <span style=\"color: #008080; text-decoration-color: #008080; font-weight: bold\">1959</span>; 1950s Playlists; <span style=\"color: #008080; text-decoration-color: #008080; font-weight: bold\">1960</span>. Top Songs from <span style=\"color: #008080; text-decoration-color: #008080; font-weight: bold\">1960</span>;\n",
       "\n",
       "|Song Lists to help you plan the perfect music for your event!<span style=\"font-weight: bold\">](</span><span style=\"color: #0000ff; text-decoration-color: #0000ff; text-decoration: underline\">http://pianistforparties.com/songs/)</span>\n",
       "Song ideas to help you plan music for your wedding, corporate event or memorial service, by Event Pianist, Sharon \n",
       "Planer. <span style=\"color: #808000; text-decoration-color: #808000\">...</span> Reception &amp; Party. <span style=\"color: #008080; text-decoration-color: #008080; font-weight: bold\">100</span> Years. A Day in the Life of a Fool. Accidentally in Love. All Blues. Always. \n",
       "Ain't Misbehaving. <span style=\"color: #808000; text-decoration-color: #808000\">...</span> Mansion Over the Hilltop. My Heart is Longing. My Way. Near to the Heart of God. Old Rugged \n",
       "Cross <span style=\"color: #808000; text-decoration-color: #808000\">...</span>\n",
       "\n",
       "|Party Music Guide: Ultimate Tips for the Perfect \n",
       "Playlist<span style=\"font-weight: bold\">](</span><span style=\"color: #0000ff; text-decoration-color: #0000ff; text-decoration: underline\">https://thebackstage-deezer.com/music/perfect-party-music-playlist/)</span>\n",
       "Check out the best party playlists and top party songs to ensure your next party is packed! The most popular party \n",
       "songs are here, just hit play. <span style=\"color: #808000; text-decoration-color: #808000\">...</span> to decor. But, most of all, you need to have fantastic music. We recommend you \n",
       "get at least three hours' worth of party music queued and ready — that's about <span style=\"color: #008080; text-decoration-color: #008080; font-weight: bold\">75</span> songs. Lucky for you, we've <span style=\"color: #808000; text-decoration-color: #808000\">...</span>\n",
       "\n",
       "|GUIDE TO Planning Music for a Party - \n",
       "partiesuniverse.com<span style=\"font-weight: bold\">](</span><span style=\"color: #0000ff; text-decoration-color: #0000ff; text-decoration: underline\">https://partiesuniverse.com/guide-to-planning-music-for-a-party/)</span>\n",
       "xr:<span style=\"color: #00ff00; text-decoration-color: #00ff00; font-weight: bold\">d:DAF</span>xaQvMCGM:<span style=\"color: #008080; text-decoration-color: #008080; font-weight: bold\">504</span>,j:<span style=\"color: #008080; text-decoration-color: #008080; font-weight: bold\">3834112899852746517</span>,t:<span style=\"color: #008080; text-decoration-color: #008080; font-weight: bold\">24040314</span>. Some things to consider if you're booking live music: Set \n",
       "Length: Determine the length of each set based on the overall duration of the event and the preferences of both the\n",
       "performers and the host.Typical set lengths range from <span style=\"color: #008080; text-decoration-color: #008080; font-weight: bold\">30</span> minutes to <span style=\"color: #008080; text-decoration-color: #008080; font-weight: bold\">1</span> hour, with breaks in between sets for rest \n",
       "and refreshment.\n",
       "\n",
       "|late nights in the wayne manor - YouTube Music<span style=\"font-weight: bold\">](</span><span style=\"color: #0000ff; text-decoration-color: #0000ff; text-decoration: underline\">https://music.youtube.com/watch?v=oOdHCjj3jn4)</span>\n",
       "these are songs that bruce wayne listens to while wandering the halls of the great wayne manor. find this playlist \n",
       "on my spotify: <span style=\"color: #0000ff; text-decoration-color: #0000ff; text-decoration: underline\">https://open.spotify.com/u...</span>\n",
       "</pre>\n"
      ],
      "text/plain": [
       "Observations: ## Search Results\n",
       "\n",
       "|The \u001b[1;36m75\u001b[0m Best Party Songs That Will Get Everyone Dancing - \n",
       "Gear4music\u001b[1m]\u001b[0m\u001b[1m(\u001b[0m\u001b[4;94mhttps://www.gear4music.com/blog/best-party-songs/\u001b[0m\u001b[4;94m)\u001b[0m\n",
       "The best party songs \u001b[1;36m1\u001b[0m. \u001b[32m\"September\"\u001b[0m - Earth, Wind & Fire \u001b[1m(\u001b[0m\u001b[1;36m1978\u001b[0m\u001b[1m)\u001b[0m Quite possibly the best party song. An infectious \n",
       "mix of funk and soul, \u001b[32m\"September\"\u001b[0m is celebrated for its upbeat melody and \u001b[32m\"ba-dee-ya\"\u001b[0m chorus, making it a timeless \n",
       "dance favorite.\n",
       "\n",
       "|late nights in the wayne manor | a bruce wayne rock/blues playlist\u001b[1m]\u001b[0m\u001b[1m(\u001b[0m\u001b[4;94mhttps://www.youtube.com/watch?\u001b[0m\u001b[4;94mv\u001b[0m\u001b[4;94m=\u001b[0m\u001b[4;94moOdHCjj3jn4\u001b[0m\u001b[4;94m)\u001b[0m\n",
       "these are songs that bruce wayne listens to while wandering the halls of the great wayne manor.find this playlist \n",
       "on my spotify: \u001b[4;94mhttps://open.spotify.com/use...\u001b[0m\n",
       "\n",
       "|Similar Songs Finder | Spotify Playlist Generator - Chosic\u001b[1m]\u001b[0m\u001b[1m(\u001b[0m\u001b[4;94mhttps://www.chosic.com/playlist-generator/\u001b[0m\u001b[4;94m)\u001b[0m\n",
       "Need to find similar songs to a song you like? To music you love? A playlist created for you in seconds! With \n",
       "Spotify Playlist Generator online tool, create awesome playlists in seconds, featuring similar songs to those you \n",
       "love. Whether by songs, artists, genres, moods, or based on a playlist, just start with what you have in mind, and \n",
       "it will provide you with plenty of song recommendations \u001b[33m...\u001b[0m\n",
       "\n",
       "|\u001b[1;36m40\u001b[0m Best Party Songs | Songs To Dance To, Ranked By Our Editors - Time \n",
       "Out\u001b[1m]\u001b[0m\u001b[1m(\u001b[0m\u001b[4;94mhttps://www.timeout.com/music/best-party-songs\u001b[0m\u001b[4;94m)\u001b[0m\n",
       "The \u001b[1;36m40\u001b[0m best party songs ever made. It's party time guys - don your dancing shoes and have your speaker at the \n",
       "ready. Monday \u001b[1;36m12\u001b[0m May \u001b[1;36m2025\u001b[0m. Share. Copy Link. Facebook Twitter Pinterest Email \u001b[33m...\u001b[0m\n",
       "\n",
       "|\u001b[1;36m50\u001b[0m Songs on Every Event Planner's Playlist - \n",
       "Eventbrite\u001b[1m]\u001b[0m\u001b[1m(\u001b[0m\u001b[4;94mhttps://www.eventbrite.com/blog/event-planning-playlist-ds00/\u001b[0m\u001b[4;94m)\u001b[0m\n",
       "Music sets the mood and provides the soundtrack \u001b[1m(\u001b[0mliterally\u001b[1m)\u001b[0m for a memorable and exciting time. While the right \n",
       "songs can enhance the experience, the wrong event music can throw off the vibe. For example, fast-paced songs \n",
       "probably aren't the best fit for a formal gala. And smooth jazz is likely to lull your guests at a motivational \n",
       "conference.\n",
       "\n",
       "|Best Songs To Party: DJ's Ultimate Party Songs Playlist - \n",
       "Top40Weekly.com\u001b[1m]\u001b[0m\u001b[1m(\u001b[0m\u001b[4;94mhttps://top40weekly.com/best-songs-to-party/\u001b[0m\u001b[4;94m)\u001b[0m\n",
       "Don't forget the music! We've compiled the best songs to party that are sure to get everyone in the mood to dance \n",
       "and have a good time. Skip to content. Search for: \u001b[1;36m1950\u001b[0m. Top Songs from \u001b[1;36m1955\u001b[0m; Top Songs of \u001b[1;36m1956\u001b[0m; Top Songs of \u001b[1;36m1957\u001b[0m;\n",
       "Top Songs of \u001b[1;36m1958\u001b[0m; Top Songs of \u001b[1;36m1959\u001b[0m; 1950s Playlists; \u001b[1;36m1960\u001b[0m. Top Songs from \u001b[1;36m1960\u001b[0m;\n",
       "\n",
       "|Song Lists to help you plan the perfect music for your event!\u001b[1m]\u001b[0m\u001b[1m(\u001b[0m\u001b[4;94mhttp://pianistforparties.com/songs/\u001b[0m\u001b[4;94m)\u001b[0m\n",
       "Song ideas to help you plan music for your wedding, corporate event or memorial service, by Event Pianist, Sharon \n",
       "Planer. \u001b[33m...\u001b[0m Reception & Party. \u001b[1;36m100\u001b[0m Years. A Day in the Life of a Fool. Accidentally in Love. All Blues. Always. \n",
       "Ain't Misbehaving. \u001b[33m...\u001b[0m Mansion Over the Hilltop. My Heart is Longing. My Way. Near to the Heart of God. Old Rugged \n",
       "Cross \u001b[33m...\u001b[0m\n",
       "\n",
       "|Party Music Guide: Ultimate Tips for the Perfect \n",
       "Playlist\u001b[1m]\u001b[0m\u001b[1m(\u001b[0m\u001b[4;94mhttps://thebackstage-deezer.com/music/perfect-party-music-playlist/\u001b[0m\u001b[4;94m)\u001b[0m\n",
       "Check out the best party playlists and top party songs to ensure your next party is packed! The most popular party \n",
       "songs are here, just hit play. \u001b[33m...\u001b[0m to decor. But, most of all, you need to have fantastic music. We recommend you \n",
       "get at least three hours' worth of party music queued and ready — that's about \u001b[1;36m75\u001b[0m songs. Lucky for you, we've \u001b[33m...\u001b[0m\n",
       "\n",
       "|GUIDE TO Planning Music for a Party - \n",
       "partiesuniverse.com\u001b[1m]\u001b[0m\u001b[1m(\u001b[0m\u001b[4;94mhttps://partiesuniverse.com/guide-to-planning-music-for-a-party/\u001b[0m\u001b[4;94m)\u001b[0m\n",
       "xr:\u001b[1;92md:DAF\u001b[0mxaQvMCGM:\u001b[1;36m504\u001b[0m,j:\u001b[1;36m3834112899852746517\u001b[0m,t:\u001b[1;36m24040314\u001b[0m. Some things to consider if you're booking live music: Set \n",
       "Length: Determine the length of each set based on the overall duration of the event and the preferences of both the\n",
       "performers and the host.Typical set lengths range from \u001b[1;36m30\u001b[0m minutes to \u001b[1;36m1\u001b[0m hour, with breaks in between sets for rest \n",
       "and refreshment.\n",
       "\n",
       "|late nights in the wayne manor - YouTube Music\u001b[1m]\u001b[0m\u001b[1m(\u001b[0m\u001b[4;94mhttps://music.youtube.com/watch?\u001b[0m\u001b[4;94mv\u001b[0m\u001b[4;94m=\u001b[0m\u001b[4;94moOdHCjj3jn4\u001b[0m\u001b[4;94m)\u001b[0m\n",
       "these are songs that bruce wayne listens to while wandering the halls of the great wayne manor. find this playlist \n",
       "on my spotify: \u001b[4;94mhttps://open.spotify.com/u...\u001b[0m\n"
      ]
     },
     "metadata": {},
     "output_type": "display_data"
    },
    {
     "data": {
      "text/html": [
       "<pre style=\"white-space:pre;overflow-x:auto;line-height:normal;font-family:Menlo,'DejaVu Sans Mono',consolas,'Courier New',monospace\"><span style=\"color: #7f7f7f; text-decoration-color: #7f7f7f\">[Step 1: Duration 2.18 seconds| Input tokens: 957 | Output tokens: 23]</span>\n",
       "</pre>\n"
      ],
      "text/plain": [
       "\u001b[2m[Step 1: Duration 2.18 seconds| Input tokens: 957 | Output tokens: 23]\u001b[0m\n"
      ]
     },
     "metadata": {},
     "output_type": "display_data"
    },
    {
     "data": {
      "text/html": [
       "<pre style=\"white-space:pre;overflow-x:auto;line-height:normal;font-family:Menlo,'DejaVu Sans Mono',consolas,'Courier New',monospace\"><span style=\"color: #d4b702; text-decoration-color: #d4b702\">━━━━━━━━━━━━━━━━━━━━━━━━━━━━━━━━━━━━━━━━━━━━━━━━━━━━━ </span><span style=\"font-weight: bold\">Step </span><span style=\"color: #008080; text-decoration-color: #008080; font-weight: bold\">2</span><span style=\"color: #d4b702; text-decoration-color: #d4b702\"> ━━━━━━━━━━━━━━━━━━━━━━━━━━━━━━━━━━━━━━━━━━━━━━━━━━━━━━</span>\n",
       "</pre>\n"
      ],
      "text/plain": [
       "\u001b[38;2;212;183;2m━━━━━━━━━━━━━━━━━━━━━━━━━━━━━━━━━━━━━━━━━━━━━━━━━━━━━ \u001b[0m\u001b[1mStep \u001b[0m\u001b[1;36m2\u001b[0m\u001b[38;2;212;183;2m ━━━━━━━━━━━━━━━━━━━━━━━━━━━━━━━━━━━━━━━━━━━━━━━━━━━━━━\u001b[0m\n"
      ]
     },
     "metadata": {},
     "output_type": "display_data"
    },
    {
     "data": {
      "text/html": [
       "<pre style=\"white-space:pre;overflow-x:auto;line-height:normal;font-family:Menlo,'DejaVu Sans Mono',consolas,'Courier New',monospace\">╭─────────────────────────────────────────────────────────────────────────────────────────────────────────────────╮\n",
       "│ Calling tool: 'web_search' with arguments: {'query': 'The 75 Best Party Songs That Will Get Everyone Dancing'}  │\n",
       "╰─────────────────────────────────────────────────────────────────────────────────────────────────────────────────╯\n",
       "</pre>\n"
      ],
      "text/plain": [
       "╭─────────────────────────────────────────────────────────────────────────────────────────────────────────────────╮\n",
       "│ Calling tool: 'web_search' with arguments: {'query': 'The 75 Best Party Songs That Will Get Everyone Dancing'}  │\n",
       "╰─────────────────────────────────────────────────────────────────────────────────────────────────────────────────╯\n"
      ]
     },
     "metadata": {},
     "output_type": "display_data"
    },
    {
     "data": {
      "text/html": [
       "<pre style=\"white-space:pre;overflow-x:auto;line-height:normal;font-family:Menlo,'DejaVu Sans Mono',consolas,'Courier New',monospace\">Observations: ## Search Results\n",
       "\n",
       "|The <span style=\"color: #008080; text-decoration-color: #008080; font-weight: bold\">75</span> Best Party Songs That Will Get Everyone Dancing - \n",
       "Gear4music<span style=\"font-weight: bold\">](</span><span style=\"color: #0000ff; text-decoration-color: #0000ff; text-decoration: underline\">https://www.gear4music.com/blog/best-party-songs/)</span>\n",
       "The <span style=\"color: #008080; text-decoration-color: #008080; font-weight: bold\">75</span> Best Party Songs That Will Get Everyone Dancing. by Drew <span style=\"color: #800080; text-decoration-color: #800080\">/</span> <span style=\"color: #008080; text-decoration-color: #008080; font-weight: bold\">09</span>/<span style=\"color: #008080; text-decoration-color: #008080; font-weight: bold\">05</span>/<span style=\"color: #008080; text-decoration-color: #008080; font-weight: bold\">2024</span>. Guides, Live Sound &amp; DJ. Table of \n",
       "Contents. <span style=\"color: #808000; text-decoration-color: #808000\">...</span> If you're throwing a party, there are countless songs that will get everyone up and dancing; even \n",
       "once you've chosen your mix, you'll probably still think of more later!\n",
       "\n",
       "|<span style=\"color: #008080; text-decoration-color: #008080; font-weight: bold\">50</span> Dance Party Songs to Get People on Their Feet - \n",
       "LoveToKnow<span style=\"font-weight: bold\">](</span><span style=\"color: #0000ff; text-decoration-color: #0000ff; text-decoration: underline\">https://www.lovetoknow.com/celebrations/parties/dance-party-song)</span>\n",
       "The number one thing on your list should be making sure you've got the best dance party songs queued up for \n",
       "everyone to enjoy. Organizing the perfect playlist with a variety of songs that'll foster a fun and wild energy \n",
       "isn't a task to take lightly. Thankfully, there's no shortage of great songs from the past sixty years to choose \n",
       "from.\n",
       "\n",
       "|Best Party Songs That Always Get People Dancing <span style=\"color: #008080; text-decoration-color: #008080; font-weight: bold\">2025</span><span style=\"font-weight: bold\">](</span><span style=\"color: #0000ff; text-decoration-color: #0000ff; text-decoration: underline\">https://yourmusicdepot.com/party-songs/)</span>\n",
       "The Best Party Songs. When it comes to throwing an unforgettable party, the right music isn't just important - it's\n",
       "essential. The perfect party song has that magical ability to transform a quiet room into an electric atmosphere, \n",
       "getting everyone from wallflowers to dance enthusiasts up on their feet.\n",
       "\n",
       "|Best Songs To Party: DJ's Ultimate Party Songs Playlist - \n",
       "Top40Weekly.com<span style=\"font-weight: bold\">](</span><span style=\"color: #0000ff; text-decoration-color: #0000ff; text-decoration: underline\">https://top40weekly.com/best-songs-to-party/)</span>\n",
       "We've compiled the best songs to party that are sure to get everyone in the mood to dance and have a good time. \n",
       "Skip to content. Search for: <span style=\"color: #008080; text-decoration-color: #008080; font-weight: bold\">1950</span>. Top Songs from <span style=\"color: #008080; text-decoration-color: #008080; font-weight: bold\">1955</span>; Top Songs of <span style=\"color: #008080; text-decoration-color: #008080; font-weight: bold\">1956</span>; Top Songs of <span style=\"color: #008080; text-decoration-color: #008080; font-weight: bold\">1957</span>; Top Songs of <span style=\"color: #008080; text-decoration-color: #008080; font-weight: bold\">1958</span>; \n",
       "Top Songs of <span style=\"color: #008080; text-decoration-color: #008080; font-weight: bold\">1959</span>; <span style=\"color: #808000; text-decoration-color: #808000\">...</span> The Latin rhythm and Shakira's sultry vocals create an irresistible beat that gets everyone \n",
       "on <span style=\"color: #808000; text-decoration-color: #808000\">...</span>\n",
       "\n",
       "|<span style=\"color: #008080; text-decoration-color: #008080; font-weight: bold\">45</span> Songs That Get Your Event Guests on the Dance Floor Every \n",
       "Time<span style=\"font-weight: bold\">](</span><span style=\"color: #0000ff; text-decoration-color: #0000ff; text-decoration: underline\">https://hub.theeventplannerexpo.com/entertainment/35-songs-that-get-your-event-guests-on-the-dance-floor-ever</span>\n",
       "<span style=\"color: #0000ff; text-decoration-color: #0000ff; text-decoration: underline\">y-time)</span>\n",
       "Here are some insights about what your high-value DJs might do, along with some of today's most iconic tunes that \n",
       "always get the dance party rockin'. Every event crowd will, of course, have different tastes. But these <span style=\"color: #008080; text-decoration-color: #008080; font-weight: bold\">35</span> songs \n",
       "are sure to get people moving. Getting Your Event Guests on the Dance Floor\n",
       "\n",
       "|<span style=\"color: #008080; text-decoration-color: #008080; font-weight: bold\">100</span> Best Party Songs: The Ultimate Party Playlist<span style=\"font-weight: bold\">](</span><span style=\"color: #0000ff; text-decoration-color: #0000ff; text-decoration: underline\">https://audiocaptain.com/best-party-songs/)</span>\n",
       "No worries. We'll help you put together a stellar playlist of classic party songs everyone knows. We'll |…<span style=\"font-weight: bold\">]</span> Best \n",
       "Party Songs: The Ultimate Party Playlist. Here's the <span style=\"color: #008080; text-decoration-color: #008080; font-weight: bold\">100</span> best party songs of all time you can use to create your \n",
       "ultimate party playlist in <span style=\"color: #008080; text-decoration-color: #008080; font-weight: bold\">2025</span>. <span style=\"color: #808000; text-decoration-color: #808000\">...</span> Here's our list of the best dance party songs <span style=\"color: #008080; text-decoration-color: #008080; font-weight: bold\">2024</span>: Bicep-Apricots; Jessie <span style=\"color: #808000; text-decoration-color: #808000\">...</span>\n",
       "\n",
       "|<span style=\"color: #008080; text-decoration-color: #008080; font-weight: bold\">40</span> Best Party Songs | Songs To Dance To, Ranked By Our Editors - Time \n",
       "Out<span style=\"font-weight: bold\">](</span><span style=\"color: #0000ff; text-decoration-color: #0000ff; text-decoration: underline\">https://www.timeout.com/music/best-party-songs)</span>\n",
       "It's party time guys - don your dancing shoes and have your speaker at the ready. Monday <span style=\"color: #008080; text-decoration-color: #008080; font-weight: bold\">12</span> May <span style=\"color: #008080; text-decoration-color: #008080; font-weight: bold\">2025</span>. <span style=\"color: #808000; text-decoration-color: #808000\">...</span> You're in\n",
       "the right place - these are the best party songs of all time. RECOMMENDED:\n",
       "\n",
       "|The <span style=\"color: #008080; text-decoration-color: #008080; font-weight: bold\">100</span> Best Party Songs Ever Made <span style=\"font-weight: bold\">(</span>Timeout<span style=\"font-weight: bold\">)</span> - List \n",
       "Challenges<span style=\"font-weight: bold\">](</span><span style=\"color: #0000ff; text-decoration-color: #0000ff; text-decoration: underline\">https://www.listchallenges.com/the-100-best-party-songs-ever-made-timeout)</span>\n",
       "This playlist of classic party tunes is sure to get everyone moving in an explosion of joyful, fevered dancing. \n",
       "There are some pop favourites, a few karaoke classics, and some all-round happy songs. The beats are nonstop and \n",
       "the grooves are infectious. Hit play on these bangers and you're guaranteed to get in the party mood wherever you \n",
       "are.\"\n",
       "\n",
       "|What are some party songs that are guaranteed to get people on the \n",
       "<span style=\"color: #808000; text-decoration-color: #808000\">...</span><span style=\"font-weight: bold\">](</span><span style=\"color: #0000ff; text-decoration-color: #0000ff; text-decoration: underline\">https://www.reddit.com/r/Beatmatch/comments/qcnzca/what_are_some_party_songs_that_are_guaranteed_to/)</span>\n",
       "Looking for some tracks that you can throw down where no matter what people are doing, they stop doing it and \n",
       "immediately go to teh dance floor. Better known as the <span style=\"color: #008000; text-decoration-color: #008000\">\"Ohhhh shiiiiiiit!\"</span> Edit: Thanks to everyone for the great \n",
       "suggestions! It was really neat to listen to all of this as a good chunk of them I've not heard.\n",
       "\n",
       "|<span style=\"color: #008080; text-decoration-color: #008080; font-weight: bold\">35</span> Best Party Songs to Help You Get Down &amp; Boogie - MidderMusic<span style=\"font-weight: bold\">](</span><span style=\"color: #0000ff; text-decoration-color: #0000ff; text-decoration: underline\">https://middermusic.com/best-party-songs/)</span>\n",
       "Here's our picks of the best party songs of all time to help you get the crowd moving. MIDDER. the future of music.\n",
       "News; AI music news; Learn. <span style=\"color: #808000; text-decoration-color: #808000\">...</span> the song got everyone dancing during that summer - people around the world were \n",
       "filming the video of Pharrell's infectious dance routine. <span style=\"color: #808000; text-decoration-color: #808000\">...</span> <span style=\"color: #008080; text-decoration-color: #008080; font-weight: bold\">75</span> Best Rock Bands of the '70s. Next Story <span style=\"color: #008080; text-decoration-color: #008080; font-weight: bold\">20</span> Best \n",
       "<span style=\"color: #808000; text-decoration-color: #808000\">...</span>\n",
       "</pre>\n"
      ],
      "text/plain": [
       "Observations: ## Search Results\n",
       "\n",
       "|The \u001b[1;36m75\u001b[0m Best Party Songs That Will Get Everyone Dancing - \n",
       "Gear4music\u001b[1m]\u001b[0m\u001b[1m(\u001b[0m\u001b[4;94mhttps://www.gear4music.com/blog/best-party-songs/\u001b[0m\u001b[4;94m)\u001b[0m\n",
       "The \u001b[1;36m75\u001b[0m Best Party Songs That Will Get Everyone Dancing. by Drew \u001b[35m/\u001b[0m \u001b[1;36m09\u001b[0m/\u001b[1;36m05\u001b[0m/\u001b[1;36m2024\u001b[0m. Guides, Live Sound & DJ. Table of \n",
       "Contents. \u001b[33m...\u001b[0m If you're throwing a party, there are countless songs that will get everyone up and dancing; even \n",
       "once you've chosen your mix, you'll probably still think of more later!\n",
       "\n",
       "|\u001b[1;36m50\u001b[0m Dance Party Songs to Get People on Their Feet - \n",
       "LoveToKnow\u001b[1m]\u001b[0m\u001b[1m(\u001b[0m\u001b[4;94mhttps://www.lovetoknow.com/celebrations/parties/dance-party-song\u001b[0m\u001b[4;94m)\u001b[0m\n",
       "The number one thing on your list should be making sure you've got the best dance party songs queued up for \n",
       "everyone to enjoy. Organizing the perfect playlist with a variety of songs that'll foster a fun and wild energy \n",
       "isn't a task to take lightly. Thankfully, there's no shortage of great songs from the past sixty years to choose \n",
       "from.\n",
       "\n",
       "|Best Party Songs That Always Get People Dancing \u001b[1;36m2025\u001b[0m\u001b[1m]\u001b[0m\u001b[1m(\u001b[0m\u001b[4;94mhttps://yourmusicdepot.com/party-songs/\u001b[0m\u001b[4;94m)\u001b[0m\n",
       "The Best Party Songs. When it comes to throwing an unforgettable party, the right music isn't just important - it's\n",
       "essential. The perfect party song has that magical ability to transform a quiet room into an electric atmosphere, \n",
       "getting everyone from wallflowers to dance enthusiasts up on their feet.\n",
       "\n",
       "|Best Songs To Party: DJ's Ultimate Party Songs Playlist - \n",
       "Top40Weekly.com\u001b[1m]\u001b[0m\u001b[1m(\u001b[0m\u001b[4;94mhttps://top40weekly.com/best-songs-to-party/\u001b[0m\u001b[4;94m)\u001b[0m\n",
       "We've compiled the best songs to party that are sure to get everyone in the mood to dance and have a good time. \n",
       "Skip to content. Search for: \u001b[1;36m1950\u001b[0m. Top Songs from \u001b[1;36m1955\u001b[0m; Top Songs of \u001b[1;36m1956\u001b[0m; Top Songs of \u001b[1;36m1957\u001b[0m; Top Songs of \u001b[1;36m1958\u001b[0m; \n",
       "Top Songs of \u001b[1;36m1959\u001b[0m; \u001b[33m...\u001b[0m The Latin rhythm and Shakira's sultry vocals create an irresistible beat that gets everyone \n",
       "on \u001b[33m...\u001b[0m\n",
       "\n",
       "|\u001b[1;36m45\u001b[0m Songs That Get Your Event Guests on the Dance Floor Every \n",
       "Time\u001b[1m]\u001b[0m\u001b[1m(\u001b[0m\u001b[4;94mhttps://hub.theeventplannerexpo.com/entertainment/35-songs-that-get-your-event-guests-on-the-dance-floor-ever\u001b[0m\n",
       "\u001b[4;94my-time\u001b[0m\u001b[4;94m)\u001b[0m\n",
       "Here are some insights about what your high-value DJs might do, along with some of today's most iconic tunes that \n",
       "always get the dance party rockin'. Every event crowd will, of course, have different tastes. But these \u001b[1;36m35\u001b[0m songs \n",
       "are sure to get people moving. Getting Your Event Guests on the Dance Floor\n",
       "\n",
       "|\u001b[1;36m100\u001b[0m Best Party Songs: The Ultimate Party Playlist\u001b[1m]\u001b[0m\u001b[1m(\u001b[0m\u001b[4;94mhttps://audiocaptain.com/best-party-songs/\u001b[0m\u001b[4;94m)\u001b[0m\n",
       "No worries. We'll help you put together a stellar playlist of classic party songs everyone knows. We'll |…\u001b[1m]\u001b[0m Best \n",
       "Party Songs: The Ultimate Party Playlist. Here's the \u001b[1;36m100\u001b[0m best party songs of all time you can use to create your \n",
       "ultimate party playlist in \u001b[1;36m2025\u001b[0m. \u001b[33m...\u001b[0m Here's our list of the best dance party songs \u001b[1;36m2024\u001b[0m: Bicep-Apricots; Jessie \u001b[33m...\u001b[0m\n",
       "\n",
       "|\u001b[1;36m40\u001b[0m Best Party Songs | Songs To Dance To, Ranked By Our Editors - Time \n",
       "Out\u001b[1m]\u001b[0m\u001b[1m(\u001b[0m\u001b[4;94mhttps://www.timeout.com/music/best-party-songs\u001b[0m\u001b[4;94m)\u001b[0m\n",
       "It's party time guys - don your dancing shoes and have your speaker at the ready. Monday \u001b[1;36m12\u001b[0m May \u001b[1;36m2025\u001b[0m. \u001b[33m...\u001b[0m You're in\n",
       "the right place - these are the best party songs of all time. RECOMMENDED:\n",
       "\n",
       "|The \u001b[1;36m100\u001b[0m Best Party Songs Ever Made \u001b[1m(\u001b[0mTimeout\u001b[1m)\u001b[0m - List \n",
       "Challenges\u001b[1m]\u001b[0m\u001b[1m(\u001b[0m\u001b[4;94mhttps://www.listchallenges.com/the-100-best-party-songs-ever-made-timeout\u001b[0m\u001b[4;94m)\u001b[0m\n",
       "This playlist of classic party tunes is sure to get everyone moving in an explosion of joyful, fevered dancing. \n",
       "There are some pop favourites, a few karaoke classics, and some all-round happy songs. The beats are nonstop and \n",
       "the grooves are infectious. Hit play on these bangers and you're guaranteed to get in the party mood wherever you \n",
       "are.\"\n",
       "\n",
       "|What are some party songs that are guaranteed to get people on the \n",
       "\u001b[33m...\u001b[0m\u001b[1m]\u001b[0m\u001b[1m(\u001b[0m\u001b[4;94mhttps://www.reddit.com/r/Beatmatch/comments/qcnzca/what_are_some_party_songs_that_are_guaranteed_to/\u001b[0m\u001b[4;94m)\u001b[0m\n",
       "Looking for some tracks that you can throw down where no matter what people are doing, they stop doing it and \n",
       "immediately go to teh dance floor. Better known as the \u001b[32m\"Ohhhh shiiiiiiit!\"\u001b[0m Edit: Thanks to everyone for the great \n",
       "suggestions! It was really neat to listen to all of this as a good chunk of them I've not heard.\n",
       "\n",
       "|\u001b[1;36m35\u001b[0m Best Party Songs to Help You Get Down & Boogie - MidderMusic\u001b[1m]\u001b[0m\u001b[1m(\u001b[0m\u001b[4;94mhttps://middermusic.com/best-party-songs/\u001b[0m\u001b[4;94m)\u001b[0m\n",
       "Here's our picks of the best party songs of all time to help you get the crowd moving. MIDDER. the future of music.\n",
       "News; AI music news; Learn. \u001b[33m...\u001b[0m the song got everyone dancing during that summer - people around the world were \n",
       "filming the video of Pharrell's infectious dance routine. \u001b[33m...\u001b[0m \u001b[1;36m75\u001b[0m Best Rock Bands of the '70s. Next Story \u001b[1;36m20\u001b[0m Best \n",
       "\u001b[33m...\u001b[0m\n"
      ]
     },
     "metadata": {},
     "output_type": "display_data"
    },
    {
     "data": {
      "text/html": [
       "<pre style=\"white-space:pre;overflow-x:auto;line-height:normal;font-family:Menlo,'DejaVu Sans Mono',consolas,'Courier New',monospace\"><span style=\"color: #7f7f7f; text-decoration-color: #7f7f7f\">[Step 2: Duration 3.79 seconds| Input tokens: 2,983 | Output tokens: 80]</span>\n",
       "</pre>\n"
      ],
      "text/plain": [
       "\u001b[2m[Step 2: Duration 3.79 seconds| Input tokens: 2,983 | Output tokens: 80]\u001b[0m\n"
      ]
     },
     "metadata": {},
     "output_type": "display_data"
    },
    {
     "data": {
      "text/html": [
       "<pre style=\"white-space:pre;overflow-x:auto;line-height:normal;font-family:Menlo,'DejaVu Sans Mono',consolas,'Courier New',monospace\"><span style=\"color: #d4b702; text-decoration-color: #d4b702\">━━━━━━━━━━━━━━━━━━━━━━━━━━━━━━━━━━━━━━━━━━━━━━━━━━━━━ </span><span style=\"font-weight: bold\">Step </span><span style=\"color: #008080; text-decoration-color: #008080; font-weight: bold\">3</span><span style=\"color: #d4b702; text-decoration-color: #d4b702\"> ━━━━━━━━━━━━━━━━━━━━━━━━━━━━━━━━━━━━━━━━━━━━━━━━━━━━━━</span>\n",
       "</pre>\n"
      ],
      "text/plain": [
       "\u001b[38;2;212;183;2m━━━━━━━━━━━━━━━━━━━━━━━━━━━━━━━━━━━━━━━━━━━━━━━━━━━━━ \u001b[0m\u001b[1mStep \u001b[0m\u001b[1;36m3\u001b[0m\u001b[38;2;212;183;2m ━━━━━━━━━━━━━━━━━━━━━━━━━━━━━━━━━━━━━━━━━━━━━━━━━━━━━━\u001b[0m\n"
      ]
     },
     "metadata": {},
     "output_type": "display_data"
    },
    {
     "data": {
      "text/html": [
       "<pre style=\"white-space:pre;overflow-x:auto;line-height:normal;font-family:Menlo,'DejaVu Sans Mono',consolas,'Courier New',monospace\">╭─────────────────────────────────────────────────────────────────────────────────────────────────────────────────╮\n",
       "│ Calling tool: 'final_answer' with arguments: {'answer': 'For a party at Wayne\\'s mansion, here are some great   │\n",
       "│ music recommendations:\\n\\n1. \"September\" by Earth, Wind &amp; Fire\\n2. \"Uptown Funk\" by Mark Ronson ft. Bruno       │\n",
       "│ Mars\\n3. \"Shut Up and Dance\" by Walk the Moon\\n4. \"Levitating\" by Dua Lipa\\n5. \"Dance Monkey\" by Tones and      │\n",
       "│ I\\n6. \"Stayin\\' Alive\" by Bee Gees\\n7. \"I Gotta Feeling\" by The Black Eyed Peas\\n8. \"Blinding Lights\" by The    │\n",
       "│ Weeknd\\n9. \"Can\\'t Stop the Feeling!\" by Justin Timberlake\\n10. \"Despacito\" by Luis Fonsi ft. Daddy             │\n",
       "│ Yankee\\n\\nThese songs are known to create an electric atmosphere and keep guests dancing.'}                     │\n",
       "╰─────────────────────────────────────────────────────────────────────────────────────────────────────────────────╯\n",
       "</pre>\n"
      ],
      "text/plain": [
       "╭─────────────────────────────────────────────────────────────────────────────────────────────────────────────────╮\n",
       "│ Calling tool: 'final_answer' with arguments: {'answer': 'For a party at Wayne\\'s mansion, here are some great   │\n",
       "│ music recommendations:\\n\\n1. \"September\" by Earth, Wind & Fire\\n2. \"Uptown Funk\" by Mark Ronson ft. Bruno       │\n",
       "│ Mars\\n3. \"Shut Up and Dance\" by Walk the Moon\\n4. \"Levitating\" by Dua Lipa\\n5. \"Dance Monkey\" by Tones and      │\n",
       "│ I\\n6. \"Stayin\\' Alive\" by Bee Gees\\n7. \"I Gotta Feeling\" by The Black Eyed Peas\\n8. \"Blinding Lights\" by The    │\n",
       "│ Weeknd\\n9. \"Can\\'t Stop the Feeling!\" by Justin Timberlake\\n10. \"Despacito\" by Luis Fonsi ft. Daddy             │\n",
       "│ Yankee\\n\\nThese songs are known to create an electric atmosphere and keep guests dancing.'}                     │\n",
       "╰─────────────────────────────────────────────────────────────────────────────────────────────────────────────────╯\n"
      ]
     },
     "metadata": {},
     "output_type": "display_data"
    },
    {
     "data": {
      "text/html": [
       "<pre style=\"white-space:pre;overflow-x:auto;line-height:normal;font-family:Menlo,'DejaVu Sans Mono',consolas,'Courier New',monospace\"><span style=\"color: #d4b702; text-decoration-color: #d4b702; font-weight: bold\">Final answer: For a party at Wayne's mansion, here are some great music recommendations:</span>\n",
       "\n",
       "<span style=\"color: #d4b702; text-decoration-color: #d4b702; font-weight: bold\">1. \"September\" by Earth, Wind &amp; Fire</span>\n",
       "<span style=\"color: #d4b702; text-decoration-color: #d4b702; font-weight: bold\">2. \"Uptown Funk\" by Mark Ronson ft. Bruno Mars</span>\n",
       "<span style=\"color: #d4b702; text-decoration-color: #d4b702; font-weight: bold\">3. \"Shut Up and Dance\" by Walk the Moon</span>\n",
       "<span style=\"color: #d4b702; text-decoration-color: #d4b702; font-weight: bold\">4. \"Levitating\" by Dua Lipa</span>\n",
       "<span style=\"color: #d4b702; text-decoration-color: #d4b702; font-weight: bold\">5. \"Dance Monkey\" by Tones and I</span>\n",
       "<span style=\"color: #d4b702; text-decoration-color: #d4b702; font-weight: bold\">6. \"Stayin' Alive\" by Bee Gees</span>\n",
       "<span style=\"color: #d4b702; text-decoration-color: #d4b702; font-weight: bold\">7. \"I Gotta Feeling\" by The Black Eyed Peas</span>\n",
       "<span style=\"color: #d4b702; text-decoration-color: #d4b702; font-weight: bold\">8. \"Blinding Lights\" by The Weeknd</span>\n",
       "<span style=\"color: #d4b702; text-decoration-color: #d4b702; font-weight: bold\">9. \"Can't Stop the Feeling!\" by Justin Timberlake</span>\n",
       "<span style=\"color: #d4b702; text-decoration-color: #d4b702; font-weight: bold\">10. \"Despacito\" by Luis Fonsi ft. Daddy Yankee</span>\n",
       "\n",
       "<span style=\"color: #d4b702; text-decoration-color: #d4b702; font-weight: bold\">These songs are known to create an electric atmosphere and keep guests dancing.</span>\n",
       "</pre>\n"
      ],
      "text/plain": [
       "\u001b[1;38;2;212;183;2mFinal answer: For a party at Wayne's mansion, here are some great music recommendations:\u001b[0m\n",
       "\n",
       "\u001b[1;38;2;212;183;2m1. \"September\" by Earth, Wind & Fire\u001b[0m\n",
       "\u001b[1;38;2;212;183;2m2. \"Uptown Funk\" by Mark Ronson ft. Bruno Mars\u001b[0m\n",
       "\u001b[1;38;2;212;183;2m3. \"Shut Up and Dance\" by Walk the Moon\u001b[0m\n",
       "\u001b[1;38;2;212;183;2m4. \"Levitating\" by Dua Lipa\u001b[0m\n",
       "\u001b[1;38;2;212;183;2m5. \"Dance Monkey\" by Tones and I\u001b[0m\n",
       "\u001b[1;38;2;212;183;2m6. \"Stayin' Alive\" by Bee Gees\u001b[0m\n",
       "\u001b[1;38;2;212;183;2m7. \"I Gotta Feeling\" by The Black Eyed Peas\u001b[0m\n",
       "\u001b[1;38;2;212;183;2m8. \"Blinding Lights\" by The Weeknd\u001b[0m\n",
       "\u001b[1;38;2;212;183;2m9. \"Can't Stop the Feeling!\" by Justin Timberlake\u001b[0m\n",
       "\u001b[1;38;2;212;183;2m10. \"Despacito\" by Luis Fonsi ft. Daddy Yankee\u001b[0m\n",
       "\n",
       "\u001b[1;38;2;212;183;2mThese songs are known to create an electric atmosphere and keep guests dancing.\u001b[0m\n"
      ]
     },
     "metadata": {},
     "output_type": "display_data"
    },
    {
     "data": {
      "text/html": [
       "<pre style=\"white-space:pre;overflow-x:auto;line-height:normal;font-family:Menlo,'DejaVu Sans Mono',consolas,'Courier New',monospace\"><span style=\"color: #7f7f7f; text-decoration-color: #7f7f7f\">[Step 3: Duration 3.47 seconds| Input tokens: 6,128 | Output tokens: 264]</span>\n",
       "</pre>\n"
      ],
      "text/plain": [
       "\u001b[2m[Step 3: Duration 3.47 seconds| Input tokens: 6,128 | Output tokens: 264]\u001b[0m\n"
      ]
     },
     "metadata": {},
     "output_type": "display_data"
    },
    {
     "data": {
      "text/plain": [
       "'For a party at Wayne\\'s mansion, here are some great music recommendations:\\n\\n1. \"September\" by Earth, Wind & Fire\\n2. \"Uptown Funk\" by Mark Ronson ft. Bruno Mars\\n3. \"Shut Up and Dance\" by Walk the Moon\\n4. \"Levitating\" by Dua Lipa\\n5. \"Dance Monkey\" by Tones and I\\n6. \"Stayin\\' Alive\" by Bee Gees\\n7. \"I Gotta Feeling\" by The Black Eyed Peas\\n8. \"Blinding Lights\" by The Weeknd\\n9. \"Can\\'t Stop the Feeling!\" by Justin Timberlake\\n10. \"Despacito\" by Luis Fonsi ft. Daddy Yankee\\n\\nThese songs are known to create an electric atmosphere and keep guests dancing.'"
      ]
     },
     "execution_count": 6,
     "metadata": {},
     "output_type": "execute_result"
    }
   ],
   "source": [
    "from smolagents import ToolCallingAgent, DuckDuckGoSearchTool, LiteLLMModel\n",
    "import os\n",
    "from dotenv import load_dotenv\n",
    "\n",
    "# Carica il file .env\n",
    "load_dotenv()\n",
    "\n",
    "\n",
    "agent = ToolCallingAgent(tools=[DuckDuckGoSearchTool()], model=LiteLLMModel(\n",
    "        model_id=\"gpt-4o-mini\",  # ⭐ Modello OpenAI\n",
    "        api_key=os.getenv(\"OPENAI_API_KEY\")\n",
    "    ))\n",
    "\n",
    "agent.run(\"Search for the best music recommendations for a party at the Wayne's mansion.\")"
   ]
  },
  {
   "cell_type": "markdown",
   "metadata": {
    "id": "Cl19VWGRYXrr"
   },
   "source": [
    "\n",
    "When you examine the agent's trace, instead of seeing `Executing parsed code:`, you'll see something like:\n",
    "\n",
    "```text\n",
    "╭─────────────────────────────────────────────────────────────────────────────────────────────────────────────────╮\n",
    "│ Calling tool: 'web_search' with arguments: {'query': \"best music recommendations for a party at Wayne's         │\n",
    "│ mansion\"}                                                                                                       │\n",
    "╰─────────────────────────────────────────────────────────────────────────────────────────────────────────────────╯\n",
    "```  \n",
    "\n",
    "The agent generates a structured tool call that the system processes to produce the output, rather than directly executing code like a `CodeAgent`.\n",
    "\n",
    "Now that we understand both agent types, we can choose the right one for our needs. Let's continue exploring `smolagents` to make Alfred's party a success! 🎉"
   ]
  }
 ],
 "metadata": {
  "colab": {
   "provenance": []
  },
  "kernelspec": {
   "display_name": "Python 3 (ipykernel)",
   "language": "python",
   "name": "python3"
  },
  "language_info": {
   "codemirror_mode": {
    "name": "ipython",
    "version": 3
   },
   "file_extension": ".py",
   "mimetype": "text/x-python",
   "name": "python",
   "nbconvert_exporter": "python",
   "pygments_lexer": "ipython3",
   "version": "3.10.17"
  }
 },
 "nbformat": 4,
 "nbformat_minor": 4
}
