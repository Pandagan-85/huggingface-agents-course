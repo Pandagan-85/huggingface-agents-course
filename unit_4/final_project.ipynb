{
 "cells": [
  {
   "cell_type": "markdown",
   "id": "8682de2c-128a-4ba8-8c18-6d2e3c4a6c49",
   "metadata": {},
   "source": [
    "## What’s the challenge?\n",
    "You’ll create your own agent and evaluate its performance using a subset of the [GAIA benchmark](https://huggingface.co/spaces/gaia-benchmark/leaderboard).\n",
    "\n",
    "To successfully complete the course, your agent needs to score 30% or higher on the benchmark. Achieve that, and you’ll earn your Certificate of Completion, officially recognizing your expertise. 🏅\n",
    "\n",
    "Additionally, see how you stack up against your peers! A dedicated [Student Leaderboard](https://huggingface.co/spaces/agents-course/Students_leaderboard) is available for you to submit your scores and see the community’s progress."
   ]
  },
  {
   "cell_type": "markdown",
   "id": "db29783c-551a-473e-bdf9-c02dfb6f7da9",
   "metadata": {},
   "source": [
    "### What is GAIA?\n",
    "\n",
    "GAIA is a benchmark designed to evaluate AI assistants on real-world tasks that require a combination of core capabilities—such as reasoning, multimodal understanding, web browsing, and proficient tool use.\n",
    "\n",
    "It was introduced in the paper ”[GAIA: A Benchmark for General AI Assistants](https://huggingface.co/papers/2311.12983)”.\n",
    "\n",
    "The benchmark features 466 carefully curated questions that are conceptually simple for humans, yet remarkably challenging for current AI systems.\n",
    "\n",
    "To illustrate the gap:\n",
    "\n",
    "- Humans: ~92% success rate\n",
    "- GPT-4 with plugins: ~15%\n",
    "- Deep Research (OpenAI): 67.36% on the validation set\n",
    "\n",
    "GAIA highlights the current limitations of AI models and provides a rigorous benchmark to evaluate progress toward truly general-purpose AI assistants.\n",
    "### 🌱 GAIA’s Core Principles\n",
    "GAIA is carefully designed around the following pillars:\n",
    "\n",
    "- 🔍 Real-world difficulty: Tasks require multi-step reasoning, multimodal understanding, and tool interaction.\n",
    "- 🧾 Human interpretability: Despite their difficulty for AI, tasks remain conceptually simple and easy to follow for humans.\n",
    "- 🛡️ Non-gameability: Correct answers demand full task execution, making brute-forcing ineffective.\n",
    "- 🧰 Simplicity of evaluation: Answers are concise, factual, and unambiguous—ideal for benchmarking.\n",
    " \n",
    "### Difficulty Levels\n",
    "GAIA tasks are organized into three levels of increasing complexity, each testing specific skills:\n",
    "\n",
    "- Level 1: Requires less than 5 steps and minimal tool usage.\n",
    "- Level 2: Involves more complex reasoning and coordination between multiple tools and 5-10 steps.\n",
    "- Level 3: Demands long-term planning and advanced integration of various tools.\n",
    "![](../../image/gaia_levels.png)"
   ]
  },
  {
   "cell_type": "markdown",
   "id": "d14ecbc4-5734-4175-8c91-eaeb9482f8e7",
   "metadata": {},
   "source": [
    "### Example of a Hard GAIA Question\n",
    "\n",
    "> Which of the fruits shown in the 2008 painting “Embroidery from Uzbekistan” were served as part of the October 1949 breakfast menu for the ocean liner that was later used as a floating prop for the film “The Last Voyage”? Give the items as a comma-separated list, ordering them in clockwise order based on their arrangement in the painting starting from the 12 o’clock position. Use the plural form of each fruit.\n",
    "\n",
    "\n",
    "As you can see, this question challenges AI systems in several ways:\n",
    "\n",
    "- Requires a structured response format\n",
    "- Involves multimodal reasoning (e.g., analyzing images)\n",
    "- Demands multi-hop retrieval of interdependent facts:\n",
    "    -Identifying the fruits in the painting\n",
    "    -Discovering which ocean liner was used in The Last Voyage\n",
    "    -Looking up the breakfast menu from October 1949 for that ship\n",
    "- Needs correct sequencing and high-level planning to solve in the right order\n",
    "\n",
    "This kind of task highlights where standalone LLMs often fall short, making GAIA an ideal benchmark for agent-based systems that can reason, retrieve, and execute over multiple steps and modalities.- \n",
    "\n",
    "![](../../image/gaia_capabilities.png)\n",
    "\n",
    "\n",
    "## Live Evaluation\n",
    "To encourage continuous benchmarking, GAIA provides a public leaderboard hosted on Hugging Face, where you can test your models against 300 testing questions.\n",
    "\n",
    "👉 Check out the leaderboard [here](https://huggingface.co/spaces/gaia-benchmark/leaderboard)\n",
    "\n",
    "\n",
    "\n",
    "Want to dive deeper into GAIA?\n",
    "\n",
    "📄 [Read the full paper](https://huggingface.co/papers/2311.12983)\n",
    "📄 [Deep Research release post by OpenAI](https://openai.com/index/introducing-deep-research/)\n",
    "📄 [Open-source DeepResearch – Freeing our search agents](https://huggingface.co/blog/open-deep-research)"
   ]
  },
  {
   "cell_type": "markdown",
   "id": "3c101bad-18a3-4347-a8c5-4dc296a425bb",
   "metadata": {},
   "source": [
    "## HANDS-ON\n",
    "\n",
    "Now that you’re ready to dive deeper into the creation of your final agent, let’s see how you can submit it for review.\n",
    "\n",
    "###  The Dataset\n",
    "The Dataset used in this leaderboard consist of 20 questions extracted from the level 1 questions of the validation set from GAIA.\n",
    "\n",
    "The chosen question were filtered based on the number of tools and steps needed to answer a question.\n",
    "\n",
    "Based on the current look of the GAIA benchmark, we think that getting you to try to aim for 30% on level 1 question is a fair test.\n",
    "    "
   ]
  },
  {
   "cell_type": "markdown",
   "id": "62f7a2fc-d8fb-4364-b10d-45f13fc40cd2",
   "metadata": {},
   "source": [
    "## The process\n",
    "Now the big question in your mind is probably : “How do I start submitting ?”\n",
    "\n",
    "For this Unit, we created an API that will allow you to get the questions, and send your answers for scoring. Here is a summary of the routes (see the live documentation for interactive details):\n",
    "\n",
    "- GET /questions: Retrieve the full list of filtered evaluation questions.\n",
    "- GET /random-question: Fetch a single random question from the list.\n",
    "- GET /files/{task_id}: Download a specific file associated with a given task ID.\n",
    "- POST /submit: Submit agent answers, calculate the score, and update the leaderboard.\n",
    "\n",
    "The submit function will compare the answer to the ground truth in an EXACT MATCH manner, hence prompt it well ! The GAIA team shared a prompting example for your agent [here](https://huggingface.co/spaces/gaia-benchmark/leaderboard) (for the sake of this course, make sure you don’t include the text “FINAL ANSWER” in your submission, just make your agent reply with the answer and nothing else).\n",
    "\n",
    "## 🎨 Make the Template Your Own!\n",
    "\n",
    "To demonstrate the process of interacting with the API, we’ve included a [basic template](https://huggingface.co/spaces/agents-course/Final_Assignment_Template) as a starting point.\n",
    "\n",
    "Please feel free—and actively encouraged—to change, add to, or completely restructure it! Modify it in any way that best suits your approach and creativity.\n",
    "\n",
    "In order to submit this templates compute 3 things needed by the API :\n",
    "\n",
    "- Username: Your Hugging Face username (here obtained via Gradio login), which is used to identify your submission.\n",
    "- Code Link (agent_code): the URL linking to your Hugging Face Space code (.../tree/main) for verification purposes, so please keep your space public.\n",
    "- Answers (answers): The list of responses ({\"task_id\": ..., \"submitted_answer\": ...}) generated by your Agent for scoring.\n",
    "\n",
    "Hence we encourage you to start by duplicating this [template](https://huggingface.co/spaces/agents-course/Final_Assignment_Template) on your own huggingface profile.\n",
    "\n",
    "## 🏆 Check out the leaderboard [here](https://huggingface.co/spaces/agents-course/Students_leaderboard)\n",
    "\n",
    "A friendly note: This leaderboard is meant for fun! We know it’s possible to submit scores without full verification. If we see too many high scores posted without a public link to back them up, we might need to review, adjust, or remove some entries to keep the leaderboard useful. The leaderboard will show the link to your space code-base, since this leaderboard is for students only, please keep your space public if you get a score you’re proud of.\n",
    "\n",
    "\n"
   ]
  },
  {
   "cell_type": "markdown",
   "id": "21d4b23b-c2b7-4ddb-9f70-d5c4cfe08e14",
   "metadata": {},
   "source": [
    "## Risultati al momento scarsi\n",
    "\n",
    "Mio progetto e valutazione qui\n",
    "https://huggingface.co/spaces/pandagan/Final_Assignment_Template\n",
    "\n",
    "Da migliorare la lettura dei file come excel per salire lo score almeno dal 35% al 50%, forse anche qualcosa per i video? al momento salto le domande conteneti video.\n",
    "\n",
    "Per testare le domande qui https://agents-course-unit4-scoring.hf.space/docs\n",
    "\n",
    "Queste sono le 20 domande sui cui è stato valutato il mio modello\n",
    "\n",
    "| Task ID                                 | Question                                                                                                                                                                                                                                                                                                                                                                                                                                                                                                                                                                                                                                                                                                                                                                                                                                   | Submitted Answer                                                                                                                                                                                                                                             |\n",
    "|----------------------------------------|-------------------------------------------------------------------------------------------------------------------------------------------------------------------------------------------------------------------------------------------------------------------------------------------------------------------------------------------------------------------------------------------------------------------------------------------------------------------------------------------------------------------------------------------------------------------------------------------------------------------------------------------------------------------------------------------------------------------------------------------------------------------------------------------------------------------------------------------|-------------------------------------------------------------------------------------------------------------------------------------------------------------------------------------------------------------------------------------------------------------|\n",
    "| f918266a-b3e0-4914-865d-4faa564f1aef   | What is the final numeric output from the attached Python code?                                                                                                                                                                                                                                                                                                                                                                                                                                                                                                                                                                                                                                                                                                                                                                            | 3.0                                                                                                                                                                                                                                                          |\n",
    "| cf106601-ab4f-4af9-b045-5295fe67b37d   | What country had the least number of athletes at the 1928 Summer Olympics? If there's a tie for a number of athletes, return the first in alphabetical order. Give the IOC country code as your answer.                                                                                                                                                                                                                                                                                                                                                                                                                                                                                                                                                                                             | Malta (MTA)                                                                                                                                                                                                                                                  |\n",
    "| cca530fc-4052-43b2-b130-b30968d8aa44   | Review the chess position provided in the image. It is black's turn. Provide the correct next move for black which guarantees a win. Please provide your response in algebraic notation.                                                                                                                                                                                                                                                                                                                                                                                                                                                                                                                                                                                                          | as we do not have enough information about the position.                                                                                                                                                                                                     |\n",
    "| cabe07ed-9eca-40ea-8ead-410ef5e83f91   | What is the surname of the equine veterinarian mentioned in 1.E Exercises from the chemistry materials licensed by Marisa Alviar-Agnew & Henry Agnew under the CK-12 license in LibreText's Introductory Chemistry materials as compiled 08/21/2023?                                                                                                                                                                                                                                                                                                                                                                                                                                                                                                           | Louvrier                                                                                                                                                                                                                                                     |\n",
    "| bda648d7-d618-4883-88f4-3466eabd860e   | Where were the Vietnamese specimens described by Kuznetzov in Nedoshivina's 2010 paper eventually deposited? Just give me the city name without abbreviations.                                                                                                                                                                                                                                                                                                                                                                                                                                                                                                                                                                                             | St. Petersburg                                                                                                                                                                                                                                               |\n",
    "| a1e91b78-d3d8-4675-bb8d-62741b4b68a6   | In the video https://www.youtube.com/watch?v=L1vXCYZAYYM, what is the highest number of bird species to be on camera simultaneously?                                                                                                                                                                                                                                                                                                                                                                                                                                                                                                                                                                                                                        | SKIP: Cannot analyze YouTube video content                                                                                                                                                                                                                    |\n",
    "| a0c07678-e491-4bbc-8f0b-07405144218f   | Who are the pitchers with the number before and after Taishō Tamai's number as of July 2023? Give them to me in the form Pitcher Before, Pitcher After, use their last names only, in Roman characters.                                                                                                                                                                                                                                                                                                                                                                                                                                                                                                                                                                                             | Yamasaki, Uehara                                                                                                                                                                                                                                             |\n",
    "| 9d191bce-651d-4746-be2d-7ef8ecadb9c2   | Examine the video at https://www.youtube.com/watch?v=1htKBjuUWec. What does Teal'c say in response to the question \"Isn't that hot?\"                                                                                                                                                                                                                                                                                                                                                                                                                                                                                                                                                                                                                        | SKIP: Cannot analyze YouTube video content                                                                                                                                                                                                                    |\n",
    "| 99c9cc74-fdc8-46c6-8f8d-3ce2d3bfeea3   | Hi, I'm making a pie but I could use some help with my shopping list. I have everything I need for the crust, but I'm not sure about the filling. I got the recipe from my friend Aditi, but she left it as a voice memo and the speaker on my phone is buzzing so I can't quite make out what she's saying. Could you please listen to the recipe and list all of the ingredients that my friend described? I only want the ingredients for the filling, as I have everything I need to make my favorite pie crust. I've attached the recipe as Strawberry pie.mp3.                                                                                                                                                     | butter, cornstarch, lemon juice, salt, strawberries, sugar, vanilla extract, water                                                                                                                                                                             |\n",
    "| 8e867cd7-cff9-4e6c-867a-ff5ddc2550be   | How many studio albums were published by Mercedes Sosa between 2000 and 2009 (included)? You can use the latest 2022 version of english wikipedia.                                                                                                                                                                                                                                                                                                                                                                                                                                                                                                                                                                                                          | 4                                                                                                                                                                                                                                                             |\n",
    "| 840bfca7-4f7b-481a-8794-c560c340185d   | On June 6, 2023, an article by Carolyn Collins Petersen was published in Universe Today. This article mentions a team that produced a paper about their observations, linked at the bottom of the article. Find this paper. Under what NASA award number was the work performed by R. G. Arendt supported by?                                                                                                                                                                                                                                                                                                                                                                                                                                                   | 80GSFC21M0002                                                                                                                                                                                                                                                |\n",
    "| 7bd855d8-463d-4ed5-93ca-5fe35145f733   | The attached Excel file contains the sales of menu items for a local fast-food chain. What were the total sales that the chain made from food (not including drinks)? Express your answer in USD with two decimal places.                                                                                                                                                                                                                                                                                                                                                                                                                                                                                                                                    | Unable to calculate total sales from food items without actual data.                                                                                                                                                                                          |\n",
    "| 6f37996b-2ac7-44b0-8e68-6d28256631b4   | Given this table defining * on the set S = {a, b, c, d, e} <br><br> \\|*\\|a\\|b\\|c\\|d\\|e\\| <br> \\|---\\|---\\|---\\|---\\|---\\|---\\| <br> \\|a\\|a\\|b\\|c\\|b\\|d\\| <br> \\|b\\|b\\|c\\|a\\|e\\|c\\| <br> \\|c\\|c\\|a\\|b\\|b\\|a\\| <br> \\|d\\|b\\|e\\|b\\|e\\|d\\| <br> \\|e\\|d\\|b\\|a\\|d\\|c\\| <br><br> provide the subset of S involved in any possible counter-examples that prove * is not commutative. Provide your answer as a comma separated list of the elements in the set in alphabetical order. | b, e                                                                                                                                                                                                                                                           |\n",
    "| 5a0c1adf-205e-4841-a666-7c3ef95def9d   | What is the first name of the only Malko Competition recipient from the 20th Century (after 1977) whose nationality on record is a country that no longer exists?                                                                                                                                                                                                                                                                                                                                                                                                                                                                                                                                                                                           | Claus                                                                                                                                                                                                                                                          |\n",
    "| 4fc2f1ae-8625-45b5-ab34-ad4433bc21f8   | Who nominated the only Featured Article on English Wikipedia about a dinosaur that was promoted in November 2016?                                                                                                                                                                                                                                                                                                                                                                                                                                                                                                                                                                                                                                           | FunkMonk                                                                                                                                                                                                                                                       |\n",
    "| 3f57289b-8c60-48be-bd80-01f8099ca449   | How many at bats did the Yankee with the most walks in the 1977 regular season have that same season?                                                                                                                                                                                                                                                                                                                                                                                                                                                                                                                                                                                                                                                      | 606                                                                                                                                                                                                                                                            |\n",
    "| 3cef3a44-215e-4aed-8e3f-b1e3f08063b7   | I'm making a grocery list for my mom, but she's a professor of botany and she's a real stickler when it comes to categorizing things. I need to add different foods to different categories on the grocery list, but if I make a mistake, she won't buy anything inserted in the wrong category. Here's the list I have so far: <br><br> milk, eggs, flour, whole bean coffee, Oreos, sweet potatoes, fresh basil, plums, green beans, rice, corn, bell pepper, whole allspice, acorns, broccoli, celery, zucchini, lettuce, peanuts <br><br> I need to make headings for the fruits and vegetables. Could you please create a list of just the vegetables from my list? If you could do that, then I can figure out how to categorize the rest of the list into the appropriate categories. But remember that my mom is a real stickler, so make sure that no botanical fruits end up on the vegetable list, or she won't get them when she's at the store. Please alphabetize the list of vegetables, and place each item in a comma separated list. | Oreos, bell pepper, broccoli, celery, eggs, flour, fresh basil, green beans, lettuce, milk, rice, whole allspice, whole bean coffee                                                                                                                             |\n",
    "| 305ac316-eef6-4446-960a-92d80d542f82   | Who did the actor who played Ray in the Polish-language version of Everybody Loves Raymond play in Magda M.? Give only the first name.                                                                                                                                                                                                                                                                                                                                                                                                                                                                                                                                                                                                                       | Wojciech                                                                                                                                                                                                                                                       |\n",
    "| 2d83110e-a098-4ebb-9987-066c06fa42d0   | .rewsna eht sa \"tfel\" drow eht fo etisoppo eht etirw ,ecnetnes siht dnatsrednu uoy fI                                                                                                                                                                                                                                                                                                                                                                                                                                                                                                                                                                                                                                                                                                                | right                                                                                                                                                                                                                                                           |\n",
    "| 1f975693-876d-457b-a649-393859e79bf3   | Hi, I was out sick from my classes on Friday, so I'm trying to figure out what I need to study for my Calculus mid-term next week. My friend from class sent me an audio recording of Professor Willowbrook giving out the recommended reading for the test, but my headphones are broken :( <br><br> Could you please listen to the recording for me and tell me the page numbers I'm supposed to go over? I've attached a file called Homework.mp3 that has the recording. Please provide just the page numbers as a comma-delimited list. And please provide the list in ascending order.                                                                                                                                                                                | 12,15,18,20,22                                                                                                                                                                                                                                                  |\n"
   ]
  },
  {
   "cell_type": "code",
   "execution_count": 9,
   "id": "6ee0ef22-65de-4b70-844e-2845a99f1411",
   "metadata": {},
   "outputs": [
    {
     "data": {
      "text/html": [
       "<img src=\"https://cdn-uploads.huggingface.co/production/uploads/noauth/n479xeb-NuXDuKXhYZaYo.webp\"/>"
      ],
      "text/plain": [
       "<IPython.core.display.Image object>"
      ]
     },
     "execution_count": 9,
     "metadata": {},
     "output_type": "execute_result"
    }
   ],
   "source": [
    "from IPython.display import Image\n",
    "Image(url=\"https://cdn-uploads.huggingface.co/production/uploads/noauth/n479xeb-NuXDuKXhYZaYo.webp\")"
   ]
  },
  {
   "cell_type": "code",
   "execution_count": null,
   "id": "50b5b614-f979-4cc0-bde2-69830090c623",
   "metadata": {},
   "outputs": [],
   "source": []
  }
 ],
 "metadata": {
  "kernelspec": {
   "display_name": "Python 3 (ipykernel)",
   "language": "python",
   "name": "python3"
  },
  "language_info": {
   "codemirror_mode": {
    "name": "ipython",
    "version": 3
   },
   "file_extension": ".py",
   "mimetype": "text/x-python",
   "name": "python",
   "nbconvert_exporter": "python",
   "pygments_lexer": "ipython3",
   "version": "3.10.17"
  }
 },
 "nbformat": 4,
 "nbformat_minor": 5
}
